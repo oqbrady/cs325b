{
 "cells": [
  {
   "cell_type": "code",
   "execution_count": 2,
   "id": "5184830f",
   "metadata": {},
   "outputs": [],
   "source": [
    "from __future__ import print_function, division\n",
    "import os\n",
    "import torch\n",
    "import pandas as pd\n",
    "from skimage import io, transform\n",
    "import numpy as np\n",
    "import matplotlib.pyplot as plt\n",
    "from torch.utils.data import Dataset, DataLoader\n",
    "from torchvision import transforms, utils\n",
    "from sklearn.model_selection import train_test_split\n",
    "from tqdm import tqdm\n",
    "from sklearn.metrics import confusion_matrix\n",
    "from sklearn.metrics import ConfusionMatrixDisplay\n",
    "import xgboost as xgb\n",
    "from torchvision import models\n",
    "from torch import nn\n",
    "from torch import optim"
   ]
  },
  {
   "cell_type": "code",
   "execution_count": 3,
   "id": "fbe18c7d",
   "metadata": {},
   "outputs": [],
   "source": [
    "nan_val = -32768.0\n",
    "device = torch.device(\"cuda\" if torch.cuda.is_available() else \"cpu\")"
   ]
  },
  {
   "cell_type": "code",
   "execution_count": 4,
   "id": "6a81e13b",
   "metadata": {},
   "outputs": [],
   "source": [
    "train_chips = '/home/oqbrady/data/data/chips/train/'\n",
    "val_chips = '/home/oqbrady/data/data/chips/validation/'\n",
    "train_files = os.listdir('/home/oqbrady/data/data/chips/train/')\n",
    "val_scenes = os.listdir(val_chips)\n",
    "train_scences = os.listdir(train_chips)"
   ]
  },
  {
   "cell_type": "code",
   "execution_count": 5,
   "id": "72b41660",
   "metadata": {},
   "outputs": [],
   "source": [
    "inference_scenes = pd.read_csv('inference_scenes.csv')\n",
    "inference = inference_scenes['0'].to_list()"
   ]
  },
  {
   "cell_type": "code",
   "execution_count": 6,
   "id": "3fb305b0",
   "metadata": {},
   "outputs": [],
   "source": [
    "pos_image_path = '/home/oqbrady/data/data/sub_boxes/positives_v3/'\n",
    "neg_image_path = '/home/oqbrady/data/data/sub_boxes/negatives/'"
   ]
  },
  {
   "cell_type": "code",
   "execution_count": 7,
   "id": "9b002701",
   "metadata": {},
   "outputs": [],
   "source": [
    "labels_train = pd.read_csv(\"labels_v4_train.csv\")\n",
    "# labels_val = pd.read_csv(\"labels_v3_val.csv\")"
   ]
  },
  {
   "cell_type": "code",
   "execution_count": 8,
   "id": "11772dda",
   "metadata": {},
   "outputs": [],
   "source": [
    "names = ['bay_mean', 'vh_mean', 'vh_max', 'vv_max', 'vh_min', 'vv_min', 'land', 'NaN', 'label', 'scene', 'chip', 'num']\n",
    "neg_samples = pd.read_csv(\"negative_chip_vals.csv\", names=names)"
   ]
  },
  {
   "cell_type": "code",
   "execution_count": 9,
   "id": "ef88e48a",
   "metadata": {},
   "outputs": [],
   "source": [
    "neg_samples = neg_samples.drop(np.nan)"
   ]
  },
  {
   "cell_type": "code",
   "execution_count": 10,
   "id": "c3795402",
   "metadata": {},
   "outputs": [
    {
     "data": {
      "text/plain": [
       "(1937374, 12)"
      ]
     },
     "execution_count": 10,
     "metadata": {},
     "output_type": "execute_result"
    }
   ],
   "source": [
    "neg_samples.shape"
   ]
  },
  {
   "cell_type": "code",
   "execution_count": 11,
   "id": "ea7cb95e",
   "metadata": {},
   "outputs": [],
   "source": [
    "# bst = xgb.Booster()  # init model\n",
    "# bst.load_model('gbt_v1.model')  # load data\n",
    "# test = neg_samples.drop(labels=['label', 'scene', 'chip', 'num'], axis=1)\n",
    "# dtest = xgb.DMatrix(test)\n",
    "# ypred = bst.predict(dtest)\n",
    "# predictions = ypred > 0.5\n",
    "# neg_samples['preds'] = predictions\n",
    "# pos_neg_samples = neg_samples[neg_samples['preds'] == 1]"
   ]
  },
  {
   "cell_type": "code",
   "execution_count": 12,
   "id": "a406a5d6",
   "metadata": {},
   "outputs": [],
   "source": [
    "pos_neg_samples = pd.read_csv(\"positive_negative_samples.csv\")"
   ]
  },
  {
   "cell_type": "code",
   "execution_count": 13,
   "id": "989d2745",
   "metadata": {},
   "outputs": [],
   "source": [
    "df_gbt = pd.read_csv(\"train_GBT.csv\", names=names[:-3])"
   ]
  },
  {
   "cell_type": "code",
   "execution_count": 14,
   "id": "106363f7",
   "metadata": {},
   "outputs": [],
   "source": [
    "df_means = df_gbt.copy()"
   ]
  },
  {
   "cell_type": "code",
   "execution_count": 15,
   "id": "7ce23ce2",
   "metadata": {},
   "outputs": [
    {
     "data": {
      "text/html": [
       "<div>\n",
       "<style scoped>\n",
       "    .dataframe tbody tr th:only-of-type {\n",
       "        vertical-align: middle;\n",
       "    }\n",
       "\n",
       "    .dataframe tbody tr th {\n",
       "        vertical-align: top;\n",
       "    }\n",
       "\n",
       "    .dataframe thead th {\n",
       "        text-align: right;\n",
       "    }\n",
       "</style>\n",
       "<table border=\"1\" class=\"dataframe\">\n",
       "  <thead>\n",
       "    <tr style=\"text-align: right;\">\n",
       "      <th></th>\n",
       "      <th>bay_mean</th>\n",
       "      <th>vh_mean</th>\n",
       "      <th>vh_max</th>\n",
       "      <th>vv_max</th>\n",
       "      <th>vh_min</th>\n",
       "      <th>vv_min</th>\n",
       "      <th>land</th>\n",
       "      <th>NaN</th>\n",
       "      <th>label</th>\n",
       "    </tr>\n",
       "  </thead>\n",
       "  <tbody>\n",
       "    <tr>\n",
       "      <th>0</th>\n",
       "      <td>-99.964500</td>\n",
       "      <td>-30.477900</td>\n",
       "      <td>-26.203125</td>\n",
       "      <td>-13.328125</td>\n",
       "      <td>-37.12500</td>\n",
       "      <td>-30.203125</td>\n",
       "      <td>0.0</td>\n",
       "      <td>0.0</td>\n",
       "      <td>0.0</td>\n",
       "    </tr>\n",
       "    <tr>\n",
       "      <th>1</th>\n",
       "      <td>-3594.778809</td>\n",
       "      <td>-28.181025</td>\n",
       "      <td>-24.625000</td>\n",
       "      <td>-15.484375</td>\n",
       "      <td>-34.87500</td>\n",
       "      <td>-32.562500</td>\n",
       "      <td>0.0</td>\n",
       "      <td>0.0</td>\n",
       "      <td>0.0</td>\n",
       "    </tr>\n",
       "    <tr>\n",
       "      <th>2</th>\n",
       "      <td>0.000000</td>\n",
       "      <td>0.000000</td>\n",
       "      <td>0.000000</td>\n",
       "      <td>0.000000</td>\n",
       "      <td>0.00000</td>\n",
       "      <td>0.000000</td>\n",
       "      <td>1.0</td>\n",
       "      <td>0.0</td>\n",
       "      <td>0.0</td>\n",
       "    </tr>\n",
       "    <tr>\n",
       "      <th>3</th>\n",
       "      <td>-39.001675</td>\n",
       "      <td>-28.543694</td>\n",
       "      <td>-23.734375</td>\n",
       "      <td>-17.656250</td>\n",
       "      <td>-37.31250</td>\n",
       "      <td>-32.468750</td>\n",
       "      <td>0.0</td>\n",
       "      <td>0.0</td>\n",
       "      <td>0.0</td>\n",
       "    </tr>\n",
       "    <tr>\n",
       "      <th>4</th>\n",
       "      <td>-46.351612</td>\n",
       "      <td>-29.431162</td>\n",
       "      <td>-25.296875</td>\n",
       "      <td>-15.976562</td>\n",
       "      <td>-39.18750</td>\n",
       "      <td>-29.562500</td>\n",
       "      <td>0.0</td>\n",
       "      <td>0.0</td>\n",
       "      <td>0.0</td>\n",
       "    </tr>\n",
       "    <tr>\n",
       "      <th>...</th>\n",
       "      <td>...</td>\n",
       "      <td>...</td>\n",
       "      <td>...</td>\n",
       "      <td>...</td>\n",
       "      <td>...</td>\n",
       "      <td>...</td>\n",
       "      <td>...</td>\n",
       "      <td>...</td>\n",
       "      <td>...</td>\n",
       "    </tr>\n",
       "    <tr>\n",
       "      <th>1807139</th>\n",
       "      <td>-68.119278</td>\n",
       "      <td>-31.918276</td>\n",
       "      <td>-25.437500</td>\n",
       "      <td>-12.796875</td>\n",
       "      <td>-39.28125</td>\n",
       "      <td>-22.750000</td>\n",
       "      <td>0.0</td>\n",
       "      <td>0.0</td>\n",
       "      <td>0.0</td>\n",
       "    </tr>\n",
       "    <tr>\n",
       "      <th>1807140</th>\n",
       "      <td>-117.068878</td>\n",
       "      <td>-28.421625</td>\n",
       "      <td>-24.593750</td>\n",
       "      <td>-19.500000</td>\n",
       "      <td>-35.87500</td>\n",
       "      <td>-35.781250</td>\n",
       "      <td>0.0</td>\n",
       "      <td>0.0</td>\n",
       "      <td>0.0</td>\n",
       "    </tr>\n",
       "    <tr>\n",
       "      <th>1807141</th>\n",
       "      <td>-4764.534180</td>\n",
       "      <td>-32.727139</td>\n",
       "      <td>-27.000000</td>\n",
       "      <td>-21.421875</td>\n",
       "      <td>-38.81250</td>\n",
       "      <td>-35.125000</td>\n",
       "      <td>0.0</td>\n",
       "      <td>0.0</td>\n",
       "      <td>0.0</td>\n",
       "    </tr>\n",
       "    <tr>\n",
       "      <th>1807142</th>\n",
       "      <td>-125.340927</td>\n",
       "      <td>-30.516380</td>\n",
       "      <td>-25.765625</td>\n",
       "      <td>-13.593750</td>\n",
       "      <td>-37.43750</td>\n",
       "      <td>-27.921875</td>\n",
       "      <td>0.0</td>\n",
       "      <td>0.0</td>\n",
       "      <td>0.0</td>\n",
       "    </tr>\n",
       "    <tr>\n",
       "      <th>1807143</th>\n",
       "      <td>-51.090626</td>\n",
       "      <td>-32768.000000</td>\n",
       "      <td>-32768.000000</td>\n",
       "      <td>-32768.000000</td>\n",
       "      <td>-32768.00000</td>\n",
       "      <td>-32768.000000</td>\n",
       "      <td>0.0</td>\n",
       "      <td>1.0</td>\n",
       "      <td>0.0</td>\n",
       "    </tr>\n",
       "  </tbody>\n",
       "</table>\n",
       "<p>1807144 rows × 9 columns</p>\n",
       "</div>"
      ],
      "text/plain": [
       "            bay_mean       vh_mean        vh_max        vv_max       vh_min  \\\n",
       "0         -99.964500    -30.477900    -26.203125    -13.328125    -37.12500   \n",
       "1       -3594.778809    -28.181025    -24.625000    -15.484375    -34.87500   \n",
       "2           0.000000      0.000000      0.000000      0.000000      0.00000   \n",
       "3         -39.001675    -28.543694    -23.734375    -17.656250    -37.31250   \n",
       "4         -46.351612    -29.431162    -25.296875    -15.976562    -39.18750   \n",
       "...              ...           ...           ...           ...          ...   \n",
       "1807139   -68.119278    -31.918276    -25.437500    -12.796875    -39.28125   \n",
       "1807140  -117.068878    -28.421625    -24.593750    -19.500000    -35.87500   \n",
       "1807141 -4764.534180    -32.727139    -27.000000    -21.421875    -38.81250   \n",
       "1807142  -125.340927    -30.516380    -25.765625    -13.593750    -37.43750   \n",
       "1807143   -51.090626 -32768.000000 -32768.000000 -32768.000000 -32768.00000   \n",
       "\n",
       "               vv_min  land  NaN  label  \n",
       "0          -30.203125   0.0  0.0    0.0  \n",
       "1          -32.562500   0.0  0.0    0.0  \n",
       "2            0.000000   1.0  0.0    0.0  \n",
       "3          -32.468750   0.0  0.0    0.0  \n",
       "4          -29.562500   0.0  0.0    0.0  \n",
       "...               ...   ...  ...    ...  \n",
       "1807139    -22.750000   0.0  0.0    0.0  \n",
       "1807140    -35.781250   0.0  0.0    0.0  \n",
       "1807141    -35.125000   0.0  0.0    0.0  \n",
       "1807142    -27.921875   0.0  0.0    0.0  \n",
       "1807143 -32768.000000   0.0  1.0    0.0  \n",
       "\n",
       "[1807144 rows x 9 columns]"
      ]
     },
     "execution_count": 15,
     "metadata": {},
     "output_type": "execute_result"
    }
   ],
   "source": [
    "df_gbt"
   ]
  },
  {
   "cell_type": "code",
   "execution_count": 16,
   "id": "9f8bc488",
   "metadata": {},
   "outputs": [
    {
     "data": {
      "text/plain": [
       "1674.5504056349082"
      ]
     },
     "execution_count": 16,
     "metadata": {},
     "output_type": "execute_result"
    }
   ],
   "source": [
    "df_means[(df_means['NaN'] == 0)]['bay_mean'].std()"
   ]
  },
  {
   "cell_type": "code",
   "execution_count": 17,
   "id": "0db5efc3",
   "metadata": {},
   "outputs": [
    {
     "data": {
      "text/plain": [
       "1674.5504056349082"
      ]
     },
     "execution_count": 17,
     "metadata": {},
     "output_type": "execute_result"
    }
   ],
   "source": [
    "df_means[(df_means['NaN'] == 0)]['bay_mean'].std()"
   ]
  },
  {
   "cell_type": "code",
   "execution_count": 18,
   "id": "37c07e69",
   "metadata": {},
   "outputs": [],
   "source": [
    "min_vh = df_means[df_means['vh_min'] != nan_val]['vh_min'].min()\n",
    "min_vv = df_means[df_means['vv_min'] != nan_val]['vv_min'].min()\n",
    "min_bay = df_means[(df_means['bay_mean'] != nan_val) & (df_means['NaN'] == 0)]['bay_mean'].min()"
   ]
  },
  {
   "cell_type": "code",
   "execution_count": 19,
   "id": "62319756",
   "metadata": {},
   "outputs": [],
   "source": [
    "mean_vh = df_means[df_means['NaN'] != 1]['vh_mean'].mean()\n",
    "mean_vv = -15 #df_means[df_means['NaN'] != 1]['vv_mean'].mean()\n",
    "mean_bay = df_means[df_means['NaN'] != 1]['bay_mean'].mean()"
   ]
  },
  {
   "cell_type": "code",
   "execution_count": 20,
   "id": "df471865",
   "metadata": {},
   "outputs": [],
   "source": [
    "std_vh = 7.4\n",
    "std_vv = 5.15\n",
    "std_bay = 1600"
   ]
  },
  {
   "cell_type": "code",
   "execution_count": 21,
   "id": "789b79ad",
   "metadata": {},
   "outputs": [],
   "source": [
    "image_paths = []\n",
    "labels = []"
   ]
  },
  {
   "cell_type": "code",
   "execution_count": 22,
   "id": "d9399e60",
   "metadata": {},
   "outputs": [],
   "source": [
    "# base = neg_image_path\n",
    "# for i in range(pos_neg_samples.shape[0]):\n",
    "#     row = pos_neg_samples.iloc[i]\n",
    "#     fl = base + row['scene'] + '_' + str(row['chip']) + '_' + str(row['num'])\n",
    "#     image_paths.append(fl)\n",
    "#     labels.append(0)"
   ]
  },
  {
   "cell_type": "code",
   "execution_count": 23,
   "id": "3d6fca8f",
   "metadata": {},
   "outputs": [],
   "source": [
    "base = pos_image_path\n",
    "for i in range(labels_train.shape[0]):\n",
    "    row = labels_train.iloc[i]\n",
    "    fl = base + row['scene'] + '_' + str(row['chip']) + '_' + str(row['num'])\n",
    "    image_paths.append(fl)\n",
    "    labels.append(row[['jitter_x', 'jitter_y']])"
   ]
  },
  {
   "cell_type": "code",
   "execution_count": 24,
   "id": "56f2981a",
   "metadata": {},
   "outputs": [],
   "source": [
    "# base = '/home/oqbrady/data/data/sub_boxes/inference/'\n",
    "# images = [base + x for x in os.listdir(base)]\n",
    "# image_paths.extend(images)\n",
    "# labels.extend([0] * len(images))"
   ]
  },
  {
   "cell_type": "code",
   "execution_count": 25,
   "id": "e11a21e4",
   "metadata": {},
   "outputs": [],
   "source": [
    "class SARImagery(Dataset):\n",
    "    \"\"\"Face Landmarks dataset.\"\"\"\n",
    "\n",
    "    def __init__(self, image_paths, labels, transform=None):\n",
    "        \"\"\"\n",
    "        Args:\n",
    "            csv_file (string): Path to the csv file with annotations.\n",
    "            root_dir (string): Directory with all the images.\n",
    "            transform (callable, optional): Optional transform to be applied\n",
    "                on a sample.\n",
    "        \"\"\"\n",
    "        self.images = image_paths\n",
    "        self.labels = labels\n",
    "        self.transform = transform\n",
    "\n",
    "    def __len__(self):\n",
    "        return len(self.labels)\n",
    "\n",
    "    def __getitem__(self, idx):\n",
    "        if torch.is_tensor(idx):\n",
    "            idx = idx.tolist()\n",
    "\n",
    "        img_name = self.images[idx]\n",
    "        num = img_name.split(\"_\")[-1]\n",
    "        vh = np.load(img_name + '/' + num + '_vh.npy')\n",
    "        vv = np.load(img_name + '/' + num + '_vv.npy')\n",
    "        bay = np.load(img_name + '/' + num + '_bay.npy')\n",
    "        image = np.array((vv, vh, bay))\n",
    "        label = self.labels[idx]\n",
    "\n",
    "        if self.transform:\n",
    "            image = self.transform(image)\n",
    "        image = torch.from_numpy(image)\n",
    "        if torch.isnan(image).any():\n",
    "            image= torch.zeros((3, 50, 50))\n",
    "        return (image.to(device), torch.tensor(label).to(device))"
   ]
  },
  {
   "cell_type": "code",
   "execution_count": 26,
   "id": "3c470606",
   "metadata": {},
   "outputs": [],
   "source": [
    "class drop_nans(object):\n",
    "    def __call__(self, image):\n",
    "        image[0, :, :][image[0, :, :] == -32768.] = min_vh - 10\n",
    "        image[1, :, :][image[1, :, :] == -32768.] = min_vv - 10\n",
    "        image[2, :, :][image[2, :, :] == -32768.] = min_bay - 100\n",
    "        return image\n",
    "\n",
    "class norm(object):\n",
    "    def __call__(self, image):\n",
    "        image[0, :, :] = (image[0, :, :] - mean_vh) / std_vh\n",
    "        image[1, :, :] = (image[1, :, :] - mean_vv) / std_vv\n",
    "        image[2, :, :] = (image[2, :, :] - mean_bay) / std_bay\n",
    "        return image"
   ]
  },
  {
   "cell_type": "code",
   "execution_count": 27,
   "id": "d96c2908",
   "metadata": {},
   "outputs": [],
   "source": [
    "transform = transforms.Compose(\n",
    "    [drop_nans(),\n",
    "    norm()])"
   ]
  },
  {
   "cell_type": "code",
   "execution_count": 28,
   "id": "7b674905",
   "metadata": {},
   "outputs": [],
   "source": [
    "dataset = SARImagery(image_paths, labels, transform=transform)"
   ]
  },
  {
   "cell_type": "code",
   "execution_count": 29,
   "id": "af45317b",
   "metadata": {},
   "outputs": [],
   "source": [
    "train_len = int(len(dataset) * 0.85)\n",
    "val_len = len(dataset) - train_len"
   ]
  },
  {
   "cell_type": "code",
   "execution_count": 30,
   "id": "67958bb3",
   "metadata": {},
   "outputs": [
    {
     "name": "stdout",
     "output_type": "stream",
     "text": [
      "39627 6993\n"
     ]
    }
   ],
   "source": [
    "print(train_len, val_len)"
   ]
  },
  {
   "cell_type": "code",
   "execution_count": 31,
   "id": "a0132bde",
   "metadata": {},
   "outputs": [],
   "source": [
    "train_data, val_data = torch.utils.data.random_split(dataset, lengths=[train_len,val_len])"
   ]
  },
  {
   "cell_type": "code",
   "execution_count": 32,
   "id": "de2b0135",
   "metadata": {},
   "outputs": [],
   "source": [
    "labels_np = np.array(labels)"
   ]
  },
  {
   "cell_type": "code",
   "execution_count": 33,
   "id": "4347812d",
   "metadata": {},
   "outputs": [],
   "source": [
    "# class_counts = np.unique(labels_np, return_counts=True)[1]"
   ]
  },
  {
   "cell_type": "code",
   "execution_count": 34,
   "id": "f93f4d60",
   "metadata": {},
   "outputs": [],
   "source": [
    "# class_percent = class_counts / labels_np.shape[0]"
   ]
  },
  {
   "cell_type": "code",
   "execution_count": 35,
   "id": "f21b62bd",
   "metadata": {},
   "outputs": [],
   "source": [
    "# weights = 1 / class_percent"
   ]
  },
  {
   "cell_type": "code",
   "execution_count": 36,
   "id": "5b70caf9",
   "metadata": {},
   "outputs": [],
   "source": [
    "# class_percent"
   ]
  },
  {
   "cell_type": "code",
   "execution_count": 37,
   "id": "9a60c8e4",
   "metadata": {
    "scrolled": true
   },
   "outputs": [
    {
     "data": {
      "text/plain": [
       "ResNet(\n",
       "  (conv1): Conv2d(3, 64, kernel_size=(7, 7), stride=(2, 2), padding=(3, 3), bias=False)\n",
       "  (bn1): BatchNorm2d(64, eps=1e-05, momentum=0.1, affine=True, track_running_stats=True)\n",
       "  (relu): ReLU(inplace=True)\n",
       "  (maxpool): MaxPool2d(kernel_size=3, stride=2, padding=1, dilation=1, ceil_mode=False)\n",
       "  (layer1): Sequential(\n",
       "    (0): BasicBlock(\n",
       "      (conv1): Conv2d(64, 64, kernel_size=(3, 3), stride=(1, 1), padding=(1, 1), bias=False)\n",
       "      (bn1): BatchNorm2d(64, eps=1e-05, momentum=0.1, affine=True, track_running_stats=True)\n",
       "      (relu): ReLU(inplace=True)\n",
       "      (conv2): Conv2d(64, 64, kernel_size=(3, 3), stride=(1, 1), padding=(1, 1), bias=False)\n",
       "      (bn2): BatchNorm2d(64, eps=1e-05, momentum=0.1, affine=True, track_running_stats=True)\n",
       "    )\n",
       "    (1): BasicBlock(\n",
       "      (conv1): Conv2d(64, 64, kernel_size=(3, 3), stride=(1, 1), padding=(1, 1), bias=False)\n",
       "      (bn1): BatchNorm2d(64, eps=1e-05, momentum=0.1, affine=True, track_running_stats=True)\n",
       "      (relu): ReLU(inplace=True)\n",
       "      (conv2): Conv2d(64, 64, kernel_size=(3, 3), stride=(1, 1), padding=(1, 1), bias=False)\n",
       "      (bn2): BatchNorm2d(64, eps=1e-05, momentum=0.1, affine=True, track_running_stats=True)\n",
       "    )\n",
       "  )\n",
       "  (layer2): Sequential(\n",
       "    (0): BasicBlock(\n",
       "      (conv1): Conv2d(64, 128, kernel_size=(3, 3), stride=(2, 2), padding=(1, 1), bias=False)\n",
       "      (bn1): BatchNorm2d(128, eps=1e-05, momentum=0.1, affine=True, track_running_stats=True)\n",
       "      (relu): ReLU(inplace=True)\n",
       "      (conv2): Conv2d(128, 128, kernel_size=(3, 3), stride=(1, 1), padding=(1, 1), bias=False)\n",
       "      (bn2): BatchNorm2d(128, eps=1e-05, momentum=0.1, affine=True, track_running_stats=True)\n",
       "      (downsample): Sequential(\n",
       "        (0): Conv2d(64, 128, kernel_size=(1, 1), stride=(2, 2), bias=False)\n",
       "        (1): BatchNorm2d(128, eps=1e-05, momentum=0.1, affine=True, track_running_stats=True)\n",
       "      )\n",
       "    )\n",
       "    (1): BasicBlock(\n",
       "      (conv1): Conv2d(128, 128, kernel_size=(3, 3), stride=(1, 1), padding=(1, 1), bias=False)\n",
       "      (bn1): BatchNorm2d(128, eps=1e-05, momentum=0.1, affine=True, track_running_stats=True)\n",
       "      (relu): ReLU(inplace=True)\n",
       "      (conv2): Conv2d(128, 128, kernel_size=(3, 3), stride=(1, 1), padding=(1, 1), bias=False)\n",
       "      (bn2): BatchNorm2d(128, eps=1e-05, momentum=0.1, affine=True, track_running_stats=True)\n",
       "    )\n",
       "  )\n",
       "  (layer3): Sequential(\n",
       "    (0): BasicBlock(\n",
       "      (conv1): Conv2d(128, 256, kernel_size=(3, 3), stride=(2, 2), padding=(1, 1), bias=False)\n",
       "      (bn1): BatchNorm2d(256, eps=1e-05, momentum=0.1, affine=True, track_running_stats=True)\n",
       "      (relu): ReLU(inplace=True)\n",
       "      (conv2): Conv2d(256, 256, kernel_size=(3, 3), stride=(1, 1), padding=(1, 1), bias=False)\n",
       "      (bn2): BatchNorm2d(256, eps=1e-05, momentum=0.1, affine=True, track_running_stats=True)\n",
       "      (downsample): Sequential(\n",
       "        (0): Conv2d(128, 256, kernel_size=(1, 1), stride=(2, 2), bias=False)\n",
       "        (1): BatchNorm2d(256, eps=1e-05, momentum=0.1, affine=True, track_running_stats=True)\n",
       "      )\n",
       "    )\n",
       "    (1): BasicBlock(\n",
       "      (conv1): Conv2d(256, 256, kernel_size=(3, 3), stride=(1, 1), padding=(1, 1), bias=False)\n",
       "      (bn1): BatchNorm2d(256, eps=1e-05, momentum=0.1, affine=True, track_running_stats=True)\n",
       "      (relu): ReLU(inplace=True)\n",
       "      (conv2): Conv2d(256, 256, kernel_size=(3, 3), stride=(1, 1), padding=(1, 1), bias=False)\n",
       "      (bn2): BatchNorm2d(256, eps=1e-05, momentum=0.1, affine=True, track_running_stats=True)\n",
       "    )\n",
       "  )\n",
       "  (layer4): Sequential(\n",
       "    (0): BasicBlock(\n",
       "      (conv1): Conv2d(256, 512, kernel_size=(3, 3), stride=(2, 2), padding=(1, 1), bias=False)\n",
       "      (bn1): BatchNorm2d(512, eps=1e-05, momentum=0.1, affine=True, track_running_stats=True)\n",
       "      (relu): ReLU(inplace=True)\n",
       "      (conv2): Conv2d(512, 512, kernel_size=(3, 3), stride=(1, 1), padding=(1, 1), bias=False)\n",
       "      (bn2): BatchNorm2d(512, eps=1e-05, momentum=0.1, affine=True, track_running_stats=True)\n",
       "      (downsample): Sequential(\n",
       "        (0): Conv2d(256, 512, kernel_size=(1, 1), stride=(2, 2), bias=False)\n",
       "        (1): BatchNorm2d(512, eps=1e-05, momentum=0.1, affine=True, track_running_stats=True)\n",
       "      )\n",
       "    )\n",
       "    (1): BasicBlock(\n",
       "      (conv1): Conv2d(512, 512, kernel_size=(3, 3), stride=(1, 1), padding=(1, 1), bias=False)\n",
       "      (bn1): BatchNorm2d(512, eps=1e-05, momentum=0.1, affine=True, track_running_stats=True)\n",
       "      (relu): ReLU(inplace=True)\n",
       "      (conv2): Conv2d(512, 512, kernel_size=(3, 3), stride=(1, 1), padding=(1, 1), bias=False)\n",
       "      (bn2): BatchNorm2d(512, eps=1e-05, momentum=0.1, affine=True, track_running_stats=True)\n",
       "    )\n",
       "  )\n",
       "  (avgpool): AdaptiveAvgPool2d(output_size=(1, 1))\n",
       "  (fc): Linear(in_features=512, out_features=2, bias=True)\n",
       ")"
      ]
     },
     "execution_count": 37,
     "metadata": {},
     "output_type": "execute_result"
    }
   ],
   "source": [
    "net = models.resnet18(pretrained=True)\n",
    "net.fc = nn.Linear(in_features=512, out_features=2, bias=True)\n",
    "net.to(device)"
   ]
  },
  {
   "cell_type": "markdown",
   "id": "c4ca9bf7",
   "metadata": {},
   "source": [
    "## Dataset Prep"
   ]
  },
  {
   "cell_type": "code",
   "execution_count": 39,
   "id": "18984a17",
   "metadata": {},
   "outputs": [],
   "source": [
    "batch_size = 8\n",
    "trainloader = torch.utils.data.DataLoader(train_data, batch_size=batch_size,\n",
    "                                          shuffle=True)\n",
    "\n",
    "valloader = torch.utils.data.DataLoader(val_data, batch_size=batch_size,\n",
    "                                         shuffle=True)"
   ]
  },
  {
   "cell_type": "code",
   "execution_count": 40,
   "id": "f79db93a",
   "metadata": {},
   "outputs": [
    {
     "name": "stdout",
     "output_type": "stream",
     "text": [
      "39627 6993\n"
     ]
    }
   ],
   "source": [
    "print(len(train_data), len(val_data))"
   ]
  },
  {
   "cell_type": "code",
   "execution_count": 41,
   "id": "a79d74a4",
   "metadata": {},
   "outputs": [],
   "source": [
    "# w = torch.tensor(weights).to(device)\n",
    "criterion = nn.L1Loss()\n",
    "optimizer = optim.Adam(net.parameters(), lr=0.0001)"
   ]
  },
  {
   "cell_type": "code",
   "execution_count": 42,
   "id": "a828b09d",
   "metadata": {},
   "outputs": [],
   "source": [
    "best_model = \"\"\n",
    "min_val = 1"
   ]
  },
  {
   "cell_type": "code",
   "execution_count": 43,
   "id": "adf62c71",
   "metadata": {},
   "outputs": [],
   "source": [
    "train_l = []\n",
    "val_l = []"
   ]
  },
  {
   "cell_type": "code",
   "execution_count": 44,
   "id": "34e38584",
   "metadata": {},
   "outputs": [
    {
     "name": "stderr",
     "output_type": "stream",
     "text": [
      "Clipping input data to the valid range for imshow with RGB data ([0..1] for floats or [0..255] for integers).\n"
     ]
    },
    {
     "name": "stdout",
     "output_type": "stream",
     "text": [
      "tensor([-5, 21], device='cuda:0')\n"
     ]
    },
    {
     "data": {
      "text/plain": [
       "<matplotlib.image.AxesImage at 0x7f8a8d791590>"
      ]
     },
     "execution_count": 44,
     "metadata": {},
     "output_type": "execute_result"
    },
    {
     "data": {
      "image/png": "[encoded data removed]",
      "text/plain": [
       "<Figure size 432x288 with 1 Axes>"
      ]
     },
     "metadata": {
      "needs_background": "light"
     },
     "output_type": "display_data"
    }
   ],
   "source": [
    "print(dataset[5][1])\n",
    "plt.imshow(dataset[5][0].detach().cpu().numpy().transpose(1, 2, 0), cmap='gray')"
   ]
  },
  {
   "cell_type": "code",
   "execution_count": 46,
   "id": "7cd9ea54",
   "metadata": {},
   "outputs": [],
   "source": [
    "def jitter_score(preds, real):\n",
    "    correct = 0\n",
    "    total = 0\n",
    "    for x, y in zip(preds, real):\n",
    "        if ((x[0] - y[0])**2 + (x[1] - y[1])**2)**(1/2) < 20:\n",
    "            correct += 1\n",
    "        total += 1\n",
    "    return correct / total"
   ]
  },
  {
   "cell_type": "code",
   "execution_count": 49,
   "id": "3cf2c710",
   "metadata": {},
   "outputs": [
    {
     "name": "stdout",
     "output_type": "stream",
     "text": [
      "HEY\n"
     ]
    }
   ],
   "source": [
    "print(\"HEY\")"
   ]
  },
  {
   "cell_type": "code",
   "execution_count": 50,
   "id": "af67baa2",
   "metadata": {},
   "outputs": [
    {
     "name": "stderr",
     "output_type": "stream",
     "text": [
      "1000it [08:13,  2.15it/s]"
     ]
    },
    {
     "name": "stdout",
     "output_type": "stream",
     "text": [
      "[5,  1000] loss: 1.014\n"
     ]
    },
    {
     "name": "stderr",
     "output_type": "stream",
     "text": [
      "2000it [16:23,  2.15it/s]"
     ]
    },
    {
     "name": "stdout",
     "output_type": "stream",
     "text": [
      "[5,  2000] loss: 1.053\n"
     ]
    },
    {
     "name": "stderr",
     "output_type": "stream",
     "text": [
      "3000it [24:34,  2.04it/s]"
     ]
    },
    {
     "name": "stdout",
     "output_type": "stream",
     "text": [
      "[5,  3000] loss: 1.053\n"
     ]
    },
    {
     "name": "stderr",
     "output_type": "stream",
     "text": [
      "4000it [32:38,  2.39it/s]"
     ]
    },
    {
     "name": "stdout",
     "output_type": "stream",
     "text": [
      "[5,  4000] loss: 1.047\n"
     ]
    },
    {
     "name": "stderr",
     "output_type": "stream",
     "text": [
      "4954it [40:14,  2.05it/s]\n"
     ]
    },
    {
     "name": "stdout",
     "output_type": "stream",
     "text": [
      "val_loss 1.290619894163949\n",
      "[[ -2.1331544   21.49863   ]\n",
      " [-16.939516   -14.3646755 ]\n",
      " [  9.318257   -10.298724  ]\n",
      " [ -8.528916    17.10138   ]\n",
      " [ 19.350798     0.9096161 ]\n",
      " [-15.540212   -22.833195  ]\n",
      " [ -9.203794   -13.295824  ]\n",
      " [  5.9612575  -19.201874  ]\n",
      " [  7.2098804   22.02678   ]\n",
      " [ 23.108591    18.066563  ]\n",
      " [ 16.90541      3.2874417 ]\n",
      " [-14.406173   -21.27064   ]\n",
      " [  4.638288   -23.360575  ]\n",
      " [ 15.914397    -7.676433  ]\n",
      " [-15.0445795   16.24173   ]\n",
      " [-11.587858    -9.960508  ]\n",
      " [ 19.85576     10.350042  ]\n",
      " [-10.721046    -7.478467  ]\n",
      " [-14.663698    -6.915161  ]\n",
      " [ 19.817118    -0.14908466]]\n",
      "[[ -2  24]\n",
      " [-22 -15]\n",
      " [ 11 -10]\n",
      " [ -8  18]\n",
      " [ 20   0]\n",
      " [-16 -23]\n",
      " [-13 -13]\n",
      " [  7 -20]\n",
      " [ 10  24]\n",
      " [ 23  20]\n",
      " [ 16   2]\n",
      " [-15 -23]\n",
      " [  7 -24]\n",
      " [ 17  -9]\n",
      " [-17  13]\n",
      " [-12 -11]\n",
      " [ 24   8]\n",
      " [-10 -12]\n",
      " [-16  -8]\n",
      " [ 22  -1]]\n",
      "Val accuracy 0.9971399971399971\n"
     ]
    },
    {
     "name": "stderr",
     "output_type": "stream",
     "text": [
      "1000it [07:03,  2.95it/s]"
     ]
    },
    {
     "name": "stdout",
     "output_type": "stream",
     "text": [
      "[6,  1000] loss: 1.014\n"
     ]
    },
    {
     "name": "stderr",
     "output_type": "stream",
     "text": [
      "2000it [13:41,  2.51it/s]"
     ]
    },
    {
     "name": "stdout",
     "output_type": "stream",
     "text": [
      "[6,  2000] loss: 0.997\n"
     ]
    },
    {
     "name": "stderr",
     "output_type": "stream",
     "text": [
      "3000it [20:06,  2.25it/s]"
     ]
    },
    {
     "name": "stdout",
     "output_type": "stream",
     "text": [
      "[6,  3000] loss: 0.997\n"
     ]
    },
    {
     "name": "stderr",
     "output_type": "stream",
     "text": [
      "4000it [26:42,  2.47it/s]"
     ]
    },
    {
     "name": "stdout",
     "output_type": "stream",
     "text": [
      "[6,  4000] loss: 1.000\n"
     ]
    },
    {
     "name": "stderr",
     "output_type": "stream",
     "text": [
      "4954it [32:57,  2.51it/s]\n"
     ]
    },
    {
     "name": "stdout",
     "output_type": "stream",
     "text": [
      "val_loss 1.338409605366843\n",
      "[[ 20.935076    -4.2798405 ]\n",
      " [ -7.4807143  -11.671401  ]\n",
      " [-12.19886     -7.917901  ]\n",
      " [-12.8612     -11.21167   ]\n",
      " [ 17.162006     1.9231193 ]\n",
      " [ -0.59452677  -5.8057966 ]\n",
      " [ 11.012681    -1.6157026 ]\n",
      " [  2.0218666  -10.760457  ]\n",
      " [-23.039219   -22.048357  ]\n",
      " [-19.725832     5.16402   ]\n",
      " [-22.072838    22.384165  ]\n",
      " [ 19.419043    15.948017  ]\n",
      " [ 14.801757   -11.014196  ]\n",
      " [  0.2439298  -19.5501    ]\n",
      " [-17.95037      9.121357  ]\n",
      " [  3.992044   -19.997217  ]\n",
      " [ 13.893529   -17.83427   ]\n",
      " [ 23.113749     0.5629507 ]\n",
      " [-10.387123     8.080397  ]\n",
      " [ 20.580652     3.624008  ]]\n",
      "[[ 21  -5]\n",
      " [ -8 -14]\n",
      " [-17  -8]\n",
      " [-14 -12]\n",
      " [ 20   1]\n",
      " [ -1  -7]\n",
      " [ 10  -2]\n",
      " [  2 -12]\n",
      " [-25 -23]\n",
      " [-22   5]\n",
      " [-24  24]\n",
      " [ 23  16]\n",
      " [ 18 -12]\n",
      " [ -1 -21]\n",
      " [-20  11]\n",
      " [  4 -21]\n",
      " [ 15 -19]\n",
      " [ 24   1]\n",
      " [-11   8]\n",
      " [ 24  -1]]\n",
      "Val accuracy 0.9974259974259975\n"
     ]
    },
    {
     "name": "stderr",
     "output_type": "stream",
     "text": [
      "1000it [06:08,  2.83it/s]"
     ]
    },
    {
     "name": "stdout",
     "output_type": "stream",
     "text": [
      "[7,  1000] loss: 0.965\n"
     ]
    },
    {
     "name": "stderr",
     "output_type": "stream",
     "text": [
      "2000it [12:02,  2.78it/s]"
     ]
    },
    {
     "name": "stdout",
     "output_type": "stream",
     "text": [
      "[7,  2000] loss: 0.979\n"
     ]
    },
    {
     "name": "stderr",
     "output_type": "stream",
     "text": [
      "3000it [17:55,  2.84it/s]"
     ]
    },
    {
     "name": "stdout",
     "output_type": "stream",
     "text": [
      "[7,  3000] loss: 0.974\n"
     ]
    },
    {
     "name": "stderr",
     "output_type": "stream",
     "text": [
      "4000it [23:49,  2.79it/s]"
     ]
    },
    {
     "name": "stdout",
     "output_type": "stream",
     "text": [
      "[7,  4000] loss: 0.965\n"
     ]
    },
    {
     "name": "stderr",
     "output_type": "stream",
     "text": [
      "4954it [29:38,  2.79it/s]\n"
     ]
    },
    {
     "name": "stdout",
     "output_type": "stream",
     "text": [
      "val_loss 1.359261661529541\n",
      "[[-17.474628   -21.09754   ]\n",
      " [-18.973776    17.201223  ]\n",
      " [-21.146816    -9.164984  ]\n",
      " [-22.685741    -4.6532645 ]\n",
      " [-19.38539    -17.246223  ]\n",
      " [ 16.296543   -18.107775  ]\n",
      " [ 15.454194     1.4931107 ]\n",
      " [-10.054937    20.449768  ]\n",
      " [ 12.899095    14.242827  ]\n",
      " [ -2.9531705  -22.601063  ]\n",
      " [-17.17755    -21.98384   ]\n",
      " [ -2.961491    18.812275  ]\n",
      " [ -6.8321643   -2.3222108 ]\n",
      " [ 22.656805     0.12737001]\n",
      " [ -5.6285043   16.155216  ]\n",
      " [ -9.660653    11.340687  ]\n",
      " [-21.112501     9.06869   ]\n",
      " [-19.728853    17.195847  ]\n",
      " [-23.770512    19.48505   ]\n",
      " [-14.420861     8.436209  ]]\n",
      "[[-20 -22]\n",
      " [-20  19]\n",
      " [-23 -10]\n",
      " [-24  -4]\n",
      " [-25 -18]\n",
      " [ 17 -20]\n",
      " [ 19   1]\n",
      " [-10  22]\n",
      " [ 14  14]\n",
      " [ -4 -23]\n",
      " [-18 -22]\n",
      " [ -3  20]\n",
      " [ -7  -3]\n",
      " [ 23   0]\n",
      " [ -5  18]\n",
      " [-10  12]\n",
      " [-22  11]\n",
      " [-25  20]\n",
      " [-24  22]\n",
      " [-15  10]]\n",
      "Val accuracy 0.9964249964249964\n"
     ]
    },
    {
     "name": "stderr",
     "output_type": "stream",
     "text": [
      "1000it [05:54,  2.83it/s]"
     ]
    },
    {
     "name": "stdout",
     "output_type": "stream",
     "text": [
      "[8,  1000] loss: 0.933\n"
     ]
    },
    {
     "name": "stderr",
     "output_type": "stream",
     "text": [
      "2000it [11:49,  2.82it/s]"
     ]
    },
    {
     "name": "stdout",
     "output_type": "stream",
     "text": [
      "[8,  2000] loss: 0.945\n"
     ]
    },
    {
     "name": "stderr",
     "output_type": "stream",
     "text": [
      "3000it [17:45,  2.83it/s]"
     ]
    },
    {
     "name": "stdout",
     "output_type": "stream",
     "text": [
      "[8,  3000] loss: 0.937\n"
     ]
    },
    {
     "name": "stderr",
     "output_type": "stream",
     "text": [
      "4000it [23:52,  2.84it/s]"
     ]
    },
    {
     "name": "stdout",
     "output_type": "stream",
     "text": [
      "[8,  4000] loss: 0.928\n"
     ]
    },
    {
     "name": "stderr",
     "output_type": "stream",
     "text": [
      "4954it [29:29,  2.80it/s]\n"
     ]
    },
    {
     "name": "stdout",
     "output_type": "stream",
     "text": [
      "val_loss 1.2302291751589094\n",
      "[[-18.89424     21.160168  ]\n",
      " [  0.33724314 -18.698475  ]\n",
      " [-11.960252   -22.280334  ]\n",
      " [ 10.758389    16.729864  ]\n",
      " [  5.692451     4.431361  ]\n",
      " [ -8.8142395   20.674973  ]\n",
      " [-10.540701    -6.107006  ]\n",
      " [ -2.2964878  -22.388107  ]\n",
      " [-21.423191   -13.946066  ]\n",
      " [  4.857615    -8.448798  ]\n",
      " [ 13.167278    16.1386    ]\n",
      " [ -0.59019625  -3.2703636 ]\n",
      " [ -8.466717    -5.2468266 ]\n",
      " [-20.369719   -10.107169  ]\n",
      " [ -9.206516    -6.0037537 ]\n",
      " [-12.048566   -21.209236  ]\n",
      " [ -1.1999533  -22.294432  ]\n",
      " [ 22.798365    17.379234  ]\n",
      " [-20.992231   -11.850411  ]\n",
      " [-23.399286    14.7814045 ]]\n",
      "[[-15  22]\n",
      " [  1 -20]\n",
      " [-19 -25]\n",
      " [ 10  18]\n",
      " [  7   5]\n",
      " [ -9  21]\n",
      " [-10  -7]\n",
      " [ -3 -25]\n",
      " [-22 -14]\n",
      " [  6 -10]\n",
      " [ 13  17]\n",
      " [  0  -4]\n",
      " [ -9  -6]\n",
      " [-21 -11]\n",
      " [-10  -7]\n",
      " [-12 -23]\n",
      " [ -1 -24]\n",
      " [ 24  18]\n",
      " [-20 -13]\n",
      " [-25  15]]\n",
      "Val accuracy 0.9962819962819963\n"
     ]
    },
    {
     "name": "stderr",
     "output_type": "stream",
     "text": [
      "1000it [05:54,  2.80it/s]"
     ]
    },
    {
     "name": "stdout",
     "output_type": "stream",
     "text": [
      "[9,  1000] loss: 0.903\n"
     ]
    },
    {
     "name": "stderr",
     "output_type": "stream",
     "text": [
      "2000it [11:53,  2.57it/s]"
     ]
    },
    {
     "name": "stdout",
     "output_type": "stream",
     "text": [
      "[9,  2000] loss: 0.920\n"
     ]
    },
    {
     "name": "stderr",
     "output_type": "stream",
     "text": [
      "3000it [17:55,  2.85it/s]"
     ]
    },
    {
     "name": "stdout",
     "output_type": "stream",
     "text": [
      "[9,  3000] loss: 0.902\n"
     ]
    },
    {
     "name": "stderr",
     "output_type": "stream",
     "text": [
      "4000it [23:49,  2.81it/s]"
     ]
    },
    {
     "name": "stdout",
     "output_type": "stream",
     "text": [
      "[9,  4000] loss: 0.898\n"
     ]
    },
    {
     "name": "stderr",
     "output_type": "stream",
     "text": [
      "4954it [29:27,  2.80it/s]\n"
     ]
    },
    {
     "name": "stdout",
     "output_type": "stream",
     "text": [
      "val_loss 1.1394016914027079\n",
      "[[ 17.825876   20.965876 ]\n",
      " [ 22.038788    3.6305058]\n",
      " [  5.3570824  11.992048 ]\n",
      " [ 14.709467  -20.274364 ]\n",
      " [ 19.222317    4.028721 ]\n",
      " [ 18.331148  -15.899621 ]\n",
      " [-18.508123   23.785446 ]\n",
      " [-17.035004    4.437248 ]\n",
      " [-12.063567   13.650738 ]\n",
      " [ 10.092446   14.53343  ]\n",
      " [ 21.154493  -22.474783 ]\n",
      " [ 21.671076   11.205929 ]\n",
      " [-21.142653  -15.544446 ]\n",
      " [ -9.368152   -2.6626544]\n",
      " [ 19.105665  -21.450756 ]\n",
      " [  9.338582   22.87305  ]\n",
      " [-22.300234  -22.519375 ]\n",
      " [ 14.467794   18.421438 ]\n",
      " [-12.945056   12.1707   ]\n",
      " [ 22.187883   17.975456 ]]\n",
      "[[ 18  22]\n",
      " [ 24  -1]\n",
      " [  6  13]\n",
      " [ 14 -21]\n",
      " [ 19   3]\n",
      " [ 12 -15]\n",
      " [-19  25]\n",
      " [-15   4]\n",
      " [ -7  13]\n",
      " [  9  14]\n",
      " [ 23 -24]\n",
      " [ 21  12]\n",
      " [-23 -16]\n",
      " [ -8  -3]\n",
      " [ 21 -22]\n",
      " [  9  23]\n",
      " [-20 -22]\n",
      " [ 15  20]\n",
      " [-13  13]\n",
      " [ 22  19]]\n",
      "Val accuracy 0.9967109967109967\n"
     ]
    },
    {
     "name": "stderr",
     "output_type": "stream",
     "text": [
      "1000it [06:07,  2.80it/s]"
     ]
    },
    {
     "name": "stdout",
     "output_type": "stream",
     "text": [
      "[10,  1000] loss: 0.870\n"
     ]
    },
    {
     "name": "stderr",
     "output_type": "stream",
     "text": [
      "2000it [12:02,  2.81it/s]"
     ]
    },
    {
     "name": "stdout",
     "output_type": "stream",
     "text": [
      "[10,  2000] loss: 0.856\n"
     ]
    },
    {
     "name": "stderr",
     "output_type": "stream",
     "text": [
      "3000it [17:57,  2.81it/s]"
     ]
    },
    {
     "name": "stdout",
     "output_type": "stream",
     "text": [
      "[10,  3000] loss: 0.882\n"
     ]
    },
    {
     "name": "stderr",
     "output_type": "stream",
     "text": [
      "4000it [23:51,  2.82it/s]"
     ]
    },
    {
     "name": "stdout",
     "output_type": "stream",
     "text": [
      "[10,  4000] loss: 0.878\n"
     ]
    },
    {
     "name": "stderr",
     "output_type": "stream",
     "text": [
      "4954it [29:40,  2.78it/s]\n"
     ]
    },
    {
     "name": "stdout",
     "output_type": "stream",
     "text": [
      "val_loss 1.2669224211829049\n",
      "[[  4.4587264  -6.7197065]\n",
      " [ -6.6262174  16.35949  ]\n",
      " [-10.528628   10.051787 ]\n",
      " [ -7.180626  -18.759186 ]\n",
      " [ -2.4075832 -10.590769 ]\n",
      " [ 11.442357   24.818949 ]\n",
      " [ 12.893081   24.013166 ]\n",
      " [ 17.638693   -5.9027686]\n",
      " [ 20.882717    7.3874054]\n",
      " [ -0.923049  -20.846085 ]\n",
      " [ 23.37298     8.868826 ]\n",
      " [  1.1494136  15.723437 ]\n",
      " [ 10.126416   19.261452 ]\n",
      " [  8.282717   -9.09232  ]\n",
      " [  8.91837     7.9852962]\n",
      " [-18.940235  -11.576203 ]\n",
      " [-21.233519  -14.045445 ]\n",
      " [-13.961629   23.291077 ]\n",
      " [ 16.456417   24.039186 ]\n",
      " [  6.765675   -2.5924332]]\n",
      "[[  5  -8]\n",
      " [ -7  16]\n",
      " [-11   8]\n",
      " [ -7 -20]\n",
      " [  1 -11]\n",
      " [ 10  25]\n",
      " [ 15  24]\n",
      " [ 18  -6]\n",
      " [ 22   5]\n",
      " [  0 -22]\n",
      " [ 23   7]\n",
      " [  2  16]\n",
      " [ 11  19]\n",
      " [  9  -9]\n",
      " [ 12   6]\n",
      " [-20 -13]\n",
      " [-20 -16]\n",
      " [-16  25]\n",
      " [ 18  23]\n",
      " [  5  -1]]\n",
      "Val accuracy 0.9965679965679966\n"
     ]
    },
    {
     "name": "stderr",
     "output_type": "stream",
     "text": [
      "1000it [05:55,  2.85it/s]"
     ]
    },
    {
     "name": "stdout",
     "output_type": "stream",
     "text": [
      "[11,  1000] loss: 0.841\n"
     ]
    },
    {
     "name": "stderr",
     "output_type": "stream",
     "text": [
      "2000it [11:50,  2.82it/s]"
     ]
    },
    {
     "name": "stdout",
     "output_type": "stream",
     "text": [
      "[11,  2000] loss: 0.827\n"
     ]
    },
    {
     "name": "stderr",
     "output_type": "stream",
     "text": [
      "3000it [17:46,  2.83it/s]"
     ]
    },
    {
     "name": "stdout",
     "output_type": "stream",
     "text": [
      "[11,  3000] loss: 0.850\n"
     ]
    },
    {
     "name": "stderr",
     "output_type": "stream",
     "text": [
      "4000it [25:26,  1.61it/s]"
     ]
    },
    {
     "name": "stdout",
     "output_type": "stream",
     "text": [
      "[11,  4000] loss: 0.855\n"
     ]
    },
    {
     "name": "stderr",
     "output_type": "stream",
     "text": [
      "4954it [33:41,  2.45it/s]\n"
     ]
    },
    {
     "name": "stdout",
     "output_type": "stream",
     "text": [
      "val_loss 1.15019656760352\n",
      "[[ 20.147194   11.638111 ]\n",
      " [ -4.3710327   3.937061 ]\n",
      " [ 18.237396   18.050755 ]\n",
      " [-14.209468   16.09708  ]\n",
      " [ 17.933832   -7.305579 ]\n",
      " [-15.614662   23.875525 ]\n",
      " [ 11.599177  -12.875829 ]\n",
      " [-10.380488  -15.209975 ]\n",
      " [  8.384065    2.9435942]\n",
      " [-13.647857    0.7716772]\n",
      " [ 18.204126   20.330097 ]\n",
      " [ -5.2705994  -5.6884937]\n",
      " [-12.3176155   7.738517 ]\n",
      " [ 13.126649  -14.781099 ]\n",
      " [  6.134289  -18.58424  ]\n",
      " [ 21.827166    8.5886   ]\n",
      " [ -2.794261   13.29372  ]\n",
      " [-20.791265    1.7041537]\n",
      " [ 17.180607  -21.789427 ]\n",
      " [-18.439362   22.96943  ]]\n",
      "[[ 22  13]\n",
      " [ -6   4]\n",
      " [ 20  19]\n",
      " [-15  17]\n",
      " [ 19  -9]\n",
      " [-20  25]\n",
      " [ 15 -15]\n",
      " [-10 -15]\n",
      " [  9   7]\n",
      " [-13   0]\n",
      " [ 19  22]\n",
      " [ -7  -6]\n",
      " [-12   4]\n",
      " [ 14 -15]\n",
      " [  5 -20]\n",
      " [ 22   9]\n",
      " [ -2  14]\n",
      " [-21   1]\n",
      " [ 17 -21]\n",
      " [-19  25]]\n",
      "Val accuracy 0.9972829972829973\n"
     ]
    },
    {
     "name": "stderr",
     "output_type": "stream",
     "text": [
      "1000it [06:38,  2.60it/s]"
     ]
    },
    {
     "name": "stdout",
     "output_type": "stream",
     "text": [
      "[12,  1000] loss: 0.814\n"
     ]
    },
    {
     "name": "stderr",
     "output_type": "stream",
     "text": [
      "2000it [12:57,  2.82it/s]"
     ]
    },
    {
     "name": "stdout",
     "output_type": "stream",
     "text": [
      "[12,  2000] loss: 0.817\n"
     ]
    },
    {
     "name": "stderr",
     "output_type": "stream",
     "text": [
      "3000it [19:19,  2.58it/s]"
     ]
    },
    {
     "name": "stdout",
     "output_type": "stream",
     "text": [
      "[12,  3000] loss: 0.816\n"
     ]
    },
    {
     "name": "stderr",
     "output_type": "stream",
     "text": [
      "4000it [26:45,  2.16it/s]"
     ]
    },
    {
     "name": "stdout",
     "output_type": "stream",
     "text": [
      "[12,  4000] loss: 0.814\n"
     ]
    },
    {
     "name": "stderr",
     "output_type": "stream",
     "text": [
      "4954it [34:07,  2.42it/s]\n"
     ]
    },
    {
     "name": "stdout",
     "output_type": "stream",
     "text": [
      "val_loss 1.1944702911376952\n",
      "[[ 16.578579  -11.954092 ]\n",
      " [-23.115793   -7.1768937]\n",
      " [-14.341983    1.2192992]\n",
      " [-23.72708   -10.927471 ]\n",
      " [-19.476217  -13.220169 ]\n",
      " [ 19.214743    8.877197 ]\n",
      " [ 11.425785   -8.643751 ]\n",
      " [ 16.69701   -20.312304 ]\n",
      " [ 23.426064  -16.735886 ]\n",
      " [ -1.6626556   4.1747346]\n",
      " [ 19.91994   -19.136715 ]\n",
      " [-14.599495  -16.344496 ]\n",
      " [ 12.635773    7.119296 ]\n",
      " [-19.13773    13.553661 ]\n",
      " [ 10.024681   -7.4976287]\n",
      " [ 16.71162   -10.273229 ]\n",
      " [ -7.537025  -17.93854  ]\n",
      " [-16.256508    1.0528357]\n",
      " [ -3.9475577 -20.404308 ]\n",
      " [ -1.1563805  -1.3030603]]\n",
      "[[ 20 -15]\n",
      " [-23  -9]\n",
      " [-14   2]\n",
      " [-25 -12]\n",
      " [-24 -15]\n",
      " [ 17  11]\n",
      " [ 12  -9]\n",
      " [ 18 -20]\n",
      " [ 25 -17]\n",
      " [ -4   5]\n",
      " [ 19 -20]\n",
      " [-15 -19]\n",
      " [ 14   8]\n",
      " [-22  13]\n",
      " [ 11  -8]\n",
      " [ 17 -10]\n",
      " [ -9 -19]\n",
      " [-18   3]\n",
      " [ -5 -21]\n",
      " [ -1  -1]]\n",
      "Val accuracy 0.9972829972829973\n"
     ]
    },
    {
     "name": "stderr",
     "output_type": "stream",
     "text": [
      "1000it [08:14,  2.36it/s]"
     ]
    },
    {
     "name": "stdout",
     "output_type": "stream",
     "text": [
      "[13,  1000] loss: 0.778\n"
     ]
    },
    {
     "name": "stderr",
     "output_type": "stream",
     "text": [
      "2000it [15:50,  2.09it/s]"
     ]
    },
    {
     "name": "stdout",
     "output_type": "stream",
     "text": [
      "[13,  2000] loss: 0.796\n"
     ]
    },
    {
     "name": "stderr",
     "output_type": "stream",
     "text": [
      "3000it [23:53,  2.02it/s]"
     ]
    },
    {
     "name": "stdout",
     "output_type": "stream",
     "text": [
      "[13,  3000] loss: 0.794\n"
     ]
    },
    {
     "name": "stderr",
     "output_type": "stream",
     "text": [
      "4000it [31:32,  1.92it/s]"
     ]
    },
    {
     "name": "stdout",
     "output_type": "stream",
     "text": [
      "[13,  4000] loss: 0.781\n"
     ]
    },
    {
     "name": "stderr",
     "output_type": "stream",
     "text": [
      "4954it [38:31,  2.14it/s]\n"
     ]
    },
    {
     "name": "stdout",
     "output_type": "stream",
     "text": [
      "val_loss 1.1821491295950752\n",
      "[[ -9.517637    23.321674  ]\n",
      " [ 19.540752   -13.268859  ]\n",
      " [  7.9118557    1.3662224 ]\n",
      " [-24.555061    11.161122  ]\n",
      " [ 22.432087   -14.981201  ]\n",
      " [ 20.757627    -5.2997336 ]\n",
      " [ 16.628569   -12.3561    ]\n",
      " [-14.022935   -19.1395    ]\n",
      " [ 13.199014     7.950204  ]\n",
      " [  5.026857     0.88872206]\n",
      " [ 23.051647    13.343227  ]\n",
      " [ -4.9534473   16.434755  ]\n",
      " [-23.50995     13.234159  ]\n",
      " [ 11.246157    11.946974  ]\n",
      " [ 11.072048    17.974495  ]\n",
      " [-20.580585    14.17895   ]\n",
      " [  3.6037505   17.292265  ]\n",
      " [-11.869557     6.6281147 ]\n",
      " [ -6.9122624   17.004686  ]\n",
      " [ 22.430096   -15.072216  ]]\n",
      "[[ -9  24]\n",
      " [ 21 -18]\n",
      " [  7   2]\n",
      " [-25  13]\n",
      " [ 24 -16]\n",
      " [ 21  -6]\n",
      " [ 16 -13]\n",
      " [-15 -20]\n",
      " [ 14   8]\n",
      " [  5   2]\n",
      " [ 25  12]\n",
      " [ -6  17]\n",
      " [-25  14]\n",
      " [ 11  12]\n",
      " [ 13  18]\n",
      " [-23  15]\n",
      " [  4  19]\n",
      " [-12   6]\n",
      " [ -9  18]\n",
      " [ 24 -16]]\n",
      "Val accuracy 0.9962819962819963\n"
     ]
    },
    {
     "name": "stderr",
     "output_type": "stream",
     "text": [
      "1000it [06:01,  2.66it/s]"
     ]
    },
    {
     "name": "stdout",
     "output_type": "stream",
     "text": [
      "[14,  1000] loss: 0.762\n"
     ]
    },
    {
     "name": "stderr",
     "output_type": "stream",
     "text": [
      "2000it [12:02,  2.72it/s]"
     ]
    },
    {
     "name": "stdout",
     "output_type": "stream",
     "text": [
      "[14,  2000] loss: 0.748\n"
     ]
    },
    {
     "name": "stderr",
     "output_type": "stream",
     "text": [
      "3000it [18:34,  2.92it/s]"
     ]
    },
    {
     "name": "stdout",
     "output_type": "stream",
     "text": [
      "[14,  3000] loss: 0.759\n"
     ]
    },
    {
     "name": "stderr",
     "output_type": "stream",
     "text": [
      "4000it [24:44,  2.66it/s]"
     ]
    },
    {
     "name": "stdout",
     "output_type": "stream",
     "text": [
      "[14,  4000] loss: 0.774\n"
     ]
    },
    {
     "name": "stderr",
     "output_type": "stream",
     "text": [
      "4954it [33:37,  2.46it/s]\n"
     ]
    },
    {
     "name": "stdout",
     "output_type": "stream",
     "text": [
      "val_loss 1.2639955011095318\n",
      "[[ 20.615284   -10.974472  ]\n",
      " [ -9.353682    15.391649  ]\n",
      " [ -8.095042    -6.998934  ]\n",
      " [ -3.212376   -23.96116   ]\n",
      " [ 11.692332    -7.09539   ]\n",
      " [-21.153519     6.416128  ]\n",
      " [ 13.332112     5.4944334 ]\n",
      " [-16.4122      -4.2370853 ]\n",
      " [ -9.253862    11.479913  ]\n",
      " [-20.059454     0.02807168]\n",
      " [ -7.2202888  -21.183475  ]\n",
      " [ -1.4567345   16.011583  ]\n",
      " [ -1.4768097    9.068866  ]\n",
      " [-22.506617    -8.680086  ]\n",
      " [ 10.023655    -0.45130512]\n",
      " [ 21.01634     19.482887  ]\n",
      " [  3.3674417  -22.848158  ]\n",
      " [-14.391081    22.667618  ]\n",
      " [ 12.701276   -20.60472   ]\n",
      " [ -3.2544425    6.928965  ]]\n",
      "[[ 22 -11]\n",
      " [-10  16]\n",
      " [ -8  -7]\n",
      " [ -4 -25]\n",
      " [ 12  -9]\n",
      " [-25   6]\n",
      " [ 14   6]\n",
      " [-18  -5]\n",
      " [-19  13]\n",
      " [-21  -1]\n",
      " [ -5 -23]\n",
      " [ -1  17]\n",
      " [ -1  10]\n",
      " [-24 -10]\n",
      " [  9   1]\n",
      " [ 21  21]\n",
      " [ 12 -25]\n",
      " [-16  25]\n",
      " [ 16 -21]\n",
      " [ -4   7]]\n",
      "Val accuracy 0.9974259974259975\n"
     ]
    },
    {
     "name": "stderr",
     "output_type": "stream",
     "text": [
      "1000it [08:24,  1.85it/s]"
     ]
    },
    {
     "name": "stdout",
     "output_type": "stream",
     "text": [
      "[15,  1000] loss: 0.725\n"
     ]
    },
    {
     "name": "stderr",
     "output_type": "stream",
     "text": [
      "2000it [16:20,  2.43it/s]"
     ]
    },
    {
     "name": "stdout",
     "output_type": "stream",
     "text": [
      "[15,  2000] loss: 0.735\n"
     ]
    },
    {
     "name": "stderr",
     "output_type": "stream",
     "text": [
      "3000it [23:49,  2.35it/s]"
     ]
    },
    {
     "name": "stdout",
     "output_type": "stream",
     "text": [
      "[15,  3000] loss: 0.733\n"
     ]
    },
    {
     "name": "stderr",
     "output_type": "stream",
     "text": [
      "4000it [30:48,  2.60it/s]"
     ]
    },
    {
     "name": "stdout",
     "output_type": "stream",
     "text": [
      "[15,  4000] loss: 0.734\n"
     ]
    },
    {
     "name": "stderr",
     "output_type": "stream",
     "text": [
      "4954it [37:50,  2.18it/s]\n"
     ]
    },
    {
     "name": "stdout",
     "output_type": "stream",
     "text": [
      "val_loss 1.2098122970036098\n",
      "[[ -1.1148266   14.104904  ]\n",
      " [ -8.0800705   14.709493  ]\n",
      " [  3.0717075   -7.472742  ]\n",
      " [-10.708565     0.63291305]\n",
      " [-21.904432   -22.008339  ]\n",
      " [ 21.079111   -20.888865  ]\n",
      " [ -6.456806   -16.814926  ]\n",
      " [-19.768152    10.720932  ]\n",
      " [-10.127422    11.03411   ]\n",
      " [ -6.0965505    3.5330396 ]\n",
      " [-10.496794    -5.3212767 ]\n",
      " [-20.502298   -21.430704  ]\n",
      " [ 11.73238    -13.391727  ]\n",
      " [ 16.8932     -14.204018  ]\n",
      " [ 22.632116     6.9858437 ]\n",
      " [  1.9325634   -9.512618  ]\n",
      " [-17.983759    19.412315  ]\n",
      " [  7.601938   -13.112602  ]\n",
      " [-20.017553   -19.454742  ]\n",
      " [-16.412542   -15.805247  ]]\n",
      "[[ -1  15]\n",
      " [ -7  16]\n",
      " [  3  -6]\n",
      " [ -9   0]\n",
      " [-21 -23]\n",
      " [ 23 -21]\n",
      " [ -5 -20]\n",
      " [-21  12]\n",
      " [-10  12]\n",
      " [ -5   4]\n",
      " [-11  -5]\n",
      " [-22 -23]\n",
      " [ 14 -14]\n",
      " [ 19 -15]\n",
      " [ 25   7]\n",
      " [  3 -10]\n",
      " [-18  20]\n",
      " [  9 -13]\n",
      " [-20 -20]\n",
      " [-18 -16]]\n",
      "Val accuracy 0.9971399971399971\n"
     ]
    },
    {
     "name": "stderr",
     "output_type": "stream",
     "text": [
      "1000it [06:12,  2.81it/s]"
     ]
    },
    {
     "name": "stdout",
     "output_type": "stream",
     "text": [
      "[16,  1000] loss: 0.714\n"
     ]
    },
    {
     "name": "stderr",
     "output_type": "stream",
     "text": [
      "2000it [12:20,  2.79it/s]"
     ]
    },
    {
     "name": "stdout",
     "output_type": "stream",
     "text": [
      "[16,  2000] loss: 0.707\n"
     ]
    },
    {
     "name": "stderr",
     "output_type": "stream",
     "text": [
      "3000it [18:45,  2.83it/s]"
     ]
    },
    {
     "name": "stdout",
     "output_type": "stream",
     "text": [
      "[16,  3000] loss: 0.697\n"
     ]
    },
    {
     "name": "stderr",
     "output_type": "stream",
     "text": [
      "4000it [24:59,  2.78it/s]"
     ]
    },
    {
     "name": "stdout",
     "output_type": "stream",
     "text": [
      "[16,  4000] loss: 0.711\n"
     ]
    },
    {
     "name": "stderr",
     "output_type": "stream",
     "text": [
      "4954it [30:51,  2.68it/s]\n"
     ]
    },
    {
     "name": "stdout",
     "output_type": "stream",
     "text": [
      "val_loss 1.1421589565958294\n",
      "[[-11.221431   -7.7582674]\n",
      " [-21.872112  -10.793121 ]\n",
      " [  1.5925013  22.775637 ]\n",
      " [  5.950737   20.208351 ]\n",
      " [ 19.5143    -20.24671  ]\n",
      " [ 14.860712   -0.3986628]\n",
      " [ 24.175879   -3.3790052]\n",
      " [ -5.5845428  -5.6940603]\n",
      " [ -1.1668359   9.418957 ]\n",
      " [ -3.6536486  -3.3906825]\n",
      " [-12.467584    7.5550594]\n",
      " [  4.254861    5.247834 ]\n",
      " [-24.047913    1.4414501]\n",
      " [  1.1684325 -16.291037 ]\n",
      " [-23.041044  -14.677577 ]\n",
      " [  1.8304175 -10.374843 ]\n",
      " [ 20.136261    1.7670977]\n",
      " [  9.114662  -13.071429 ]\n",
      " [-22.86991   -12.99234  ]\n",
      " [-14.496719  -14.531427 ]]\n",
      "[[-11  -8]\n",
      " [-22 -11]\n",
      " [  1  25]\n",
      " [  2  23]\n",
      " [ 19 -16]\n",
      " [ 16   0]\n",
      " [ 25  -5]\n",
      " [ -7  -6]\n",
      " [ -4  11]\n",
      " [ -4  -4]\n",
      " [-13   8]\n",
      " [  3   5]\n",
      " [-25   1]\n",
      " [  6 -16]\n",
      " [-24 -15]\n",
      " [  2  -9]\n",
      " [ 21   1]\n",
      " [  9 -13]\n",
      " [-21 -16]\n",
      " [-14 -17]]\n",
      "Val accuracy 0.9972829972829973\n"
     ]
    },
    {
     "name": "stderr",
     "output_type": "stream",
     "text": [
      "1000it [06:08,  2.84it/s]"
     ]
    },
    {
     "name": "stdout",
     "output_type": "stream",
     "text": [
      "[17,  1000] loss: 0.690\n"
     ]
    },
    {
     "name": "stderr",
     "output_type": "stream",
     "text": [
      "2000it [12:32,  2.86it/s]"
     ]
    },
    {
     "name": "stdout",
     "output_type": "stream",
     "text": [
      "[17,  2000] loss: 0.678\n"
     ]
    },
    {
     "name": "stderr",
     "output_type": "stream",
     "text": [
      "3000it [18:40,  2.61it/s]"
     ]
    },
    {
     "name": "stdout",
     "output_type": "stream",
     "text": [
      "[17,  3000] loss: 0.688\n"
     ]
    },
    {
     "name": "stderr",
     "output_type": "stream",
     "text": [
      "4000it [24:52,  2.85it/s]"
     ]
    },
    {
     "name": "stdout",
     "output_type": "stream",
     "text": [
      "[17,  4000] loss: 0.683\n"
     ]
    },
    {
     "name": "stderr",
     "output_type": "stream",
     "text": [
      "4954it [30:44,  2.69it/s]\n"
     ]
    },
    {
     "name": "stdout",
     "output_type": "stream",
     "text": [
      "val_loss 1.305888203552791\n",
      "[[ -4.8376856  17.982304 ]\n",
      " [-17.64396     5.784163 ]\n",
      " [  4.086955    4.5058355]\n",
      " [  1.800499   19.446943 ]\n",
      " [-21.850336    4.2088995]\n",
      " [  9.255516   -6.6220703]\n",
      " [ -7.3663387  -7.112169 ]\n",
      " [ 22.046999   18.988289 ]\n",
      " [ 15.889218    3.1213129]\n",
      " [-11.672831   -1.4461588]\n",
      " [ -1.4987562  12.166709 ]\n",
      " [  1.3799609   2.6590598]\n",
      " [  7.4159536  -4.4458485]\n",
      " [ -0.430328   -1.9796039]\n",
      " [  9.98878    -8.856879 ]\n",
      " [ 21.729977   10.165074 ]\n",
      " [  0.3911252 -18.677607 ]\n",
      " [-18.613884   -1.7422253]\n",
      " [ 14.851914   -7.0544815]\n",
      " [-11.54108   -22.118639 ]]\n",
      "[[ -6  18]\n",
      " [-23   7]\n",
      " [  6   4]\n",
      " [  7  21]\n",
      " [-23   4]\n",
      " [ 11  -7]\n",
      " [ -8  -7]\n",
      " [ 25  20]\n",
      " [ 16   3]\n",
      " [-12  -1]\n",
      " [ -1  12]\n",
      " [  2   4]\n",
      " [  9  -4]\n",
      " [ -1  -3]\n",
      " [ 12 -10]\n",
      " [ 22  10]\n",
      " [  1 -20]\n",
      " [-20  -2]\n",
      " [ 17  -8]\n",
      " [-13 -23]]\n",
      "Val accuracy 0.9964249964249964\n"
     ]
    },
    {
     "name": "stderr",
     "output_type": "stream",
     "text": [
      "1000it [06:14,  2.85it/s]"
     ]
    },
    {
     "name": "stdout",
     "output_type": "stream",
     "text": [
      "[18,  1000] loss: 0.647\n"
     ]
    },
    {
     "name": "stderr",
     "output_type": "stream",
     "text": [
      "2000it [12:22,  2.86it/s]"
     ]
    },
    {
     "name": "stdout",
     "output_type": "stream",
     "text": [
      "[18,  2000] loss: 0.644\n"
     ]
    },
    {
     "name": "stderr",
     "output_type": "stream",
     "text": [
      "3000it [18:34,  2.87it/s]"
     ]
    },
    {
     "name": "stdout",
     "output_type": "stream",
     "text": [
      "[18,  3000] loss: 0.659\n"
     ]
    },
    {
     "name": "stderr",
     "output_type": "stream",
     "text": [
      "4000it [24:49,  2.08it/s]"
     ]
    },
    {
     "name": "stdout",
     "output_type": "stream",
     "text": [
      "[18,  4000] loss: 0.665\n"
     ]
    },
    {
     "name": "stderr",
     "output_type": "stream",
     "text": [
      "4954it [30:50,  2.68it/s]\n"
     ]
    },
    {
     "name": "stdout",
     "output_type": "stream",
     "text": [
      "val_loss 1.1165721690995352\n",
      "[[  8.832417   -19.16141   ]\n",
      " [ -4.828325     6.8685765 ]\n",
      " [ 17.401709     4.9974556 ]\n",
      " [ 18.709805    22.066805  ]\n",
      " [  8.694266    21.760132  ]\n",
      " [-15.095762    16.049503  ]\n",
      " [ 11.204745     1.3743851 ]\n",
      " [ 23.009094     0.18937883]\n",
      " [  4.413702   -16.88731   ]\n",
      " [-23.58131     -3.8708518 ]\n",
      " [ 11.829566    19.079416  ]\n",
      " [ -4.3233457   -8.305321  ]\n",
      " [  1.7536832   23.097973  ]\n",
      " [-17.096666    -5.1774907 ]\n",
      " [ 10.878883   -12.290323  ]\n",
      " [  9.92168     22.801373  ]\n",
      " [-20.62001     -8.572363  ]\n",
      " [-10.69651     10.514498  ]\n",
      " [  2.5876558   -7.082118  ]\n",
      " [ -0.37366065  22.457113  ]]\n",
      "[[  9 -21]\n",
      " [ -4   7]\n",
      " [ 19   5]\n",
      " [ 20  22]\n",
      " [  9  22]\n",
      " [-17  16]\n",
      " [ 12   2]\n",
      " [ 23  -7]\n",
      " [  5 -17]\n",
      " [-25  -2]\n",
      " [ 12  19]\n",
      " [ -2  -9]\n",
      " [ -1  25]\n",
      " [-18  -7]\n",
      " [ 11 -10]\n",
      " [ 11  20]\n",
      " [-19 -10]\n",
      " [-12  10]\n",
      " [  3  -8]\n",
      " [ -1  23]]\n",
      "Val accuracy 0.9967109967109967\n"
     ]
    },
    {
     "name": "stderr",
     "output_type": "stream",
     "text": [
      "1000it [06:07,  2.80it/s]"
     ]
    },
    {
     "name": "stdout",
     "output_type": "stream",
     "text": [
      "[19,  1000] loss: 0.628\n"
     ]
    },
    {
     "name": "stderr",
     "output_type": "stream",
     "text": [
      "2000it [12:19,  2.22it/s]"
     ]
    },
    {
     "name": "stdout",
     "output_type": "stream",
     "text": [
      "[19,  2000] loss: 0.635\n"
     ]
    },
    {
     "name": "stderr",
     "output_type": "stream",
     "text": [
      "3000it [18:39,  2.78it/s]"
     ]
    },
    {
     "name": "stdout",
     "output_type": "stream",
     "text": [
      "[19,  3000] loss: 0.638\n"
     ]
    },
    {
     "name": "stderr",
     "output_type": "stream",
     "text": [
      "4000it [24:52,  2.82it/s]"
     ]
    },
    {
     "name": "stdout",
     "output_type": "stream",
     "text": [
      "[19,  4000] loss: 0.649\n"
     ]
    },
    {
     "name": "stderr",
     "output_type": "stream",
     "text": [
      "4954it [30:44,  2.69it/s]\n"
     ]
    },
    {
     "name": "stdout",
     "output_type": "stream",
     "text": [
      "val_loss 1.2384617772442954\n",
      "[[  6.231695   17.201595 ]\n",
      " [ -8.836429   14.064474 ]\n",
      " [ -1.3146555  22.918219 ]\n",
      " [ 23.48154     4.2579746]\n",
      " [ -7.0653825  12.299536 ]\n",
      " [-22.988981   -0.9663649]\n",
      " [ -4.3504105  13.641257 ]\n",
      " [-20.920912   15.379927 ]\n",
      " [ 20.521706  -22.488943 ]\n",
      " [-22.801296   -3.4439917]\n",
      " [ 17.98698   -15.961309 ]\n",
      " [  2.2382598  -3.4193478]\n",
      " [ -3.2854033  -3.792588 ]\n",
      " [-12.259039  -22.846872 ]\n",
      " [ -2.6010556  -0.6062442]\n",
      " [  5.978697  -19.528992 ]\n",
      " [-11.02413    15.610376 ]\n",
      " [ 13.816077  -10.803687 ]\n",
      " [-18.58561     2.305776 ]\n",
      " [ -8.462005    7.120662 ]]\n",
      "[[  7  18]\n",
      " [ -9  15]\n",
      " [ -4  24]\n",
      " [ 24   5]\n",
      " [-10  13]\n",
      " [-25  -1]\n",
      " [ -4  15]\n",
      " [-23  16]\n",
      " [ 25 -22]\n",
      " [-24  -4]\n",
      " [ 19 -16]\n",
      " [  2  -4]\n",
      " [ -5  -6]\n",
      " [-13 -24]\n",
      " [ -3   0]\n",
      " [  6 -21]\n",
      " [-12  16]\n",
      " [ 12 -10]\n",
      " [-25   1]\n",
      " [ -5   8]]\n",
      "Val accuracy 0.9962819962819963\n"
     ]
    },
    {
     "name": "stderr",
     "output_type": "stream",
     "text": [
      "1000it [06:07,  2.84it/s]"
     ]
    },
    {
     "name": "stdout",
     "output_type": "stream",
     "text": [
      "[20,  1000] loss: 0.608\n"
     ]
    },
    {
     "name": "stderr",
     "output_type": "stream",
     "text": [
      "2000it [12:31,  2.85it/s]"
     ]
    },
    {
     "name": "stdout",
     "output_type": "stream",
     "text": [
      "[20,  2000] loss: 0.597\n"
     ]
    },
    {
     "name": "stderr",
     "output_type": "stream",
     "text": [
      "3000it [18:38,  2.86it/s]"
     ]
    },
    {
     "name": "stdout",
     "output_type": "stream",
     "text": [
      "[20,  3000] loss: 0.619\n"
     ]
    },
    {
     "name": "stderr",
     "output_type": "stream",
     "text": [
      "4000it [24:50,  2.82it/s]"
     ]
    },
    {
     "name": "stdout",
     "output_type": "stream",
     "text": [
      "[20,  4000] loss: 0.626\n"
     ]
    },
    {
     "name": "stderr",
     "output_type": "stream",
     "text": [
      "4954it [30:41,  2.69it/s]\n"
     ]
    },
    {
     "name": "stdout",
     "output_type": "stream",
     "text": [
      "val_loss 1.131226210968835\n",
      "[[ 17.677717    11.788045  ]\n",
      " [-16.658697   -15.325336  ]\n",
      " [-13.866418    16.848804  ]\n",
      " [ -5.701749    13.791915  ]\n",
      " [ 19.65678      9.075112  ]\n",
      " [ 15.678687     3.2047236 ]\n",
      " [ -1.4157647  -17.35305   ]\n",
      " [  9.929804    19.665188  ]\n",
      " [ -2.8930707   19.16139   ]\n",
      " [-21.79985    -22.678871  ]\n",
      " [  0.54250056  -0.9429608 ]\n",
      " [-16.191746     7.900357  ]\n",
      " [ -5.6728954   23.481947  ]\n",
      " [-11.243496   -13.709864  ]\n",
      " [ 14.520008   -12.183506  ]\n",
      " [  1.51841      2.604607  ]\n",
      " [ 23.888464    12.220021  ]\n",
      " [ -9.06129     -8.784626  ]\n",
      " [ 19.298183   -22.600368  ]\n",
      " [ 16.323223   -14.13286   ]]\n",
      "[[ 18  12]\n",
      " [-16 -16]\n",
      " [-15  17]\n",
      " [ -6  14]\n",
      " [ 19  10]\n",
      " [ 15   2]\n",
      " [ -2 -17]\n",
      " [ 10  20]\n",
      " [ -2  20]\n",
      " [-23 -23]\n",
      " [  1  -1]\n",
      " [-16   3]\n",
      " [ -6  25]\n",
      " [-12 -14]\n",
      " [ 23 -12]\n",
      " [  1   3]\n",
      " [ 25  12]\n",
      " [ -9  -8]\n",
      " [ 21 -24]\n",
      " [ 17 -15]]\n",
      "Val accuracy 0.9964249964249964\n"
     ]
    },
    {
     "name": "stderr",
     "output_type": "stream",
     "text": [
      "1000it [06:10,  2.86it/s]"
     ]
    },
    {
     "name": "stdout",
     "output_type": "stream",
     "text": [
      "[21,  1000] loss: 0.593\n"
     ]
    },
    {
     "name": "stderr",
     "output_type": "stream",
     "text": [
      "2000it [12:21,  2.22it/s]"
     ]
    },
    {
     "name": "stdout",
     "output_type": "stream",
     "text": [
      "[21,  2000] loss: 0.579\n"
     ]
    },
    {
     "name": "stderr",
     "output_type": "stream",
     "text": [
      "3000it [18:30,  2.78it/s]"
     ]
    },
    {
     "name": "stdout",
     "output_type": "stream",
     "text": [
      "[21,  3000] loss: 0.600\n"
     ]
    },
    {
     "name": "stderr",
     "output_type": "stream",
     "text": [
      "4000it [24:49,  2.35it/s]"
     ]
    },
    {
     "name": "stdout",
     "output_type": "stream",
     "text": [
      "[21,  4000] loss: 0.609\n"
     ]
    },
    {
     "name": "stderr",
     "output_type": "stream",
     "text": [
      "4954it [30:38,  2.69it/s]\n"
     ]
    },
    {
     "name": "stdout",
     "output_type": "stream",
     "text": [
      "val_loss 1.1927929303986686\n",
      "[[-12.165457  -17.402004 ]\n",
      " [  3.2646062   6.034195 ]\n",
      " [  7.488567   -5.130059 ]\n",
      " [  2.5024436  10.375476 ]\n",
      " [  7.871312   14.048303 ]\n",
      " [ 10.9930525 -13.378019 ]\n",
      " [-21.014786  -15.130739 ]\n",
      " [  5.636022   -3.1936226]\n",
      " [ 19.11295    10.650081 ]\n",
      " [  7.8203096 -20.78463  ]\n",
      " [ 21.234827    7.8599324]\n",
      " [-18.872515   17.331602 ]\n",
      " [  9.631636  -16.750357 ]\n",
      " [ 17.042526  -11.675246 ]\n",
      " [  2.8095257  -5.479819 ]\n",
      " [ 22.377684   -2.7763252]\n",
      " [  6.4716463 -23.460394 ]\n",
      " [ -2.9361808 -16.260036 ]\n",
      " [  7.8238235  -4.2616024]\n",
      " [ 17.048922  -12.081049 ]]\n",
      "[[-15 -18]\n",
      " [  3   6]\n",
      " [  6  -6]\n",
      " [  2  11]\n",
      " [  9  10]\n",
      " [ 11 -14]\n",
      " [-22 -16]\n",
      " [  6  -4]\n",
      " [ 19  11]\n",
      " [  7 -20]\n",
      " [ 23   8]\n",
      " [-25  20]\n",
      " [  9 -18]\n",
      " [ 18 -10]\n",
      " [  3  -8]\n",
      " [ 23  -2]\n",
      " [  6 -23]\n",
      " [ -3 -18]\n",
      " [  8  -5]\n",
      " [ 18 -10]]\n",
      "Val accuracy 0.9974259974259975\n"
     ]
    },
    {
     "name": "stderr",
     "output_type": "stream",
     "text": [
      "1000it [05:53,  2.81it/s]"
     ]
    },
    {
     "name": "stdout",
     "output_type": "stream",
     "text": [
      "[22,  1000] loss: 0.567\n"
     ]
    },
    {
     "name": "stderr",
     "output_type": "stream",
     "text": [
      "2000it [11:47,  2.86it/s]"
     ]
    },
    {
     "name": "stdout",
     "output_type": "stream",
     "text": [
      "[22,  2000] loss: 0.578\n"
     ]
    },
    {
     "name": "stderr",
     "output_type": "stream",
     "text": [
      "3000it [17:55,  2.84it/s]"
     ]
    },
    {
     "name": "stdout",
     "output_type": "stream",
     "text": [
      "[22,  3000] loss: 0.569\n"
     ]
    },
    {
     "name": "stderr",
     "output_type": "stream",
     "text": [
      "4000it [23:50,  2.83it/s]"
     ]
    },
    {
     "name": "stdout",
     "output_type": "stream",
     "text": [
      "[22,  4000] loss: 0.579\n"
     ]
    },
    {
     "name": "stderr",
     "output_type": "stream",
     "text": [
      "4954it [29:28,  2.80it/s]\n"
     ]
    },
    {
     "name": "stdout",
     "output_type": "stream",
     "text": [
      "val_loss 1.1001580810546876\n",
      "[[  5.748008    19.431658  ]\n",
      " [ -0.12245922 -21.171452  ]\n",
      " [ -6.49968    -16.928417  ]\n",
      " [ -5.6810765  -22.012716  ]\n",
      " [ 15.500385   -21.819866  ]\n",
      " [ -4.5577083  -10.52945   ]\n",
      " [ 23.296726    18.53697   ]\n",
      " [ 23.865252    -0.7110834 ]\n",
      " [-14.719699    -5.431077  ]\n",
      " [-12.617566    10.992593  ]\n",
      " [ 13.694534   -18.131887  ]\n",
      " [  8.517442     1.0034795 ]\n",
      " [-22.751436   -12.519877  ]\n",
      " [ -9.600806    -6.8940516 ]\n",
      " [-15.845204   -13.649905  ]\n",
      " [ 18.076048   -16.393694  ]\n",
      " [ 19.514807    13.6043625 ]\n",
      " [-15.152164    13.428805  ]\n",
      " [-23.86737    -20.040283  ]\n",
      " [ 12.73581      9.483268  ]]\n",
      "[[  6  20]\n",
      " [  0 -22]\n",
      " [ -7 -17]\n",
      " [-11 -22]\n",
      " [ 14 -23]\n",
      " [ -5 -10]\n",
      " [ 24  18]\n",
      " [ 23  -2]\n",
      " [-15  -9]\n",
      " [-12  11]\n",
      " [ 15 -19]\n",
      " [ 10   0]\n",
      " [-25 -13]\n",
      " [-14  -5]\n",
      " [-19 -14]\n",
      " [ 18 -17]\n",
      " [ 21  12]\n",
      " [-16  14]\n",
      " [-25 -20]\n",
      " [ 13   8]]\n",
      "Val accuracy 0.996996996996997\n"
     ]
    },
    {
     "name": "stderr",
     "output_type": "stream",
     "text": [
      "1000it [05:54,  2.85it/s]"
     ]
    },
    {
     "name": "stdout",
     "output_type": "stream",
     "text": [
      "[23,  1000] loss: 0.547\n"
     ]
    },
    {
     "name": "stderr",
     "output_type": "stream",
     "text": [
      "2000it [12:02,  2.81it/s]"
     ]
    },
    {
     "name": "stdout",
     "output_type": "stream",
     "text": [
      "[23,  2000] loss: 0.563\n"
     ]
    },
    {
     "name": "stderr",
     "output_type": "stream",
     "text": [
      "3000it [17:56,  2.83it/s]"
     ]
    },
    {
     "name": "stdout",
     "output_type": "stream",
     "text": [
      "[23,  3000] loss: 0.555\n"
     ]
    },
    {
     "name": "stderr",
     "output_type": "stream",
     "text": [
      "4000it [23:50,  2.79it/s]"
     ]
    },
    {
     "name": "stdout",
     "output_type": "stream",
     "text": [
      "[23,  4000] loss: 0.566\n"
     ]
    },
    {
     "name": "stderr",
     "output_type": "stream",
     "text": [
      "4954it [29:27,  2.80it/s]\n"
     ]
    },
    {
     "name": "stdout",
     "output_type": "stream",
     "text": [
      "val_loss 1.216356828417097\n",
      "[[  6.5843906  20.695557 ]\n",
      " [ -4.6143494  13.264678 ]\n",
      " [  9.184037  -15.38044  ]\n",
      " [ -5.8029904   3.7728484]\n",
      " [ 15.236613  -23.508465 ]\n",
      " [ 17.568136   10.283451 ]\n",
      " [-12.418183    9.881155 ]\n",
      " [-15.911545  -23.747622 ]\n",
      " [ 11.677216  -10.0081215]\n",
      " [ 17.0528      0.5468989]\n",
      " [-14.45071   -13.067971 ]\n",
      " [-19.71716   -17.86068  ]\n",
      " [-13.116864   12.291606 ]\n",
      " [-17.89433    12.00639  ]\n",
      " [ -0.4280943 -11.382312 ]\n",
      " [-10.842112   -7.0637507]\n",
      " [ -6.4127145  19.890526 ]\n",
      " [ 20.862026   18.749748 ]\n",
      " [ -5.329242  -10.621446 ]\n",
      " [ -7.7481775 -23.74823  ]]\n",
      "[[  8  21]\n",
      " [ -8  13]\n",
      " [ 10 -14]\n",
      " [ -7   3]\n",
      " [ 14 -24]\n",
      " [ 19  10]\n",
      " [-14  10]\n",
      " [-18 -25]\n",
      " [ 12 -11]\n",
      " [ 20  -1]\n",
      " [-18 -14]\n",
      " [-21 -17]\n",
      " [-13  12]\n",
      " [-19  14]\n",
      " [ -1 -14]\n",
      " [-11  -8]\n",
      " [ -6  21]\n",
      " [ 22  18]\n",
      " [ -4 -11]\n",
      " [ -8 -24]]\n",
      "Val accuracy 0.9968539968539969\n"
     ]
    },
    {
     "name": "stderr",
     "output_type": "stream",
     "text": [
      "1000it [05:57,  2.84it/s]"
     ]
    },
    {
     "name": "stdout",
     "output_type": "stream",
     "text": [
      "[24,  1000] loss: 0.535\n"
     ]
    },
    {
     "name": "stderr",
     "output_type": "stream",
     "text": [
      "2000it [11:52,  2.84it/s]"
     ]
    },
    {
     "name": "stdout",
     "output_type": "stream",
     "text": [
      "[24,  2000] loss: 0.538\n"
     ]
    },
    {
     "name": "stderr",
     "output_type": "stream",
     "text": [
      "3000it [17:47,  2.81it/s]"
     ]
    },
    {
     "name": "stdout",
     "output_type": "stream",
     "text": [
      "[24,  3000] loss: 0.548\n"
     ]
    },
    {
     "name": "stderr",
     "output_type": "stream",
     "text": [
      "4000it [23:48,  2.61it/s]"
     ]
    },
    {
     "name": "stdout",
     "output_type": "stream",
     "text": [
      "[24,  4000] loss: 0.561\n"
     ]
    },
    {
     "name": "stderr",
     "output_type": "stream",
     "text": [
      "4954it [29:32,  2.80it/s]\n"
     ]
    },
    {
     "name": "stdout",
     "output_type": "stream",
     "text": [
      "val_loss 1.2603355544635229\n",
      "[[-10.056835    10.252035  ]\n",
      " [ 12.453748   -10.739991  ]\n",
      " [ 14.512978     1.1723876 ]\n",
      " [ -7.1805263   16.91081   ]\n",
      " [ 12.408554    -5.776604  ]\n",
      " [ -0.44538718  -3.5496988 ]\n",
      " [-12.247335    21.23244   ]\n",
      " [-23.51047     10.929578  ]\n",
      " [-11.318221    20.144737  ]\n",
      " [ 15.411235     5.206029  ]\n",
      " [ -1.6368481    3.6707923 ]\n",
      " [  2.3182135   22.732533  ]\n",
      " [-16.149559   -17.693485  ]\n",
      " [ -5.6604404   11.753718  ]\n",
      " [ -5.0001693    9.072311  ]\n",
      " [  3.653714   -24.01126   ]\n",
      " [ 17.93723      9.437452  ]\n",
      " [-13.23583     22.743048  ]\n",
      " [ 17.230738   -10.688474  ]\n",
      " [-24.007353   -17.630548  ]]\n",
      "[[ -7  13]\n",
      " [ 18 -12]\n",
      " [ 14   2]\n",
      " [ -4  19]\n",
      " [ 22  -6]\n",
      " [  1  -6]\n",
      " [-12  22]\n",
      " [-25  13]\n",
      " [-11  21]\n",
      " [ 16   6]\n",
      " [  1   5]\n",
      " [  1  25]\n",
      " [-18 -18]\n",
      " [ -5  12]\n",
      " [ -9  11]\n",
      " [  5 -25]\n",
      " [ 19  10]\n",
      " [-13  24]\n",
      " [ 17 -16]\n",
      " [-25 -18]]\n",
      "Val accuracy 0.9967109967109967\n"
     ]
    },
    {
     "name": "stderr",
     "output_type": "stream",
     "text": [
      "1000it [05:53,  2.81it/s]"
     ]
    },
    {
     "name": "stdout",
     "output_type": "stream",
     "text": [
      "[25,  1000] loss: 0.518\n"
     ]
    },
    {
     "name": "stderr",
     "output_type": "stream",
     "text": [
      "2000it [11:47,  2.81it/s]"
     ]
    },
    {
     "name": "stdout",
     "output_type": "stream",
     "text": [
      "[25,  2000] loss: 0.530\n"
     ]
    },
    {
     "name": "stderr",
     "output_type": "stream",
     "text": [
      "3000it [17:55,  2.82it/s]"
     ]
    },
    {
     "name": "stdout",
     "output_type": "stream",
     "text": [
      "[25,  3000] loss: 0.537\n"
     ]
    },
    {
     "name": "stderr",
     "output_type": "stream",
     "text": [
      "4000it [23:49,  2.80it/s]"
     ]
    },
    {
     "name": "stdout",
     "output_type": "stream",
     "text": [
      "[25,  4000] loss: 0.537\n"
     ]
    },
    {
     "name": "stderr",
     "output_type": "stream",
     "text": [
      "4954it [29:27,  2.80it/s]\n"
     ]
    },
    {
     "name": "stdout",
     "output_type": "stream",
     "text": [
      "val_loss 1.0938693518298013\n",
      "[[ 17.386946     6.2687674 ]\n",
      " [ -2.624405   -12.475471  ]\n",
      " [ -7.5163193    9.116247  ]\n",
      " [-18.83052      9.102449  ]\n",
      " [  0.85898274 -13.701306  ]\n",
      " [-15.035132    -1.2903051 ]\n",
      " [ 20.568577    -6.820314  ]\n",
      " [ -6.3908935   19.46475   ]\n",
      " [ 17.958954    15.713793  ]\n",
      " [ 19.373226     3.2064838 ]\n",
      " [ -9.627879    15.627688  ]\n",
      " [ 20.026924   -10.286525  ]\n",
      " [  7.67533    -20.872192  ]\n",
      " [-22.317183    -9.499836  ]\n",
      " [  8.76425     14.360756  ]\n",
      " [ -3.8074505  -21.112879  ]\n",
      " [  7.753297   -15.442868  ]\n",
      " [ -2.4834151   -7.679307  ]\n",
      " [-12.295827   -15.423804  ]\n",
      " [ 11.609931    -0.73965687]]\n",
      "[[ 25   5]\n",
      " [ -2 -13]\n",
      " [ -7  10]\n",
      " [-22  11]\n",
      " [  2 -15]\n",
      " [-17  -1]\n",
      " [ 21  -8]\n",
      " [ -6  20]\n",
      " [ 19  16]\n",
      " [ 19   4]\n",
      " [-10  16]\n",
      " [ 19 -11]\n",
      " [  8 -22]\n",
      " [-23 -10]\n",
      " [  9  16]\n",
      " [ -5 -21]\n",
      " [ 11 -16]\n",
      " [ -2  -7]\n",
      " [-13 -16]\n",
      " [ 11  -1]]\n",
      "Val accuracy 0.9968539968539969\n"
     ]
    },
    {
     "name": "stderr",
     "output_type": "stream",
     "text": [
      "1000it [05:53,  2.83it/s]"
     ]
    },
    {
     "name": "stdout",
     "output_type": "stream",
     "text": [
      "[26,  1000] loss: 0.507\n"
     ]
    },
    {
     "name": "stderr",
     "output_type": "stream",
     "text": [
      "2000it [12:01,  2.84it/s]"
     ]
    },
    {
     "name": "stdout",
     "output_type": "stream",
     "text": [
      "[26,  2000] loss: 0.516\n"
     ]
    },
    {
     "name": "stderr",
     "output_type": "stream",
     "text": [
      "3000it [17:55,  2.82it/s]"
     ]
    },
    {
     "name": "stdout",
     "output_type": "stream",
     "text": [
      "[26,  3000] loss: 0.517\n"
     ]
    },
    {
     "name": "stderr",
     "output_type": "stream",
     "text": [
      "4000it [23:49,  2.83it/s]"
     ]
    },
    {
     "name": "stdout",
     "output_type": "stream",
     "text": [
      "[26,  4000] loss: 0.524\n"
     ]
    },
    {
     "name": "stderr",
     "output_type": "stream",
     "text": [
      "4954it [29:27,  2.80it/s]\n"
     ]
    },
    {
     "name": "stdout",
     "output_type": "stream",
     "text": [
      "val_loss 1.1915188489641462\n",
      "[[ 14.946308  -19.088867 ]\n",
      " [  4.474303    4.3353267]\n",
      " [ 13.787654   -7.4442844]\n",
      " [  9.297338   24.021381 ]\n",
      " [ -4.5672703  12.209286 ]\n",
      " [ -8.88594    15.774326 ]\n",
      " [-10.984104  -16.736572 ]\n",
      " [ 10.370594   14.5618515]\n",
      " [ 11.128239  -23.055601 ]\n",
      " [ -8.65132   -14.919718 ]\n",
      " [ 10.664124    8.962524 ]\n",
      " [ 17.61188    17.61046  ]\n",
      " [ 22.82707   -13.971572 ]\n",
      " [  3.5513997  20.172043 ]\n",
      " [-13.713749  -22.337456 ]\n",
      " [ 11.470742   -2.048025 ]\n",
      " [  7.224561   24.535099 ]\n",
      " [ 21.873299  -13.317971 ]\n",
      " [ 14.332149   14.545751 ]\n",
      " [ -4.0741715 -23.6369   ]]\n",
      "[[ 17 -21]\n",
      " [  6   4]\n",
      " [  9  -9]\n",
      " [  9  25]\n",
      " [ -4  12]\n",
      " [ -9  17]\n",
      " [-12 -19]\n",
      " [ 10  15]\n",
      " [ 12 -23]\n",
      " [ -9 -16]\n",
      " [ 11  10]\n",
      " [ 18  17]\n",
      " [ 24 -14]\n",
      " [  4  20]\n",
      " [-15 -24]\n",
      " [ 12  -3]\n",
      " [ 10  25]\n",
      " [ 16 -11]\n",
      " [ 16  16]\n",
      " [ -5 -25]]\n",
      "Val accuracy 0.996996996996997\n"
     ]
    },
    {
     "name": "stderr",
     "output_type": "stream",
     "text": [
      "1000it [05:56,  2.84it/s]"
     ]
    },
    {
     "name": "stdout",
     "output_type": "stream",
     "text": [
      "[27,  1000] loss: 0.507\n"
     ]
    },
    {
     "name": "stderr",
     "output_type": "stream",
     "text": [
      "2000it [11:50,  2.81it/s]"
     ]
    },
    {
     "name": "stdout",
     "output_type": "stream",
     "text": [
      "[27,  2000] loss: 0.512\n"
     ]
    },
    {
     "name": "stderr",
     "output_type": "stream",
     "text": [
      "3000it [17:45,  2.80it/s]"
     ]
    },
    {
     "name": "stdout",
     "output_type": "stream",
     "text": [
      "[27,  3000] loss: 0.500\n"
     ]
    },
    {
     "name": "stderr",
     "output_type": "stream",
     "text": [
      "4000it [23:46,  2.63it/s]"
     ]
    },
    {
     "name": "stdout",
     "output_type": "stream",
     "text": [
      "[27,  4000] loss: 0.518\n"
     ]
    },
    {
     "name": "stderr",
     "output_type": "stream",
     "text": [
      "4954it [29:29,  2.80it/s]\n"
     ]
    },
    {
     "name": "stdout",
     "output_type": "stream",
     "text": [
      "val_loss 1.1931995035239629\n",
      "[[  7.8853936   12.680875  ]\n",
      " [-23.46935    -12.433882  ]\n",
      " [ 20.299496    11.680852  ]\n",
      " [ -8.274901   -12.394868  ]\n",
      " [ 14.228041   -19.656544  ]\n",
      " [ -0.7081084    9.943454  ]\n",
      " [ 10.326008    -4.3828197 ]\n",
      " [-19.904432    17.143951  ]\n",
      " [ 21.325554   -16.266834  ]\n",
      " [-11.565871   -12.238298  ]\n",
      " [ 20.083647     0.31096056]\n",
      " [-23.504509   -15.238617  ]\n",
      " [  9.880295     5.909108  ]\n",
      " [ 15.517488   -11.095982  ]\n",
      " [ 19.04242      2.7973614 ]\n",
      " [ 22.31256    -12.0107    ]\n",
      " [ -9.019979    -2.5601246 ]\n",
      " [-13.706277    19.435982  ]\n",
      " [ -9.985624    -4.667756  ]\n",
      " [  4.380914    20.086435  ]]\n",
      "[[  8  13]\n",
      " [-24 -14]\n",
      " [ 19  12]\n",
      " [ -5 -13]\n",
      " [ 19 -25]\n",
      " [ -1  11]\n",
      " [  7  -4]\n",
      " [-20  13]\n",
      " [ 20 -17]\n",
      " [-13 -12]\n",
      " [ 20   0]\n",
      " [-25 -17]\n",
      " [ 10   6]\n",
      " [ 13 -12]\n",
      " [ 17   4]\n",
      " [ 25 -13]\n",
      " [-10  -2]\n",
      " [-14  21]\n",
      " [-11  -5]\n",
      " [  5  20]]\n",
      "Val accuracy 0.9968539968539969\n"
     ]
    },
    {
     "name": "stderr",
     "output_type": "stream",
     "text": [
      "1000it [05:54,  2.82it/s]"
     ]
    },
    {
     "name": "stdout",
     "output_type": "stream",
     "text": [
      "[28,  1000] loss: 0.493\n"
     ]
    },
    {
     "name": "stderr",
     "output_type": "stream",
     "text": [
      "2000it [11:47,  2.84it/s]"
     ]
    },
    {
     "name": "stdout",
     "output_type": "stream",
     "text": [
      "[28,  2000] loss: 0.491\n"
     ]
    },
    {
     "name": "stderr",
     "output_type": "stream",
     "text": [
      "3000it [17:54,  2.81it/s]"
     ]
    },
    {
     "name": "stdout",
     "output_type": "stream",
     "text": [
      "[28,  3000] loss: 0.497\n"
     ]
    },
    {
     "name": "stderr",
     "output_type": "stream",
     "text": [
      "4000it [23:49,  2.81it/s]"
     ]
    },
    {
     "name": "stdout",
     "output_type": "stream",
     "text": [
      "[28,  4000] loss: 0.497\n"
     ]
    },
    {
     "name": "stderr",
     "output_type": "stream",
     "text": [
      "4954it [29:27,  2.80it/s]\n"
     ]
    },
    {
     "name": "stdout",
     "output_type": "stream",
     "text": [
      "val_loss 1.14254447051457\n",
      "[[  1.0414875    9.114406  ]\n",
      " [ 19.931168    -1.3942903 ]\n",
      " [  5.742019    16.63632   ]\n",
      " [ -6.4799275  -16.727161  ]\n",
      " [-15.201236     2.58076   ]\n",
      " [ 12.833246    -2.805921  ]\n",
      " [  7.537482     2.8140678 ]\n",
      " [ -9.485303     2.1578329 ]\n",
      " [ 11.094025   -17.203259  ]\n",
      " [ 15.439684    18.75686   ]\n",
      " [-14.493712   -23.822292  ]\n",
      " [  5.1634693  -23.35887   ]\n",
      " [-16.794914    -9.583209  ]\n",
      " [ 16.243816    16.970713  ]\n",
      " [-10.719206    -5.6885285 ]\n",
      " [ 15.244765    17.276014  ]\n",
      " [ -6.371796     0.58102846]\n",
      " [ -2.2277334  -17.357767  ]\n",
      " [  6.793478    13.069261  ]\n",
      " [-15.06847     15.186804  ]]\n",
      "[[  3   6]\n",
      " [ 22  -1]\n",
      " [  6  15]\n",
      " [ -6 -17]\n",
      " [-16   3]\n",
      " [ 13  -2]\n",
      " [ 11   3]\n",
      " [-10   2]\n",
      " [ 12 -25]\n",
      " [ 16  19]\n",
      " [-16 -25]\n",
      " [  5 -24]\n",
      " [-17 -10]\n",
      " [ 12  17]\n",
      " [-14  -5]\n",
      " [ 16  18]\n",
      " [ -7   2]\n",
      " [ -1 -22]\n",
      " [  6  13]\n",
      " [-17  17]]\n",
      "Val accuracy 0.9967109967109967\n"
     ]
    },
    {
     "name": "stderr",
     "output_type": "stream",
     "text": [
      "1000it [05:55,  2.63it/s]"
     ]
    },
    {
     "name": "stdout",
     "output_type": "stream",
     "text": [
      "[29,  1000] loss: 0.482\n"
     ]
    },
    {
     "name": "stderr",
     "output_type": "stream",
     "text": [
      "2000it [12:02,  2.81it/s]"
     ]
    },
    {
     "name": "stdout",
     "output_type": "stream",
     "text": [
      "[29,  2000] loss: 0.475\n"
     ]
    },
    {
     "name": "stderr",
     "output_type": "stream",
     "text": [
      "3000it [17:56,  2.83it/s]"
     ]
    },
    {
     "name": "stdout",
     "output_type": "stream",
     "text": [
      "[29,  3000] loss: 0.486\n"
     ]
    },
    {
     "name": "stderr",
     "output_type": "stream",
     "text": [
      "4000it [23:50,  2.84it/s]"
     ]
    },
    {
     "name": "stdout",
     "output_type": "stream",
     "text": [
      "[29,  4000] loss: 0.484\n"
     ]
    },
    {
     "name": "stderr",
     "output_type": "stream",
     "text": [
      "4954it [29:27,  2.80it/s]\n"
     ]
    },
    {
     "name": "stdout",
     "output_type": "stream",
     "text": [
      "val_loss 1.1213311076504844\n",
      "[[  8.901288   -3.8037286]\n",
      " [ 17.790674  -14.108566 ]\n",
      " [ 15.304417  -22.205385 ]\n",
      " [-20.267195  -24.11775  ]\n",
      " [-10.117693   -4.51636  ]\n",
      " [ 14.846023   -9.623865 ]\n",
      " [-20.319391  -12.925324 ]\n",
      " [-11.564652  -11.375006 ]\n",
      " [ 22.555716   22.717085 ]\n",
      " [ 21.232399  -21.80516  ]\n",
      " [  9.861012   -5.627308 ]\n",
      " [ 21.991365   20.095219 ]\n",
      " [ -3.9430583 -10.75005  ]\n",
      " [  3.7220051   7.8756814]\n",
      " [-10.322789   18.256037 ]\n",
      " [-13.845579  -13.561999 ]\n",
      " [-13.812606  -12.972036 ]\n",
      " [ 24.216831   20.74731  ]\n",
      " [ 16.40365   -12.3596115]\n",
      " [ 15.650233  -13.208909 ]]\n",
      "[[  9  -4]\n",
      " [ 19 -15]\n",
      " [ 14 -23]\n",
      " [-22 -24]\n",
      " [-10  -5]\n",
      " [ 16 -10]\n",
      " [-21 -11]\n",
      " [-13 -12]\n",
      " [ 22  24]\n",
      " [ 21 -23]\n",
      " [  8  -9]\n",
      " [ 22  21]\n",
      " [ -4 -12]\n",
      " [  3  10]\n",
      " [-13  20]\n",
      " [-13 -15]\n",
      " [-15 -13]\n",
      " [ 25  22]\n",
      " [ 17 -13]\n",
      " [ 15 -13]]\n",
      "Val accuracy 0.9972829972829973\n"
     ]
    },
    {
     "name": "stderr",
     "output_type": "stream",
     "text": [
      "1000it [05:55,  2.81it/s]"
     ]
    },
    {
     "name": "stdout",
     "output_type": "stream",
     "text": [
      "[30,  1000] loss: 0.463\n"
     ]
    },
    {
     "name": "stderr",
     "output_type": "stream",
     "text": [
      "2000it [11:51,  2.80it/s]"
     ]
    },
    {
     "name": "stdout",
     "output_type": "stream",
     "text": [
      "[30,  2000] loss: 0.463\n"
     ]
    },
    {
     "name": "stderr",
     "output_type": "stream",
     "text": [
      "3000it [17:46,  2.84it/s]"
     ]
    },
    {
     "name": "stdout",
     "output_type": "stream",
     "text": [
      "[30,  3000] loss: 0.477\n"
     ]
    },
    {
     "name": "stderr",
     "output_type": "stream",
     "text": [
      "4000it [23:48,  2.59it/s]"
     ]
    },
    {
     "name": "stdout",
     "output_type": "stream",
     "text": [
      "[30,  4000] loss: 0.470\n"
     ]
    },
    {
     "name": "stderr",
     "output_type": "stream",
     "text": [
      "4954it [29:31,  2.80it/s]\n"
     ]
    },
    {
     "name": "stdout",
     "output_type": "stream",
     "text": [
      "val_loss 1.1417055500234876\n",
      "[[ 23.830963     1.2751846 ]\n",
      " [-10.065567    -2.375956  ]\n",
      " [-18.933342   -17.424143  ]\n",
      " [ -5.389085   -15.878895  ]\n",
      " [ 22.059673     7.6521845 ]\n",
      " [ -0.13740699  16.114944  ]\n",
      " [  1.2595942   20.614286  ]\n",
      " [ 22.54105      2.0281491 ]\n",
      " [ 15.29063      9.893289  ]\n",
      " [ -5.4712815    1.5489733 ]\n",
      " [-15.352193     1.672993  ]\n",
      " [-18.777063   -21.286074  ]\n",
      " [-18.41793     -3.5205805 ]\n",
      " [ 12.249979     7.858715  ]\n",
      " [  0.7366855    9.785559  ]\n",
      " [ 11.474692    -0.26363662]\n",
      " [ 24.108715    -7.656402  ]\n",
      " [  2.879816    15.254882  ]\n",
      " [ -4.8788753   -1.919151  ]\n",
      " [  9.42516    -12.517896  ]]\n",
      "[[ 24   1]\n",
      " [-10  -3]\n",
      " [-20 -19]\n",
      " [ -4 -16]\n",
      " [ 22   9]\n",
      " [ -1  17]\n",
      " [ -1  22]\n",
      " [ 23   2]\n",
      " [ 16  11]\n",
      " [ -6   1]\n",
      " [-16   2]\n",
      " [-22 -22]\n",
      " [-20  -3]\n",
      " [ 12   9]\n",
      " [  1  11]\n",
      " [ 12   2]\n",
      " [ 25  -7]\n",
      " [  2  16]\n",
      " [ -4  -2]\n",
      " [  9 -13]]\n",
      "Val accuracy 0.9965679965679966\n"
     ]
    },
    {
     "name": "stderr",
     "output_type": "stream",
     "text": [
      "1000it [05:53,  2.85it/s]"
     ]
    },
    {
     "name": "stdout",
     "output_type": "stream",
     "text": [
      "[31,  1000] loss: 0.449\n"
     ]
    },
    {
     "name": "stderr",
     "output_type": "stream",
     "text": [
      "2000it [11:48,  2.84it/s]"
     ]
    },
    {
     "name": "stdout",
     "output_type": "stream",
     "text": [
      "[31,  2000] loss: 0.457\n"
     ]
    },
    {
     "name": "stderr",
     "output_type": "stream",
     "text": [
      "2045it [12:04,  2.82it/s]\n"
     ]
    },
    {
     "ename": "KeyboardInterrupt",
     "evalue": "",
     "output_type": "error",
     "traceback": [
      "\u001b[0;31m---------------------------------------------------------------------------\u001b[0m",
      "\u001b[0;31mKeyboardInterrupt\u001b[0m                         Traceback (most recent call last)",
      "\u001b[0;32m/tmp/ipykernel_1604/3313627041.py\u001b[0m in \u001b[0;36m<module>\u001b[0;34m\u001b[0m\n\u001b[1;32m     19\u001b[0m \u001b[0;34m\u001b[0m\u001b[0m\n\u001b[1;32m     20\u001b[0m         \u001b[0;31m# print statistics\u001b[0m\u001b[0;34m\u001b[0m\u001b[0;34m\u001b[0m\u001b[0;34m\u001b[0m\u001b[0m\n\u001b[0;32m---> 21\u001b[0;31m         \u001b[0mrun_tot_loss\u001b[0m \u001b[0;34m+=\u001b[0m \u001b[0mloss\u001b[0m\u001b[0;34m.\u001b[0m\u001b[0mitem\u001b[0m\u001b[0;34m(\u001b[0m\u001b[0;34m)\u001b[0m\u001b[0;34m\u001b[0m\u001b[0;34m\u001b[0m\u001b[0m\n\u001b[0m\u001b[1;32m     22\u001b[0m         \u001b[0mrunning_loss\u001b[0m \u001b[0;34m+=\u001b[0m \u001b[0mloss\u001b[0m\u001b[0;34m.\u001b[0m\u001b[0mitem\u001b[0m\u001b[0;34m(\u001b[0m\u001b[0;34m)\u001b[0m\u001b[0;34m\u001b[0m\u001b[0;34m\u001b[0m\u001b[0m\n\u001b[1;32m     23\u001b[0m         \u001b[0;32mif\u001b[0m \u001b[0mi\u001b[0m \u001b[0;34m%\u001b[0m \u001b[0;36m1000\u001b[0m \u001b[0;34m==\u001b[0m \u001b[0;36m999\u001b[0m\u001b[0;34m:\u001b[0m\u001b[0;34m\u001b[0m\u001b[0;34m\u001b[0m\u001b[0m\n",
      "\u001b[0;31mKeyboardInterrupt\u001b[0m: "
     ]
    }
   ],
   "source": [
    "base = 0\n",
    "for epoch in range(5, 100):  # loop over the dataset multiple times\n",
    "    net.train()\n",
    "    running_loss = 0.0\n",
    "    run_tot_loss = 0.0\n",
    "    j = 0\n",
    "    for i, data in tqdm(enumerate(trainloader, 0)):\n",
    "#         get the inputs; data is a list of [inputs, labels]\n",
    "        inputs, labels = data\n",
    "        # zero the parameter gradients\n",
    "        outputs = net(inputs)\n",
    "        optimizer.zero_grad()\n",
    "#         print(outputs)\n",
    "#         print(labels)\n",
    "#         print(outputs.shape, labels.shape)\n",
    "        loss = criterion(outputs, labels)\n",
    "        loss.backward()\n",
    "        optimizer.step()\n",
    "\n",
    "        # print statistics\n",
    "        run_tot_loss += loss.item()\n",
    "        running_loss += loss.item()\n",
    "        if i % 1000 == 999:\n",
    "            print('[%d, %5d] loss: %.3f' %\n",
    "                  (epoch, i + 1, running_loss / 1000))\n",
    "            running_loss = 0.0\n",
    "        j += 1\n",
    "    train_l.append(run_tot_loss / j)\n",
    "    running_val_loss = 0\n",
    "    correct = 0\n",
    "    total = 0\n",
    "    torch.save(net.state_dict(), 'saved_models/resnet_jitter_' + str(epoch + base) + '.pth')\n",
    "    k = 0\n",
    "    net.eval()\n",
    "    val_preds = []\n",
    "    val_labels = []\n",
    "    for j, data  in enumerate(valloader):\n",
    "        k+=1\n",
    "        images, labels = data\n",
    "        with torch.no_grad():\n",
    "            outputs = net(images)\n",
    "            val_preds.append(outputs.detach().cpu().numpy())\n",
    "            val_labels.append(labels.detach().cpu().numpy())\n",
    "#             preds = torch.argmax(nn.functional.softmax(outputs, dim=1), dim=1)\n",
    "#             correct += (preds == labels).sum()\n",
    "#             total += labels.shape[0]\n",
    "            loss = criterion(outputs, labels)\n",
    "            running_val_loss += loss.item()\n",
    "    print(\"val_loss\", running_val_loss / k)\n",
    "    val_l.append(running_val_loss / k)\n",
    "    val_acc = jitter_score(np.concatenate(val_preds), np.concatenate(val_labels))\n",
    "    print(np.concatenate(val_preds)[:20])\n",
    "    print(np.concatenate(val_labels)[:20])\n",
    "    print(\"Val accuracy\", val_acc)\n",
    "    val_loss = running_val_loss / k\n",
    "    if val_loss < min_val:\n",
    "        min_val = val_loss2\n",
    "        best_model = net\n",
    "        best_epoch = epoch\n",
    "print('Finished Training')"
   ]
  },
  {
   "cell_type": "markdown",
   "id": "6e3f5da8",
   "metadata": {},
   "source": [
    "#### val acc 0.997"
   ]
  },
  {
   "cell_type": "code",
   "execution_count": 98,
   "id": "a64d4609",
   "metadata": {},
   "outputs": [
    {
     "data": {
      "text/plain": [
       "['positives_v3',\n",
       " 'inference',\n",
       " 'negatives_v2',\n",
       " 'positives_v2',\n",
       " 'positives',\n",
       " 'negatives']"
      ]
     },
     "execution_count": 98,
     "metadata": {},
     "output_type": "execute_result"
    }
   ],
   "source": [
    "os.listdir(\"/home/oqbrady/data/data/sub_boxes/\")"
   ]
  },
  {
   "cell_type": "code",
   "execution_count": 209,
   "id": "44aed1b2",
   "metadata": {},
   "outputs": [
    {
     "name": "stdout",
     "output_type": "stream",
     "text": [
      "test_loss 0.4040759995670212\n",
      "test accuracy tensor(0.8642, device='cuda:0')\n"
     ]
    }
   ],
   "source": [
    "preds_all = []\n",
    "correct_all = []\n",
    "correct = 0\n",
    "total = 0\n",
    "running_val_loss = 0\n",
    "for j, data  in enumerate(valloader):\n",
    "    images, labels = data\n",
    "    with torch.no_grad():\n",
    "        outputs = net(images)\n",
    "        soft = nn.functional.softmax(outputs, dim=1)\n",
    "#         print(soft)\n",
    "#         soft[:, 1] = soft[:, 1] + 0.9\n",
    "#         print(soft)\n",
    "        preds = torch.argmax(soft, dim=1)\n",
    "        preds_all.append(preds.detach().cpu().numpy())\n",
    "        correct_all.append(labels.detach().cpu().numpy())\n",
    "        correct += (preds == labels).sum()\n",
    "        total += labels.shape[0]\n",
    "        loss = criterion(outputs, labels)\n",
    "        running_val_loss += loss.item()\n",
    "print(\"test_loss\", running_val_loss / j)\n",
    "print(\"test accuracy\", correct / total)"
   ]
  },
  {
   "cell_type": "code",
   "execution_count": 210,
   "id": "987475fd",
   "metadata": {},
   "outputs": [
    {
     "data": {
      "text/plain": [
       "<sklearn.metrics._plot.confusion_matrix.ConfusionMatrixDisplay at 0x7f3da89f3650>"
      ]
     },
     "execution_count": 210,
     "metadata": {},
     "output_type": "execute_result"
    },
    {
     "data": {
      "image/png": "[encoded data removed]",
      "text/plain": [
       "<Figure size 432x288 with 2 Axes>"
      ]
     },
     "metadata": {
      "needs_background": "light"
     },
     "output_type": "display_data"
    }
   ],
   "source": [
    "x = confusion_matrix(np.concatenate(correct_all), np.concatenate(preds_all))\n",
    "ConfusionMatrixDisplay(x).plot()"
   ]
  },
  {
   "cell_type": "code",
   "execution_count": null,
   "id": "3adead03",
   "metadata": {},
   "outputs": [],
   "source": []
  }
 ],
 "metadata": {
  "kernelspec": {
   "display_name": "Python 3",
   "language": "python",
   "name": "python3"
  },
  "language_info": {
   "codemirror_mode": {
    "name": "ipython",
    "version": 3
   },
   "file_extension": ".py",
   "mimetype": "text/x-python",
   "name": "python",
   "nbconvert_exporter": "python",
   "pygments_lexer": "ipython3",
   "version": "3.7.10"
  }
 },
 "nbformat": 4,
 "nbformat_minor": 5
}
