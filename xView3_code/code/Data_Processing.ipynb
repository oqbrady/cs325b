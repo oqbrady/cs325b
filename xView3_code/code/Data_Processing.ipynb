{
 "cells": [
  {
   "cell_type": "code",
   "execution_count": null,
   "id": "da60f9d6",
   "metadata": {},
   "outputs": [],
   "source": [
    "import importlib\n",
    "import os\n",
    "from pathlib import Path\n",
    "import json\n",
    "\n",
    "import numpy as np\n",
    "\n",
    "import torch\n",
    "import torch.nn as nn\n",
    "import torch.utils.data\n",
    "\n",
    "from scipy.spatial import distance\n",
    "import matplotlib.pyplot as plt\n",
    "from tqdm import tqdm\n",
    "\n",
    "import pandas as pd\n",
    "import random\n",
    "from multiprocessing import Pool"
   ]
  },
  {
   "cell_type": "code",
   "execution_count": 9,
   "id": "6748af98",
   "metadata": {},
   "outputs": [],
   "source": [
    "detection_size = 25"
   ]
  },
  {
   "cell_type": "code",
   "execution_count": 10,
   "id": "ca204f44",
   "metadata": {},
   "outputs": [
    {
     "data": {
      "text/plain": [
       "True"
      ]
     },
     "execution_count": 10,
     "metadata": {},
     "output_type": "execute_result"
    }
   ],
   "source": [
    "torch.cuda.is_available()"
   ]
  },
  {
   "cell_type": "code",
   "execution_count": 42,
   "id": "c88e6b3e",
   "metadata": {},
   "outputs": [],
   "source": [
    "image_folder = '/home/oqbrady/data/data/'\n",
    "label_file_root = '/home/oqbrady/data/data/'\n",
    "chips_path = '/home/oqbrady/data/data/chips/'\n",
    "train_data_root = Path(image_folder) / 'train'\n",
    "train_label_file = Path(label_file_root) / 'train.csv'\n",
    "train_chips_path = Path(chips_path) / 'train'\n",
    "val_data_root = Path(image_folder) / 'validation'\n",
    "val_label_file = Path(label_file_root) / 'validation.csv'\n",
    "val_chips_path = Path(chips_path) / 'validation'\n",
    "train_chips = '/home/oqbrady/data/data/chips/train'\n",
    "val_chips = '/home/oqbrady/data/data/chips/validation'"
   ]
  },
  {
   "cell_type": "code",
   "execution_count": 43,
   "id": "69c2ccb2",
   "metadata": {},
   "outputs": [],
   "source": [
    "# val_label = pd.read_csv(val_label_file)"
   ]
  },
  {
   "cell_type": "code",
   "execution_count": 41,
   "id": "f0cc65ef",
   "metadata": {},
   "outputs": [
    {
     "data": {
      "text/plain": [
       "array(['264ed833a13b7f2av', '13dd786ee6c95e06v', '590dd08f71056cacv',\n",
       "       '0d8ed29b0760dc59v', '2e80028071b89173v', '9a5aa7310c195f14v',\n",
       "       'e40c9251a4fce150v', '3ceef682fbe4930av', '39268d50efe8dae9v',\n",
       "       'a6073537a4ea5fb9v', 'cd4f6ff86f9f5991v', '4a97701b4bd81bf7v',\n",
       "       'f298dbd78ef977d5v', 'cd36e75010a021f7v', '5e9a2c1bcf179e9bv',\n",
       "       'fc2f57371370c521v', '128443d1e98e2839v', '94dca5e4de2edcf8v',\n",
       "       '335f9a411884e9cbv', 'b1844cde847a3942v', '377410f6ab9824dfv',\n",
       "       '36076e547370064ev', '9b89b9dcce7dc85ev', '4da9db72dea50504v',\n",
       "       'acf76647ba3f524bv', 'c8bbfb37522617e9v', '9ea5029406691ce4v',\n",
       "       '5c3d986db930f848v', 'f9eb760aaf6e798dv', '8204efcfe9f09f94v',\n",
       "       'a1a21a222e244555v', '758991708403f218v', 'fe6a8d80fb5ebb8ev',\n",
       "       '3fe00bf7beab8812v', '487b4884f467c94av', 'fc483682c621b54bv',\n",
       "       '6a2b6ddecd398c6fv', '0157baf3866b2cf9v', '75c03770095c6d9ev',\n",
       "       '0e309957cef7bdc8v', '7b7e837a7ac5a880v', '65d6f6baee882077v',\n",
       "       '844545c005776fb1v', '204e657a411faf4dv', 'a9a58462f221a9eev',\n",
       "       '9c418af4acd217d1v', 'eeddcc0db3cff0d8v', 'c5ea6da5405bfac0v',\n",
       "       'cdc04ca397865356v', '3808f5703f0920bfv'], dtype=object)"
      ]
     },
     "execution_count": 41,
     "metadata": {},
     "output_type": "execute_result"
    }
   ],
   "source": [
    "val_label['scene_id'].unique()"
   ]
  },
  {
   "cell_type": "code",
   "execution_count": 44,
   "id": "ce26c13a",
   "metadata": {},
   "outputs": [
    {
     "name": "stderr",
     "output_type": "stream",
     "text": [
      "/opt/conda/lib/python3.7/site-packages/IPython/core/interactiveshell.py:3444: DtypeWarning: Columns (7,8,11,16) have mixed types.Specify dtype option on import or set low_memory=False.\n",
      "  exec(code_obj, self.user_global_ns, self.user_ns)\n"
     ]
    }
   ],
   "source": [
    "train_raw = pd.read_csv('/home/oqbrady/data/data/chips/train/train_chip_annotations.csv')\n",
    "train_open = train_raw[~pd.isna(train_raw['is_vessel'])]\n",
    "val_raw = pd.read_csv('/home/oqbrady/data/data/chips/validation/val_chip_annotations.csv')\n",
    "val_open = val_raw[~pd.isna(val_raw['is_vessel'])]"
   ]
  },
  {
   "cell_type": "code",
   "execution_count": 45,
   "id": "d3555b23",
   "metadata": {},
   "outputs": [],
   "source": [
    "# for positives\n",
    "train_group = train_open[train_open['source'] != 'background'].groupby(by=['chip_index', \"scene_id\"])\n",
    "val_group = val_open[val_open['source'] != 'background'].groupby(by=['chip_index', \"scene_id\"])"
   ]
  },
  {
   "cell_type": "code",
   "execution_count": 46,
   "id": "cdf4a8f2",
   "metadata": {},
   "outputs": [
    {
     "data": {
      "text/plain": [
       "array(['7b7e837a7ac5a880v'], dtype=object)"
      ]
     },
     "execution_count": 46,
     "metadata": {},
     "output_type": "execute_result"
    }
   ],
   "source": [
    "val_raw['scene_id'].unique()"
   ]
  },
  {
   "cell_type": "code",
   "execution_count": 19,
   "id": "35554e9e",
   "metadata": {},
   "outputs": [],
   "source": [
    "save_path = '/home/oqbrady/data/data/sub_boxes/positives_v3/'"
   ]
  },
  {
   "cell_type": "code",
   "execution_count": 20,
   "id": "884f67c9",
   "metadata": {},
   "outputs": [],
   "source": [
    "# os.mkdir('/home/oqbrady/data/data/sub_boxes/positives_v3/')"
   ]
  },
  {
   "cell_type": "code",
   "execution_count": 21,
   "id": "b79a97ff",
   "metadata": {},
   "outputs": [],
   "source": [
    "# fls = os.listdir('/home/oqbrady/data/data/sub_boxes/positives_v2')"
   ]
  },
  {
   "cell_type": "code",
   "execution_count": 22,
   "id": "0157694a",
   "metadata": {},
   "outputs": [],
   "source": [
    "# done = {}\n",
    "# for i in fls:\n",
    "#     s, c = i.split('_')[:2]\n",
    "#     if s not in done:\n",
    "#         done[s] = set()\n",
    "#     done[s].add(c)"
   ]
  },
  {
   "cell_type": "code",
   "execution_count": 48,
   "id": "0a8f38aa",
   "metadata": {},
   "outputs": [
    {
     "name": "stderr",
     "output_type": "stream",
     "text": [
      " 36%|██████████████████████████████▊                                                       | 199/555 [42:54<1:19:59, 13.48s/it]"
     ]
    },
    {
     "name": "stdout",
     "output_type": "stream",
     "text": [
      "train_chip_annotations.csv\n"
     ]
    },
    {
     "name": "stderr",
     "output_type": "stream",
     "text": [
      "100%|██████████████████████████████████████████████████████████████████████████████████████| 555/555 [2:03:34<00:00, 13.36s/it]\n"
     ]
    }
   ],
   "source": [
    "# labels = [class, length] # class is 0, nothing, 1 M.O., 2 vessel, 3 fishing\n",
    "# def process_scene(train_img, labels, lengths, jitters, k):\n",
    "k = 0\n",
    "labels = []\n",
    "lengths = []\n",
    "jitters_x = []\n",
    "jitters_y = []\n",
    "\n",
    "scenes_tot = []\n",
    "chips = []\n",
    "nums = []\n",
    "\n",
    "for train_img in tqdm(os.listdir(train_chips_path)):\n",
    "    if \".\" in train_img:\n",
    "        print(train_img)\n",
    "        continue\n",
    "    scences = os.listdir(chips_path + 'train/' + train_img + '/vh')\n",
    "    scene_nums = [x.split(\"_\")[0] for x in scences]\n",
    "    for num in scene_nums:\n",
    "        key = (int(num), train_img)\n",
    "        if key not in train_group.groups:\n",
    "#             print(key)\n",
    "            continue\n",
    "        detections = train_group.get_group(key)\n",
    "        vh = np.load(chips_path + 'train/' + train_img + '/vh/' + str(num) + '_vh.npy')\n",
    "        vv = np.load(chips_path + 'train/' + train_img + '/vv/' + str(num) + '_vv.npy')\n",
    "        bay = np.load(chips_path + 'train/' + train_img + '/bathymetry/' + str(num) + '_bathymetry.npy')\n",
    "        for i in range(detections.shape[0]):\n",
    "            row = detections.iloc[i, :]['rows']\n",
    "            col = detections.iloc[i, :]['columns']\n",
    "            jitter_x = random.randint(-25,25)\n",
    "            jitter_y = random.randint(-25,25)\n",
    "            splice_1 = vh[row - detection_size + jitter_x: row + detection_size + jitter_x,\n",
    "                          col - detection_size + jitter_y: col + detection_size + jitter_y]\n",
    "            splice_2 = vv[row - detection_size + jitter_x: row + detection_size + jitter_x,\n",
    "                          col - detection_size + jitter_y: col + detection_size + jitter_y]\n",
    "            splice_3 = bay[row - detection_size + jitter_x: row + detection_size + jitter_x,\n",
    "                           col - detection_size + jitter_y: col + detection_size + jitter_y]\n",
    "            if splice_1.shape != (50, 50):\n",
    "                continue\n",
    "            jitters_x.append(jitter_x)\n",
    "            jitters_y.append(jitter_y)\n",
    "            labels.append(detections.iloc[i, :]['vessel_class'])\n",
    "            lengths.append(detections.iloc[i, :]['vessel_length_m'])\n",
    "            foldername = train_img + '_' + num + '_' + str(k)\n",
    "            scenes_tot.append(train_img)\n",
    "            chips.append(num)\n",
    "            nums.append(k)\n",
    "            try:\n",
    "                os.mkdir(save_path + foldername)\n",
    "                np.save(save_path + foldername + '/' + str(k) + '_vh.npy', splice_1)\n",
    "                np.save(save_path + foldername + '/' + str(k) + '_vv.npy', splice_2)\n",
    "                np.save(save_path + foldername + '/' + str(k) + '_bay.npy', splice_3)\n",
    "                k += 1\n",
    "            except:\n",
    "                continue"
   ]
  },
  {
   "cell_type": "code",
   "execution_count": 50,
   "id": "31b0fa4b",
   "metadata": {},
   "outputs": [
    {
     "name": "stdout",
     "output_type": "stream",
     "text": [
      "46620 46620 46620 46620 46620 46620\n"
     ]
    }
   ],
   "source": [
    "print(len(labels), len(lengths), len(jitters_x), len(jitters_y), len(nums), len(scenes_tot))"
   ]
  },
  {
   "cell_type": "code",
   "execution_count": 54,
   "id": "28a0e6e5",
   "metadata": {},
   "outputs": [
    {
     "name": "stdout",
     "output_type": "stream",
     "text": [
      "(hey)\n"
     ]
    }
   ],
   "source": [
    "print(\"(hey)\")"
   ]
  },
  {
   "cell_type": "code",
   "execution_count": 52,
   "id": "ef1c10df",
   "metadata": {},
   "outputs": [],
   "source": [
    "df = pd.DataFrame({\"labels\" : labels, \"lengths\" : lengths, \"jitter_x\" : jitters_x, 'jitter_y' : jitters_y,\n",
    "                   'scene' : scenes_tot, 'chip' : chips, 'num' : nums})"
   ]
  },
  {
   "cell_type": "code",
   "execution_count": 53,
   "id": "99c1b5dc",
   "metadata": {},
   "outputs": [],
   "source": [
    "df.to_csv(\"labels_v4_train.csv\")"
   ]
  },
  {
   "cell_type": "code",
   "execution_count": 55,
   "id": "49294714",
   "metadata": {},
   "outputs": [
    {
     "data": {
      "text/plain": [
       "(46620, 7)"
      ]
     },
     "execution_count": 55,
     "metadata": {},
     "output_type": "execute_result"
    }
   ],
   "source": [
    "df.shape"
   ]
  },
  {
   "cell_type": "code",
   "execution_count": 56,
   "id": "c88d2a91",
   "metadata": {
    "scrolled": true
   },
   "outputs": [
    {
     "ename": "NameError",
     "evalue": "name 'viz' is not defined",
     "output_type": "error",
     "traceback": [
      "\u001b[0;31m---------------------------------------------------------------------------\u001b[0m",
      "\u001b[0;31mNameError\u001b[0m                                 Traceback (most recent call last)",
      "\u001b[0;32m/tmp/ipykernel_28260/3937886565.py\u001b[0m in \u001b[0;36m<module>\u001b[0;34m\u001b[0m\n\u001b[0;32m----> 1\u001b[0;31m \u001b[0mplt\u001b[0m\u001b[0;34m.\u001b[0m\u001b[0mimshow\u001b[0m\u001b[0;34m(\u001b[0m\u001b[0mviz\u001b[0m\u001b[0;34m[\u001b[0m\u001b[0;36m60\u001b[0m\u001b[0;34m]\u001b[0m\u001b[0;34m,\u001b[0m \u001b[0mcmap\u001b[0m\u001b[0;34m=\u001b[0m\u001b[0;34m'bone'\u001b[0m\u001b[0;34m)\u001b[0m\u001b[0;34m\u001b[0m\u001b[0;34m\u001b[0m\u001b[0m\n\u001b[0m",
      "\u001b[0;31mNameError\u001b[0m: name 'viz' is not defined"
     ]
    }
   ],
   "source": [
    "plt.imshow(viz[60], cmap='bone')"
   ]
  },
  {
   "cell_type": "code",
   "execution_count": 80,
   "id": "a91d33b3",
   "metadata": {},
   "outputs": [
    {
     "name": "stderr",
     "output_type": "stream",
     "text": [
      "  0%|                                                                                                           | 0/25 [00:00<?, ?it/s]\n"
     ]
    },
    {
     "ename": "NameError",
     "evalue": "name 'img' is not defined",
     "output_type": "error",
     "traceback": [
      "\u001b[0;31m---------------------------------------------------------------------------\u001b[0m",
      "\u001b[0;31mNameError\u001b[0m                                 Traceback (most recent call last)",
      "\u001b[0;32m/tmp/ipykernel_20439/2261211025.py\u001b[0m in \u001b[0;36m<module>\u001b[0;34m\u001b[0m\n\u001b[1;32m     15\u001b[0m         \u001b[0msplice_2\u001b[0m \u001b[0;34m=\u001b[0m \u001b[0mvv\u001b[0m\u001b[0;34m[\u001b[0m\u001b[0mrow\u001b[0m \u001b[0;34m-\u001b[0m \u001b[0mdetection_size\u001b[0m\u001b[0;34m:\u001b[0m \u001b[0mrow\u001b[0m \u001b[0;34m+\u001b[0m \u001b[0mdetection_size\u001b[0m\u001b[0;34m,\u001b[0m \u001b[0mcol\u001b[0m \u001b[0;34m-\u001b[0m \u001b[0mdetection_size\u001b[0m\u001b[0;34m:\u001b[0m \u001b[0mcol\u001b[0m \u001b[0;34m+\u001b[0m \u001b[0mdetection_size\u001b[0m\u001b[0;34m]\u001b[0m\u001b[0;34m\u001b[0m\u001b[0;34m\u001b[0m\u001b[0m\n\u001b[1;32m     16\u001b[0m         \u001b[0msplice_3\u001b[0m \u001b[0;34m=\u001b[0m \u001b[0mbay\u001b[0m\u001b[0;34m[\u001b[0m\u001b[0mrow\u001b[0m \u001b[0;34m-\u001b[0m \u001b[0mdetection_size\u001b[0m\u001b[0;34m:\u001b[0m \u001b[0mrow\u001b[0m \u001b[0;34m+\u001b[0m \u001b[0mdetection_size\u001b[0m\u001b[0;34m,\u001b[0m \u001b[0mcol\u001b[0m \u001b[0;34m-\u001b[0m \u001b[0mdetection_size\u001b[0m\u001b[0;34m:\u001b[0m \u001b[0mcol\u001b[0m \u001b[0;34m+\u001b[0m \u001b[0mdetection_size\u001b[0m\u001b[0;34m]\u001b[0m\u001b[0;34m\u001b[0m\u001b[0;34m\u001b[0m\u001b[0m\n\u001b[0;32m---> 17\u001b[0;31m         \u001b[0;32mif\u001b[0m \u001b[0mimg\u001b[0m\u001b[0;34m.\u001b[0m\u001b[0mshape\u001b[0m \u001b[0;34m!=\u001b[0m \u001b[0;34m(\u001b[0m\u001b[0;34m)\u001b[0m\u001b[0;34m:\u001b[0m\u001b[0;34m\u001b[0m\u001b[0;34m\u001b[0m\u001b[0m\n\u001b[0m\u001b[1;32m     18\u001b[0m             \u001b[0;32mcontinue\u001b[0m\u001b[0;34m\u001b[0m\u001b[0;34m\u001b[0m\u001b[0m\n\u001b[1;32m     19\u001b[0m             \u001b[0mprint\u001b[0m\u001b[0;34m(\u001b[0m\u001b[0mimg\u001b[0m\u001b[0;34m.\u001b[0m\u001b[0mshape\u001b[0m\u001b[0;34m)\u001b[0m\u001b[0;34m\u001b[0m\u001b[0;34m\u001b[0m\u001b[0m\n",
      "\u001b[0;31mNameError\u001b[0m: name 'img' is not defined"
     ]
    }
   ],
   "source": [
    "images = []\n",
    "# labels = [class, length] # class is 0, nothing, 1 M.O., 2 vessel, 3 fishing\n",
    "labels = []\n",
    "jitters = []\n",
    "scenes = []\n",
    "chips = [\n",
    "]\n",
    "for train_img in tqdm(os.listdir(train_data_root)[:25]):\n",
    "    scences = os.listdir(chips_path + 'train/' + train_img + '/vh')\n",
    "    scene_nums = [x.split(\"_\")[0] for x in scences]\n",
    "    for num in scene_nums:\n",
    "        vh = np.load(chips_path + 'train/' + train_img + '/vh/' + str(num) + '_vh.npy')\n",
    "        vv = np.load(chips_path + 'train/' + train_img + '/vv/' + str(num) + '_vv.npy')\n",
    "        bay = np.load(chips_path + 'train/' + train_img + '/bathymetry/' + str(num) + '_bathymetry.npy')\n",
    "        row = random.randint(25,75)\n",
    "        col = random.randint(25,75)\n",
    "        splice_1 = vh[row - detection_size: row + detection_size, col - detection_size: col + detection_size]\n",
    "        splice_2 = vv[row - detection_size: row + detection_size, col - detection_size: col + detection_size]\n",
    "        splice_3 = bay[row - detection_size: row + detection_size, col - detection_size: col + detection_size]\n",
    "        if img.shape != ():\n",
    "            continue\n",
    "            print(img.shape)\n",
    "            print(row - detection_size, row + detection_size, col - detection_size, col + detection_size)\n",
    "        images.append(img)\n",
    "        labels.append(0)"
   ]
  },
  {
   "cell_type": "code",
   "execution_count": null,
   "id": "ea181f40",
   "metadata": {},
   "outputs": [],
   "source": [
    "k = 0\n",
    "labels = []\n",
    "lengths = []\n",
    "jitters = []\n",
    "for train_img in tqdm(os.listdir(train_chips_path)):\n",
    "    if \".\" in train_img:\n",
    "        print(train_img)\n",
    "        continue\n",
    "    scences = os.listdir(chips_path + 'train/' + train_img + '/vh')\n",
    "    scene_nums = [x.split(\"_\")[0] for x in scences]\n",
    "    for num in scene_nums:\n",
    "        key = (int(num), train_img)\n",
    "        if key not in train_group.groups:\n",
    "#             print(key)\n",
    "            continue\n",
    "        detections = train_group.get_group(key)\n",
    "#         vh = np.load(chips_path + 'train/' + train_img + '/vh/' + str(num) + '_vh.npy')\n",
    "#         vv = np.load(chips_path + 'train/' + train_img + '/vv/' + str(num) + '_vv.npy')\n",
    "#         bay = np.load(chips_path + 'train/' + train_img + '/bathymetry/' + str(num) + '_bathymetry.npy')\n",
    "        for i in range(detections.shape[0]):\n",
    "            row = detections.iloc[i, :]['rows']\n",
    "            col = detections.iloc[i, :]['columns']\n",
    "            jitter_x = random.randint(-25,25)\n",
    "            jitter_y = random.randint(-25,25)\n",
    "#             splice_1 = vh[row - detection_size + jitter_x: row + detection_size + jitter_x,\n",
    "#                           col - detection_size + jitter_y: col + detection_size + jitter_y]\n",
    "#             splice_2 = vv[row - detection_size + jitter_x: row + detection_size + jitter_x,\n",
    "#                           col - detection_size + jitter_y: col + detection_size + jitter_y]\n",
    "#             splice_3 = bay[row - detection_size + jitter_x: row + detection_size + jitter_x,\n",
    "#                            col - detection_size + jitter_y: col + detection_size + jitter_y]\n",
    "            if splice_1.shape != (50, 50):\n",
    "                continue\n",
    "            jitters.append([jitter_x, jitter_y])\n",
    "            labels.append(detections.iloc[i, :]['vessel_class'])\n",
    "            lengths.append(detections.iloc[i, :]['vessel_length_m'])\n",
    "            foldername = train_img + '_' + num + '_' + str(k)\n",
    "            try:\n",
    "                os.mkdir(save_path + foldername)\n",
    "                np.save(save_path + foldername + '/' + str(k) + '_vh.npy', splice_1)\n",
    "                np.save(save_path + foldername + '/' + str(k) + '_vv.npy', splice_2)\n",
    "                np.save(save_path + foldername + '/' + str(k) + '_bay.npy', splice_3)\n",
    "                k += 1\n",
    "            except:\n",
    "                continue\n",
    "df = pd.DataFrame({\"labels\" : labels, \"lengths\" : lengths, \"jitters\" : jitters})\n",
    "df.to_csv(\"labels_v2_train.csv\")"
   ]
  }
 ],
 "metadata": {
  "kernelspec": {
   "display_name": "xview3",
   "language": "python",
   "name": "xview3"
  },
  "language_info": {
   "codemirror_mode": {
    "name": "ipython",
    "version": 3
   },
   "file_extension": ".py",
   "mimetype": "text/x-python",
   "name": "python",
   "nbconvert_exporter": "python",
   "pygments_lexer": "ipython3",
   "version": "3.9.2"
  }
 },
 "nbformat": 4,
 "nbformat_minor": 5
}
