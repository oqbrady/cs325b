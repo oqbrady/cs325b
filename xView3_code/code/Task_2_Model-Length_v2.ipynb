{
 "cells": [
  {
   "cell_type": "code",
   "execution_count": 1,
   "id": "5184830f",
   "metadata": {},
   "outputs": [],
   "source": [
    "from __future__ import print_function, division\n",
    "import os\n",
    "import torch\n",
    "import pandas as pd\n",
    "from skimage import io, transform\n",
    "import numpy as np\n",
    "import matplotlib.pyplot as plt\n",
    "from torch.utils.data import Dataset, DataLoader\n",
    "from torchvision import transforms, utils\n",
    "from sklearn.model_selection import train_test_split\n",
    "from tqdm import tqdm\n",
    "from sklearn.metrics import confusion_matrix\n",
    "from sklearn.metrics import ConfusionMatrixDisplay\n",
    "import xgboost as xgb\n",
    "from torchvision import models\n",
    "from torch import nn\n",
    "from torch import optim"
   ]
  },
  {
   "cell_type": "code",
   "execution_count": 2,
   "id": "fbe18c7d",
   "metadata": {},
   "outputs": [],
   "source": [
    "nan_val = -32768.0\n",
    "device = torch.device(\"cuda\" if torch.cuda.is_available() else \"cpu\")"
   ]
  },
  {
   "cell_type": "code",
   "execution_count": 3,
   "id": "6a81e13b",
   "metadata": {},
   "outputs": [],
   "source": [
    "train_chips = '/home/oqbrady/data/data/chips/train/'\n",
    "val_chips = '/home/oqbrady/data/data/chips/validation/'\n",
    "train_files = os.listdir('/home/oqbrady/data/data/chips/train/')\n",
    "val_scenes = os.listdir(val_chips)\n",
    "train_scences = os.listdir(train_chips)"
   ]
  },
  {
   "cell_type": "code",
   "execution_count": 4,
   "id": "72b41660",
   "metadata": {},
   "outputs": [],
   "source": [
    "inference_scenes = pd.read_csv('inference_scenes.csv')\n",
    "inference = inference_scenes['0'].to_list()"
   ]
  },
  {
   "cell_type": "code",
   "execution_count": 5,
   "id": "3fb305b0",
   "metadata": {},
   "outputs": [],
   "source": [
    "pos_image_path = '/home/oqbrady/data/data/sub_boxes/positives_v3/'\n",
    "neg_image_path = '/home/oqbrady/data/data/sub_boxes/negatives/'"
   ]
  },
  {
   "cell_type": "code",
   "execution_count": 6,
   "id": "9b002701",
   "metadata": {},
   "outputs": [],
   "source": [
    "labels_train = pd.read_csv(\"labels_v4_train.csv\")\n",
    "# labels_val = pd.read_csv(\"labels_v3_val.csv\")"
   ]
  },
  {
   "cell_type": "code",
   "execution_count": 7,
   "id": "11772dda",
   "metadata": {},
   "outputs": [],
   "source": [
    "names = ['bay_mean', 'vh_mean', 'vh_max', 'vv_max', 'vh_min', 'vv_min', 'land', 'NaN', 'label', 'scene', 'chip', 'num']\n",
    "neg_samples = pd.read_csv(\"negative_chip_vals.csv\", names=names)"
   ]
  },
  {
   "cell_type": "code",
   "execution_count": 8,
   "id": "ef88e48a",
   "metadata": {},
   "outputs": [],
   "source": [
    "neg_samples = neg_samples.drop(np.nan)"
   ]
  },
  {
   "cell_type": "code",
   "execution_count": 9,
   "id": "c3795402",
   "metadata": {},
   "outputs": [
    {
     "data": {
      "text/plain": [
       "(1937374, 12)"
      ]
     },
     "execution_count": 9,
     "metadata": {},
     "output_type": "execute_result"
    }
   ],
   "source": [
    "neg_samples.shape"
   ]
  },
  {
   "cell_type": "code",
   "execution_count": 10,
   "id": "ea7cb95e",
   "metadata": {},
   "outputs": [],
   "source": [
    "# bst = xgb.Booster()  # init model\n",
    "# bst.load_model('gbt_v1.model')  # load data\n",
    "# test = neg_samples.drop(labels=['label', 'scene', 'chip', 'num'], axis=1)\n",
    "# dtest = xgb.DMatrix(test)\n",
    "# ypred = bst.predict(dtest)\n",
    "# predictions = ypred > 0.5\n",
    "# neg_samples['preds'] = predictions\n",
    "# pos_neg_samples = neg_samples[neg_samples['preds'] == 1]"
   ]
  },
  {
   "cell_type": "code",
   "execution_count": 11,
   "id": "a406a5d6",
   "metadata": {},
   "outputs": [],
   "source": [
    "pos_neg_samples = pd.read_csv(\"positive_negative_samples.csv\")"
   ]
  },
  {
   "cell_type": "code",
   "execution_count": 12,
   "id": "989d2745",
   "metadata": {},
   "outputs": [],
   "source": [
    "df_gbt = pd.read_csv(\"train_GBT.csv\", names=names[:-3])"
   ]
  },
  {
   "cell_type": "code",
   "execution_count": 13,
   "id": "106363f7",
   "metadata": {},
   "outputs": [],
   "source": [
    "df_means = df_gbt.copy()"
   ]
  },
  {
   "cell_type": "code",
   "execution_count": 14,
   "id": "7ce23ce2",
   "metadata": {},
   "outputs": [
    {
     "data": {
      "text/html": [
       "<div>\n",
       "<style scoped>\n",
       "    .dataframe tbody tr th:only-of-type {\n",
       "        vertical-align: middle;\n",
       "    }\n",
       "\n",
       "    .dataframe tbody tr th {\n",
       "        vertical-align: top;\n",
       "    }\n",
       "\n",
       "    .dataframe thead th {\n",
       "        text-align: right;\n",
       "    }\n",
       "</style>\n",
       "<table border=\"1\" class=\"dataframe\">\n",
       "  <thead>\n",
       "    <tr style=\"text-align: right;\">\n",
       "      <th></th>\n",
       "      <th>bay_mean</th>\n",
       "      <th>vh_mean</th>\n",
       "      <th>vh_max</th>\n",
       "      <th>vv_max</th>\n",
       "      <th>vh_min</th>\n",
       "      <th>vv_min</th>\n",
       "      <th>land</th>\n",
       "      <th>NaN</th>\n",
       "      <th>label</th>\n",
       "    </tr>\n",
       "  </thead>\n",
       "  <tbody>\n",
       "    <tr>\n",
       "      <th>0</th>\n",
       "      <td>-99.964500</td>\n",
       "      <td>-30.477900</td>\n",
       "      <td>-26.203125</td>\n",
       "      <td>-13.328125</td>\n",
       "      <td>-37.12500</td>\n",
       "      <td>-30.203125</td>\n",
       "      <td>0.0</td>\n",
       "      <td>0.0</td>\n",
       "      <td>0.0</td>\n",
       "    </tr>\n",
       "    <tr>\n",
       "      <th>1</th>\n",
       "      <td>-3594.778809</td>\n",
       "      <td>-28.181025</td>\n",
       "      <td>-24.625000</td>\n",
       "      <td>-15.484375</td>\n",
       "      <td>-34.87500</td>\n",
       "      <td>-32.562500</td>\n",
       "      <td>0.0</td>\n",
       "      <td>0.0</td>\n",
       "      <td>0.0</td>\n",
       "    </tr>\n",
       "    <tr>\n",
       "      <th>2</th>\n",
       "      <td>0.000000</td>\n",
       "      <td>0.000000</td>\n",
       "      <td>0.000000</td>\n",
       "      <td>0.000000</td>\n",
       "      <td>0.00000</td>\n",
       "      <td>0.000000</td>\n",
       "      <td>1.0</td>\n",
       "      <td>0.0</td>\n",
       "      <td>0.0</td>\n",
       "    </tr>\n",
       "    <tr>\n",
       "      <th>3</th>\n",
       "      <td>-39.001675</td>\n",
       "      <td>-28.543694</td>\n",
       "      <td>-23.734375</td>\n",
       "      <td>-17.656250</td>\n",
       "      <td>-37.31250</td>\n",
       "      <td>-32.468750</td>\n",
       "      <td>0.0</td>\n",
       "      <td>0.0</td>\n",
       "      <td>0.0</td>\n",
       "    </tr>\n",
       "    <tr>\n",
       "      <th>4</th>\n",
       "      <td>-46.351612</td>\n",
       "      <td>-29.431162</td>\n",
       "      <td>-25.296875</td>\n",
       "      <td>-15.976562</td>\n",
       "      <td>-39.18750</td>\n",
       "      <td>-29.562500</td>\n",
       "      <td>0.0</td>\n",
       "      <td>0.0</td>\n",
       "      <td>0.0</td>\n",
       "    </tr>\n",
       "    <tr>\n",
       "      <th>...</th>\n",
       "      <td>...</td>\n",
       "      <td>...</td>\n",
       "      <td>...</td>\n",
       "      <td>...</td>\n",
       "      <td>...</td>\n",
       "      <td>...</td>\n",
       "      <td>...</td>\n",
       "      <td>...</td>\n",
       "      <td>...</td>\n",
       "    </tr>\n",
       "    <tr>\n",
       "      <th>1807139</th>\n",
       "      <td>-68.119278</td>\n",
       "      <td>-31.918276</td>\n",
       "      <td>-25.437500</td>\n",
       "      <td>-12.796875</td>\n",
       "      <td>-39.28125</td>\n",
       "      <td>-22.750000</td>\n",
       "      <td>0.0</td>\n",
       "      <td>0.0</td>\n",
       "      <td>0.0</td>\n",
       "    </tr>\n",
       "    <tr>\n",
       "      <th>1807140</th>\n",
       "      <td>-117.068878</td>\n",
       "      <td>-28.421625</td>\n",
       "      <td>-24.593750</td>\n",
       "      <td>-19.500000</td>\n",
       "      <td>-35.87500</td>\n",
       "      <td>-35.781250</td>\n",
       "      <td>0.0</td>\n",
       "      <td>0.0</td>\n",
       "      <td>0.0</td>\n",
       "    </tr>\n",
       "    <tr>\n",
       "      <th>1807141</th>\n",
       "      <td>-4764.534180</td>\n",
       "      <td>-32.727139</td>\n",
       "      <td>-27.000000</td>\n",
       "      <td>-21.421875</td>\n",
       "      <td>-38.81250</td>\n",
       "      <td>-35.125000</td>\n",
       "      <td>0.0</td>\n",
       "      <td>0.0</td>\n",
       "      <td>0.0</td>\n",
       "    </tr>\n",
       "    <tr>\n",
       "      <th>1807142</th>\n",
       "      <td>-125.340927</td>\n",
       "      <td>-30.516380</td>\n",
       "      <td>-25.765625</td>\n",
       "      <td>-13.593750</td>\n",
       "      <td>-37.43750</td>\n",
       "      <td>-27.921875</td>\n",
       "      <td>0.0</td>\n",
       "      <td>0.0</td>\n",
       "      <td>0.0</td>\n",
       "    </tr>\n",
       "    <tr>\n",
       "      <th>1807143</th>\n",
       "      <td>-51.090626</td>\n",
       "      <td>-32768.000000</td>\n",
       "      <td>-32768.000000</td>\n",
       "      <td>-32768.000000</td>\n",
       "      <td>-32768.00000</td>\n",
       "      <td>-32768.000000</td>\n",
       "      <td>0.0</td>\n",
       "      <td>1.0</td>\n",
       "      <td>0.0</td>\n",
       "    </tr>\n",
       "  </tbody>\n",
       "</table>\n",
       "<p>1807144 rows × 9 columns</p>\n",
       "</div>"
      ],
      "text/plain": [
       "            bay_mean       vh_mean        vh_max        vv_max       vh_min  \\\n",
       "0         -99.964500    -30.477900    -26.203125    -13.328125    -37.12500   \n",
       "1       -3594.778809    -28.181025    -24.625000    -15.484375    -34.87500   \n",
       "2           0.000000      0.000000      0.000000      0.000000      0.00000   \n",
       "3         -39.001675    -28.543694    -23.734375    -17.656250    -37.31250   \n",
       "4         -46.351612    -29.431162    -25.296875    -15.976562    -39.18750   \n",
       "...              ...           ...           ...           ...          ...   \n",
       "1807139   -68.119278    -31.918276    -25.437500    -12.796875    -39.28125   \n",
       "1807140  -117.068878    -28.421625    -24.593750    -19.500000    -35.87500   \n",
       "1807141 -4764.534180    -32.727139    -27.000000    -21.421875    -38.81250   \n",
       "1807142  -125.340927    -30.516380    -25.765625    -13.593750    -37.43750   \n",
       "1807143   -51.090626 -32768.000000 -32768.000000 -32768.000000 -32768.00000   \n",
       "\n",
       "               vv_min  land  NaN  label  \n",
       "0          -30.203125   0.0  0.0    0.0  \n",
       "1          -32.562500   0.0  0.0    0.0  \n",
       "2            0.000000   1.0  0.0    0.0  \n",
       "3          -32.468750   0.0  0.0    0.0  \n",
       "4          -29.562500   0.0  0.0    0.0  \n",
       "...               ...   ...  ...    ...  \n",
       "1807139    -22.750000   0.0  0.0    0.0  \n",
       "1807140    -35.781250   0.0  0.0    0.0  \n",
       "1807141    -35.125000   0.0  0.0    0.0  \n",
       "1807142    -27.921875   0.0  0.0    0.0  \n",
       "1807143 -32768.000000   0.0  1.0    0.0  \n",
       "\n",
       "[1807144 rows x 9 columns]"
      ]
     },
     "execution_count": 14,
     "metadata": {},
     "output_type": "execute_result"
    }
   ],
   "source": [
    "df_gbt"
   ]
  },
  {
   "cell_type": "code",
   "execution_count": 15,
   "id": "9f8bc488",
   "metadata": {},
   "outputs": [
    {
     "data": {
      "text/plain": [
       "1674.5504056349082"
      ]
     },
     "execution_count": 15,
     "metadata": {},
     "output_type": "execute_result"
    }
   ],
   "source": [
    "df_means[(df_means['NaN'] == 0)]['bay_mean'].std()"
   ]
  },
  {
   "cell_type": "code",
   "execution_count": 16,
   "id": "0db5efc3",
   "metadata": {},
   "outputs": [
    {
     "data": {
      "text/plain": [
       "1674.5504056349082"
      ]
     },
     "execution_count": 16,
     "metadata": {},
     "output_type": "execute_result"
    }
   ],
   "source": [
    "df_means[(df_means['NaN'] == 0)]['bay_mean'].std()"
   ]
  },
  {
   "cell_type": "code",
   "execution_count": 17,
   "id": "37c07e69",
   "metadata": {},
   "outputs": [],
   "source": [
    "min_vh = df_means[df_means['vh_min'] != nan_val]['vh_min'].min()\n",
    "min_vv = df_means[df_means['vv_min'] != nan_val]['vv_min'].min()\n",
    "min_bay = df_means[(df_means['bay_mean'] != nan_val) & (df_means['NaN'] == 0)]['bay_mean'].min()"
   ]
  },
  {
   "cell_type": "code",
   "execution_count": 18,
   "id": "62319756",
   "metadata": {},
   "outputs": [],
   "source": [
    "mean_vh = df_means[df_means['NaN'] != 1]['vh_mean'].mean()\n",
    "mean_vv = -15 #df_means[df_means['NaN'] != 1]['vv_mean'].mean()\n",
    "mean_bay = df_means[df_means['NaN'] != 1]['bay_mean'].mean()"
   ]
  },
  {
   "cell_type": "code",
   "execution_count": 19,
   "id": "df471865",
   "metadata": {},
   "outputs": [],
   "source": [
    "std_vh = 7.4\n",
    "std_vv = 5.15\n",
    "std_bay = 1600"
   ]
  },
  {
   "cell_type": "code",
   "execution_count": 20,
   "id": "789b79ad",
   "metadata": {},
   "outputs": [],
   "source": [
    "image_paths = []\n",
    "labels = []"
   ]
  },
  {
   "cell_type": "code",
   "execution_count": 21,
   "id": "d9399e60",
   "metadata": {},
   "outputs": [],
   "source": [
    "# base = neg_image_path\n",
    "# for i in range(pos_neg_samples.shape[0]):\n",
    "#     row = pos_neg_samples.iloc[i]\n",
    "#     fl = base + row['scene'] + '_' + str(row['chip']) + '_' + str(row['num'])\n",
    "#     image_paths.append(fl)\n",
    "#     labels.append(0)"
   ]
  },
  {
   "cell_type": "code",
   "execution_count": 22,
   "id": "3d6fca8f",
   "metadata": {},
   "outputs": [],
   "source": [
    "base = pos_image_path\n",
    "for i in range(labels_train.shape[0]):\n",
    "    row = labels_train.iloc[i]\n",
    "    if pd.isna(row['lengths']):\n",
    "        continue\n",
    "    fl = base + row['scene'] + '_' + str(row['chip']) + '_' + str(row['num'])\n",
    "    image_paths.append(fl)\n",
    "    labels.append(row['lengths'])"
   ]
  },
  {
   "cell_type": "code",
   "execution_count": 23,
   "id": "56f2981a",
   "metadata": {},
   "outputs": [],
   "source": [
    "# base = '/home/oqbrady/data/data/sub_boxes/inference/'\n",
    "# images = [base + x for x in os.listdir(base)]\n",
    "# image_paths.extend(images)\n",
    "# labels.extend([0] * len(images))"
   ]
  },
  {
   "cell_type": "code",
   "execution_count": 24,
   "id": "c60c7c10",
   "metadata": {},
   "outputs": [
    {
     "data": {
      "text/plain": [
       "34945"
      ]
     },
     "execution_count": 24,
     "metadata": {},
     "output_type": "execute_result"
    }
   ],
   "source": [
    "len(image_paths)"
   ]
  },
  {
   "cell_type": "code",
   "execution_count": 25,
   "id": "ab5bcb91",
   "metadata": {},
   "outputs": [
    {
     "data": {
      "text/plain": [
       "34945"
      ]
     },
     "execution_count": 25,
     "metadata": {},
     "output_type": "execute_result"
    }
   ],
   "source": [
    "len(labels)"
   ]
  },
  {
   "cell_type": "code",
   "execution_count": 26,
   "id": "e11a21e4",
   "metadata": {},
   "outputs": [],
   "source": [
    "class SARImagery(Dataset):\n",
    "    \"\"\"Face Landmarks dataset.\"\"\"\n",
    "\n",
    "    def __init__(self, image_paths, labels, transform=None):\n",
    "        \"\"\"\n",
    "        Args:\n",
    "            csv_file (string): Path to the csv file with annotations.\n",
    "            root_dir (string): Directory with all the images.\n",
    "            transform (callable, optional): Optional transform to be applied\n",
    "                on a sample.\n",
    "        \"\"\"\n",
    "        self.images = image_paths\n",
    "        self.labels = labels\n",
    "        self.transform = transform\n",
    "\n",
    "    def __len__(self):\n",
    "        return len(self.labels)\n",
    "\n",
    "    def __getitem__(self, idx):\n",
    "        if torch.is_tensor(idx):\n",
    "            idx = idx.tolist()\n",
    "\n",
    "        img_name = self.images[idx]\n",
    "        num = img_name.split(\"_\")[-1]\n",
    "        vh = np.load(img_name + '/' + num + '_vh.npy')\n",
    "        vv = np.load(img_name + '/' + num + '_vv.npy')\n",
    "        bay = np.load(img_name + '/' + num + '_bay.npy')\n",
    "        image = np.array((vv, vh, bay))\n",
    "        label = self.labels[idx]\n",
    "\n",
    "        if self.transform:\n",
    "            image = self.transform(image)\n",
    "        image = torch.from_numpy(image)\n",
    "        if torch.isnan(image).any():\n",
    "            image= torch.zeros((3, 50, 50))\n",
    "        return (image.to(device), torch.tensor(label).to(device))"
   ]
  },
  {
   "cell_type": "code",
   "execution_count": 27,
   "id": "3c470606",
   "metadata": {},
   "outputs": [],
   "source": [
    "class drop_nans(object):\n",
    "    def __call__(self, image):\n",
    "        image[0, :, :][image[0, :, :] == -32768.] = min_vh - 10\n",
    "        image[1, :, :][image[1, :, :] == -32768.] = min_vv - 10\n",
    "        image[2, :, :][image[2, :, :] == -32768.] = min_bay - 100\n",
    "        return image\n",
    "\n",
    "class norm(object):\n",
    "    def __call__(self, image):\n",
    "        image[0, :, :] = (image[0, :, :] - mean_vh) / std_vh\n",
    "        image[1, :, :] = (image[1, :, :] - mean_vv) / std_vv\n",
    "        image[2, :, :] = (image[2, :, :] - mean_bay) / std_bay\n",
    "        return image"
   ]
  },
  {
   "cell_type": "code",
   "execution_count": 28,
   "id": "d96c2908",
   "metadata": {},
   "outputs": [],
   "source": [
    "transform = transforms.Compose(\n",
    "    [drop_nans(),\n",
    "    norm()])"
   ]
  },
  {
   "cell_type": "code",
   "execution_count": 29,
   "id": "7b674905",
   "metadata": {},
   "outputs": [],
   "source": [
    "dataset = SARImagery(image_paths, labels, transform=transform)"
   ]
  },
  {
   "cell_type": "code",
   "execution_count": 30,
   "id": "af45317b",
   "metadata": {},
   "outputs": [],
   "source": [
    "train_len = int(len(dataset) * 0.85)\n",
    "val_len = len(dataset) - train_len"
   ]
  },
  {
   "cell_type": "code",
   "execution_count": 31,
   "id": "eb4cd894",
   "metadata": {},
   "outputs": [
    {
     "name": "stdout",
     "output_type": "stream",
     "text": [
      "29703 5242\n"
     ]
    }
   ],
   "source": [
    "print(train_len, val_len)"
   ]
  },
  {
   "cell_type": "code",
   "execution_count": 32,
   "id": "a0132bde",
   "metadata": {},
   "outputs": [],
   "source": [
    "train_data, val_data = torch.utils.data.random_split(dataset, lengths=[train_len,val_len])"
   ]
  },
  {
   "cell_type": "code",
   "execution_count": 33,
   "id": "de2b0135",
   "metadata": {},
   "outputs": [],
   "source": [
    "labels_np = np.array(labels)"
   ]
  },
  {
   "cell_type": "code",
   "execution_count": 34,
   "id": "4347812d",
   "metadata": {},
   "outputs": [],
   "source": [
    "# class_counts = np.unique(labels_np, return_counts=True)[1]"
   ]
  },
  {
   "cell_type": "code",
   "execution_count": 35,
   "id": "f93f4d60",
   "metadata": {},
   "outputs": [],
   "source": [
    "# class_percent = class_counts / labels_np.shape[0]"
   ]
  },
  {
   "cell_type": "code",
   "execution_count": 36,
   "id": "f21b62bd",
   "metadata": {},
   "outputs": [],
   "source": [
    "# weights = 1 / class_percent"
   ]
  },
  {
   "cell_type": "code",
   "execution_count": 37,
   "id": "5b70caf9",
   "metadata": {},
   "outputs": [],
   "source": [
    "# class_percent"
   ]
  },
  {
   "cell_type": "code",
   "execution_count": 38,
   "id": "9a60c8e4",
   "metadata": {
    "scrolled": true
   },
   "outputs": [
    {
     "data": {
      "text/plain": [
       "ResNet(\n",
       "  (conv1): Conv2d(3, 64, kernel_size=(7, 7), stride=(2, 2), padding=(3, 3), bias=False)\n",
       "  (bn1): BatchNorm2d(64, eps=1e-05, momentum=0.1, affine=True, track_running_stats=True)\n",
       "  (relu): ReLU(inplace=True)\n",
       "  (maxpool): MaxPool2d(kernel_size=3, stride=2, padding=1, dilation=1, ceil_mode=False)\n",
       "  (layer1): Sequential(\n",
       "    (0): BasicBlock(\n",
       "      (conv1): Conv2d(64, 64, kernel_size=(3, 3), stride=(1, 1), padding=(1, 1), bias=False)\n",
       "      (bn1): BatchNorm2d(64, eps=1e-05, momentum=0.1, affine=True, track_running_stats=True)\n",
       "      (relu): ReLU(inplace=True)\n",
       "      (conv2): Conv2d(64, 64, kernel_size=(3, 3), stride=(1, 1), padding=(1, 1), bias=False)\n",
       "      (bn2): BatchNorm2d(64, eps=1e-05, momentum=0.1, affine=True, track_running_stats=True)\n",
       "    )\n",
       "    (1): BasicBlock(\n",
       "      (conv1): Conv2d(64, 64, kernel_size=(3, 3), stride=(1, 1), padding=(1, 1), bias=False)\n",
       "      (bn1): BatchNorm2d(64, eps=1e-05, momentum=0.1, affine=True, track_running_stats=True)\n",
       "      (relu): ReLU(inplace=True)\n",
       "      (conv2): Conv2d(64, 64, kernel_size=(3, 3), stride=(1, 1), padding=(1, 1), bias=False)\n",
       "      (bn2): BatchNorm2d(64, eps=1e-05, momentum=0.1, affine=True, track_running_stats=True)\n",
       "    )\n",
       "  )\n",
       "  (layer2): Sequential(\n",
       "    (0): BasicBlock(\n",
       "      (conv1): Conv2d(64, 128, kernel_size=(3, 3), stride=(2, 2), padding=(1, 1), bias=False)\n",
       "      (bn1): BatchNorm2d(128, eps=1e-05, momentum=0.1, affine=True, track_running_stats=True)\n",
       "      (relu): ReLU(inplace=True)\n",
       "      (conv2): Conv2d(128, 128, kernel_size=(3, 3), stride=(1, 1), padding=(1, 1), bias=False)\n",
       "      (bn2): BatchNorm2d(128, eps=1e-05, momentum=0.1, affine=True, track_running_stats=True)\n",
       "      (downsample): Sequential(\n",
       "        (0): Conv2d(64, 128, kernel_size=(1, 1), stride=(2, 2), bias=False)\n",
       "        (1): BatchNorm2d(128, eps=1e-05, momentum=0.1, affine=True, track_running_stats=True)\n",
       "      )\n",
       "    )\n",
       "    (1): BasicBlock(\n",
       "      (conv1): Conv2d(128, 128, kernel_size=(3, 3), stride=(1, 1), padding=(1, 1), bias=False)\n",
       "      (bn1): BatchNorm2d(128, eps=1e-05, momentum=0.1, affine=True, track_running_stats=True)\n",
       "      (relu): ReLU(inplace=True)\n",
       "      (conv2): Conv2d(128, 128, kernel_size=(3, 3), stride=(1, 1), padding=(1, 1), bias=False)\n",
       "      (bn2): BatchNorm2d(128, eps=1e-05, momentum=0.1, affine=True, track_running_stats=True)\n",
       "    )\n",
       "  )\n",
       "  (layer3): Sequential(\n",
       "    (0): BasicBlock(\n",
       "      (conv1): Conv2d(128, 256, kernel_size=(3, 3), stride=(2, 2), padding=(1, 1), bias=False)\n",
       "      (bn1): BatchNorm2d(256, eps=1e-05, momentum=0.1, affine=True, track_running_stats=True)\n",
       "      (relu): ReLU(inplace=True)\n",
       "      (conv2): Conv2d(256, 256, kernel_size=(3, 3), stride=(1, 1), padding=(1, 1), bias=False)\n",
       "      (bn2): BatchNorm2d(256, eps=1e-05, momentum=0.1, affine=True, track_running_stats=True)\n",
       "      (downsample): Sequential(\n",
       "        (0): Conv2d(128, 256, kernel_size=(1, 1), stride=(2, 2), bias=False)\n",
       "        (1): BatchNorm2d(256, eps=1e-05, momentum=0.1, affine=True, track_running_stats=True)\n",
       "      )\n",
       "    )\n",
       "    (1): BasicBlock(\n",
       "      (conv1): Conv2d(256, 256, kernel_size=(3, 3), stride=(1, 1), padding=(1, 1), bias=False)\n",
       "      (bn1): BatchNorm2d(256, eps=1e-05, momentum=0.1, affine=True, track_running_stats=True)\n",
       "      (relu): ReLU(inplace=True)\n",
       "      (conv2): Conv2d(256, 256, kernel_size=(3, 3), stride=(1, 1), padding=(1, 1), bias=False)\n",
       "      (bn2): BatchNorm2d(256, eps=1e-05, momentum=0.1, affine=True, track_running_stats=True)\n",
       "    )\n",
       "  )\n",
       "  (layer4): Sequential(\n",
       "    (0): BasicBlock(\n",
       "      (conv1): Conv2d(256, 512, kernel_size=(3, 3), stride=(2, 2), padding=(1, 1), bias=False)\n",
       "      (bn1): BatchNorm2d(512, eps=1e-05, momentum=0.1, affine=True, track_running_stats=True)\n",
       "      (relu): ReLU(inplace=True)\n",
       "      (conv2): Conv2d(512, 512, kernel_size=(3, 3), stride=(1, 1), padding=(1, 1), bias=False)\n",
       "      (bn2): BatchNorm2d(512, eps=1e-05, momentum=0.1, affine=True, track_running_stats=True)\n",
       "      (downsample): Sequential(\n",
       "        (0): Conv2d(256, 512, kernel_size=(1, 1), stride=(2, 2), bias=False)\n",
       "        (1): BatchNorm2d(512, eps=1e-05, momentum=0.1, affine=True, track_running_stats=True)\n",
       "      )\n",
       "    )\n",
       "    (1): BasicBlock(\n",
       "      (conv1): Conv2d(512, 512, kernel_size=(3, 3), stride=(1, 1), padding=(1, 1), bias=False)\n",
       "      (bn1): BatchNorm2d(512, eps=1e-05, momentum=0.1, affine=True, track_running_stats=True)\n",
       "      (relu): ReLU(inplace=True)\n",
       "      (conv2): Conv2d(512, 512, kernel_size=(3, 3), stride=(1, 1), padding=(1, 1), bias=False)\n",
       "      (bn2): BatchNorm2d(512, eps=1e-05, momentum=0.1, affine=True, track_running_stats=True)\n",
       "    )\n",
       "  )\n",
       "  (avgpool): AdaptiveAvgPool2d(output_size=(1, 1))\n",
       "  (fc): Linear(in_features=512, out_features=1, bias=True)\n",
       ")"
      ]
     },
     "execution_count": 38,
     "metadata": {},
     "output_type": "execute_result"
    }
   ],
   "source": [
    "net = models.resnet18(pretrained=True)\n",
    "net.fc = nn.Linear(in_features=512, out_features=1, bias=True)\n",
    "net.to(device)"
   ]
  },
  {
   "cell_type": "markdown",
   "id": "c4ca9bf7",
   "metadata": {},
   "source": [
    "## Dataset Prep"
   ]
  },
  {
   "cell_type": "code",
   "execution_count": 39,
   "id": "18984a17",
   "metadata": {},
   "outputs": [],
   "source": [
    "batch_size = 8\n",
    "trainloader = torch.utils.data.DataLoader(train_data, batch_size=batch_size,\n",
    "                                          shuffle=True)\n",
    "\n",
    "valloader = torch.utils.data.DataLoader(val_data, batch_size=batch_size,\n",
    "                                         shuffle=True)"
   ]
  },
  {
   "cell_type": "code",
   "execution_count": 40,
   "id": "f79db93a",
   "metadata": {},
   "outputs": [
    {
     "name": "stdout",
     "output_type": "stream",
     "text": [
      "29703 5242\n"
     ]
    }
   ],
   "source": [
    "print(len(train_data), len(val_data))"
   ]
  },
  {
   "cell_type": "code",
   "execution_count": 41,
   "id": "a79d74a4",
   "metadata": {},
   "outputs": [],
   "source": [
    "# w = torch.tensor(weights).to(device)\n",
    "criterion = nn.L1Loss()\n",
    "optimizer = optim.Adam(net.parameters(), lr=0.0001)"
   ]
  },
  {
   "cell_type": "code",
   "execution_count": 42,
   "id": "a828b09d",
   "metadata": {},
   "outputs": [],
   "source": [
    "best_model = \"\"\n",
    "min_val = 1"
   ]
  },
  {
   "cell_type": "code",
   "execution_count": 43,
   "id": "adf62c71",
   "metadata": {},
   "outputs": [],
   "source": [
    "train_l = []\n",
    "val_l = []"
   ]
  },
  {
   "cell_type": "code",
   "execution_count": 44,
   "id": "a529a226",
   "metadata": {},
   "outputs": [
    {
     "name": "stderr",
     "output_type": "stream",
     "text": [
      "Clipping input data to the valid range for imshow with RGB data ([0..1] for floats or [0..255] for integers).\n"
     ]
    },
    {
     "name": "stdout",
     "output_type": "stream",
     "text": [
      "tensor(126.5478, device='cuda:0', dtype=torch.float64)\n"
     ]
    },
    {
     "data": {
      "text/plain": [
       "<matplotlib.image.AxesImage at 0x7ff19d04a690>"
      ]
     },
     "execution_count": 44,
     "metadata": {},
     "output_type": "execute_result"
    },
    {
     "data": {
      "image/png": "[encoded data removed]",
      "text/plain": [
       "<Figure size 432x288 with 1 Axes>"
      ]
     },
     "metadata": {
      "needs_background": "light"
     },
     "output_type": "display_data"
    }
   ],
   "source": [
    "print(dataset[5][1])\n",
    "plt.imshow(dataset[5][0].detach().cpu().numpy().transpose(1, 2, 0), cmap='gray')"
   ]
  },
  {
   "cell_type": "code",
   "execution_count": 45,
   "id": "9534a35c",
   "metadata": {},
   "outputs": [],
   "source": [
    "def length_score(preds, real):\n",
    "    score = 0\n",
    "    for x, y in zip(preds, real):\n",
    "        score += np.abs(x - y) / y\n",
    "    score /= len(preds)\n",
    "    score = min(score, 1)\n",
    "    return 1 - score"
   ]
  },
  {
   "cell_type": "code",
   "execution_count": 48,
   "id": "d39b434d",
   "metadata": {},
   "outputs": [
    {
     "data": {
      "text/plain": [
       "5"
      ]
     },
     "execution_count": 48,
     "metadata": {},
     "output_type": "execute_result"
    }
   ],
   "source": [
    "np.abs(-5)"
   ]
  },
  {
   "cell_type": "code",
   "execution_count": 49,
   "id": "af67baa2",
   "metadata": {},
   "outputs": [
    {
     "name": "stderr",
     "output_type": "stream",
     "text": [
      "1000it [08:07,  1.92it/s]"
     ]
    },
    {
     "name": "stdout",
     "output_type": "stream",
     "text": [
      "[2,  1000] loss: 17.885\n"
     ]
    },
    {
     "name": "stderr",
     "output_type": "stream",
     "text": [
      "2000it [16:14,  2.22it/s]"
     ]
    },
    {
     "name": "stdout",
     "output_type": "stream",
     "text": [
      "[2,  2000] loss: 17.597\n"
     ]
    },
    {
     "name": "stderr",
     "output_type": "stream",
     "text": [
      "3000it [24:24,  1.46it/s]"
     ]
    },
    {
     "name": "stdout",
     "output_type": "stream",
     "text": [
      "[2,  3000] loss: 17.711\n"
     ]
    },
    {
     "name": "stderr",
     "output_type": "stream",
     "text": [
      "3713it [30:15,  2.05it/s]\n"
     ]
    },
    {
     "name": "stdout",
     "output_type": "stream",
     "text": [
      "val_loss 17.69442293811135\n",
      "[[ 22.234627]\n",
      " [178.13332 ]\n",
      " [109.44536 ]\n",
      " [157.45636 ]\n",
      " [ 47.438354]\n",
      " [128.42447 ]\n",
      " [ 20.679247]\n",
      " [130.3209  ]\n",
      " [ 22.457458]\n",
      " [ 22.997896]\n",
      " [142.6708  ]\n",
      " [ 20.995546]\n",
      " [100.32826 ]\n",
      " [105.638054]\n",
      " [126.68526 ]\n",
      " [128.84973 ]\n",
      " [147.17998 ]\n",
      " [ 76.390175]\n",
      " [144.5562  ]\n",
      " [155.96924 ]]\n",
      "[ 21.6        204.31361679  74.28364277 145.88451567  54.37213298\n",
      " 113.9500685   21.8        110.05632291  22.8         23.61\n",
      " 169.27872992  23.61       118.62458     14.2        106.60867394\n",
      " 130.05945875 145.31171308  73.640187   193.45080668 192.39415925]\n",
      "Val accuracy [0.7105672]\n"
     ]
    },
    {
     "name": "stderr",
     "output_type": "stream",
     "text": [
      "1000it [07:53,  2.22it/s]"
     ]
    },
    {
     "name": "stdout",
     "output_type": "stream",
     "text": [
      "[3,  1000] loss: 16.893\n"
     ]
    },
    {
     "name": "stderr",
     "output_type": "stream",
     "text": [
      "2000it [14:54,  2.15it/s]"
     ]
    },
    {
     "name": "stdout",
     "output_type": "stream",
     "text": [
      "[3,  2000] loss: 16.764\n"
     ]
    },
    {
     "name": "stderr",
     "output_type": "stream",
     "text": [
      "3000it [21:48,  2.35it/s]"
     ]
    },
    {
     "name": "stdout",
     "output_type": "stream",
     "text": [
      "[3,  3000] loss: 17.276\n"
     ]
    },
    {
     "name": "stderr",
     "output_type": "stream",
     "text": [
      "3713it [26:30,  2.33it/s]\n"
     ]
    },
    {
     "name": "stdout",
     "output_type": "stream",
     "text": [
      "val_loss 19.746988218731996\n",
      "[[206.07088 ]\n",
      " [ 30.72765 ]\n",
      " [135.04977 ]\n",
      " [136.29317 ]\n",
      " [ 28.133951]\n",
      " [207.87433 ]\n",
      " [128.99683 ]\n",
      " [ 24.526657]\n",
      " [133.13623 ]\n",
      " [ 86.232315]\n",
      " [ 32.644756]\n",
      " [ 22.055218]\n",
      " [148.8879  ]\n",
      " [ 29.319822]\n",
      " [151.47772 ]\n",
      " [114.64991 ]\n",
      " [ 26.859976]\n",
      " [140.78854 ]\n",
      " [ 44.02032 ]\n",
      " [ 46.125874]]\n",
      "[242.77529032  17.5        166.60151918 223.56659579  20.5\n",
      " 242.97256536 132.8597981   16.435      143.31302693 108.85985852\n",
      "  28.5         17.5        181.16028908  31.20000038 152.95397081\n",
      " 128.91922763  25.70000038 239.81214491  45.40728906  23.94487844]\n",
      "Val accuracy [0.69944274]\n"
     ]
    },
    {
     "name": "stderr",
     "output_type": "stream",
     "text": [
      "1000it [05:16,  3.00it/s]"
     ]
    },
    {
     "name": "stdout",
     "output_type": "stream",
     "text": [
      "[4,  1000] loss: 16.057\n"
     ]
    },
    {
     "name": "stderr",
     "output_type": "stream",
     "text": [
      "2000it [10:29,  2.99it/s]"
     ]
    },
    {
     "name": "stdout",
     "output_type": "stream",
     "text": [
      "[4,  2000] loss: 16.635\n"
     ]
    },
    {
     "name": "stderr",
     "output_type": "stream",
     "text": [
      "3000it [16:05,  2.62it/s]"
     ]
    },
    {
     "name": "stdout",
     "output_type": "stream",
     "text": [
      "[4,  3000] loss: 16.207\n"
     ]
    },
    {
     "name": "stderr",
     "output_type": "stream",
     "text": [
      "3713it [20:26,  3.03it/s]\n"
     ]
    },
    {
     "name": "stdout",
     "output_type": "stream",
     "text": [
      "val_loss 18.35115848699721\n",
      "[[ 82.35717 ]\n",
      " [ 20.921898]\n",
      " [ 53.22463 ]\n",
      " [144.8376  ]\n",
      " [ 69.20016 ]\n",
      " [164.75897 ]\n",
      " [ 42.13165 ]\n",
      " [ 25.236555]\n",
      " [148.62186 ]\n",
      " [183.58504 ]\n",
      " [101.37397 ]\n",
      " [ 23.37674 ]\n",
      " [ 42.427383]\n",
      " [ 47.97301 ]\n",
      " [ 23.999043]\n",
      " [ 33.476974]\n",
      " [101.97819 ]\n",
      " [ 20.185488]\n",
      " [147.78477 ]\n",
      " [ 18.13963 ]]\n",
      "[ 84.26701721  21.95        57.05192941 180.59422238  74.22575763\n",
      "  67.48860899  45.13859945  31.5        160.01250623 236.17292954\n",
      " 138.99104619  28.          37.3480466   29.96326328  24.2\n",
      "  53.73428802  88.93353493  11.99       179.39454827  26.15      ]\n",
      "Val accuracy [0.73960924]\n"
     ]
    },
    {
     "name": "stderr",
     "output_type": "stream",
     "text": [
      "1000it [05:53,  2.83it/s]"
     ]
    },
    {
     "name": "stdout",
     "output_type": "stream",
     "text": [
      "[5,  1000] loss: 15.833\n"
     ]
    },
    {
     "name": "stderr",
     "output_type": "stream",
     "text": [
      "2000it [11:46,  2.83it/s]"
     ]
    },
    {
     "name": "stdout",
     "output_type": "stream",
     "text": [
      "[5,  2000] loss: 15.232\n"
     ]
    },
    {
     "name": "stderr",
     "output_type": "stream",
     "text": [
      "3000it [17:40,  2.81it/s]"
     ]
    },
    {
     "name": "stdout",
     "output_type": "stream",
     "text": [
      "[5,  3000] loss: 15.678\n"
     ]
    },
    {
     "name": "stderr",
     "output_type": "stream",
     "text": [
      "3713it [21:53,  2.83it/s]\n"
     ]
    },
    {
     "name": "stdout",
     "output_type": "stream",
     "text": [
      "val_loss 19.636048839586536\n",
      "[[121.59381 ]\n",
      " [ 19.92857 ]\n",
      " [121.54332 ]\n",
      " [128.54529 ]\n",
      " [146.20865 ]\n",
      " [ 43.603214]\n",
      " [ 76.3224  ]\n",
      " [ 17.563055]\n",
      " [ 24.84465 ]\n",
      " [ 31.871162]\n",
      " [152.57785 ]\n",
      " [ 83.01714 ]\n",
      " [126.36209 ]\n",
      " [ 27.387465]\n",
      " [116.25676 ]\n",
      " [ 16.342886]\n",
      " [ 54.980824]\n",
      " [123.41302 ]\n",
      " [ 22.943956]\n",
      " [100.57463 ]]\n",
      "[ 47.74835653  24.2        146.83140563 173.82352266 129.19513671\n",
      "  40.88119308  77.19447815  18.45000038  24.95        77.84068101\n",
      " 234.68756861  75.43049766 145.14684241  28.5        226.11649458\n",
      "  26.89        68.3526223  180.20285178  22.          58.11155977]\n",
      "Val accuracy [0.7259834]\n"
     ]
    },
    {
     "name": "stderr",
     "output_type": "stream",
     "text": [
      "1000it [06:10,  2.81it/s]"
     ]
    },
    {
     "name": "stdout",
     "output_type": "stream",
     "text": [
      "[6,  1000] loss: 15.056\n"
     ]
    },
    {
     "name": "stderr",
     "output_type": "stream",
     "text": [
      "2000it [12:04,  2.79it/s]"
     ]
    },
    {
     "name": "stdout",
     "output_type": "stream",
     "text": [
      "[6,  2000] loss: 15.131\n"
     ]
    },
    {
     "name": "stderr",
     "output_type": "stream",
     "text": [
      "3000it [18:00,  2.80it/s]"
     ]
    },
    {
     "name": "stdout",
     "output_type": "stream",
     "text": [
      "[6,  3000] loss: 15.163\n"
     ]
    },
    {
     "name": "stderr",
     "output_type": "stream",
     "text": [
      "3713it [22:13,  2.78it/s]\n"
     ]
    },
    {
     "name": "stdout",
     "output_type": "stream",
     "text": [
      "val_loss 18.94766433646039\n",
      "[[125.57698 ]\n",
      " [ 83.31307 ]\n",
      " [ 27.65698 ]\n",
      " [ 19.846212]\n",
      " [ 92.45699 ]\n",
      " [ 74.11092 ]\n",
      " [137.83784 ]\n",
      " [ 23.494682]\n",
      " [ 64.39408 ]\n",
      " [ 26.394876]\n",
      " [ 24.650984]\n",
      " [ 26.136198]\n",
      " [ 22.006641]\n",
      " [ 27.823822]\n",
      " [ 26.888247]\n",
      " [ 19.186102]\n",
      " [126.65559 ]\n",
      " [ 33.51129 ]\n",
      " [135.57149 ]\n",
      " [180.09052 ]]\n",
      "[145.31171308 108.22419834  37.          15.03        26.0391199\n",
      " 116.48421571 187.93879411  28.          60.          18.87818816\n",
      "  21.76        23.39        30.5         31.5         20.96\n",
      "  14.95       113.35748771  44.57696289 182.74670255 178.80934627]\n",
      "Val accuracy [0.7383747]\n"
     ]
    },
    {
     "name": "stderr",
     "output_type": "stream",
     "text": [
      "1000it [05:53,  2.84it/s]"
     ]
    },
    {
     "name": "stdout",
     "output_type": "stream",
     "text": [
      "[7,  1000] loss: 14.459\n"
     ]
    },
    {
     "name": "stderr",
     "output_type": "stream",
     "text": [
      "2000it [12:02,  2.84it/s]"
     ]
    },
    {
     "name": "stdout",
     "output_type": "stream",
     "text": [
      "[7,  2000] loss: 14.454\n"
     ]
    },
    {
     "name": "stderr",
     "output_type": "stream",
     "text": [
      "3000it [17:57,  2.83it/s]"
     ]
    },
    {
     "name": "stdout",
     "output_type": "stream",
     "text": [
      "[7,  3000] loss: 14.209\n"
     ]
    },
    {
     "name": "stderr",
     "output_type": "stream",
     "text": [
      "3713it [22:09,  2.79it/s]\n"
     ]
    },
    {
     "name": "stdout",
     "output_type": "stream",
     "text": [
      "val_loss 17.629970812216037\n",
      "[[ 17.88893 ]\n",
      " [ 39.632633]\n",
      " [ 20.951746]\n",
      " [ 35.31679 ]\n",
      " [ 43.12141 ]\n",
      " [ 96.09714 ]\n",
      " [147.10268 ]\n",
      " [132.54312 ]\n",
      " [ 75.82101 ]\n",
      " [ 50.019657]\n",
      " [174.38805 ]\n",
      " [ 29.273129]\n",
      " [ 90.32491 ]\n",
      " [154.10727 ]\n",
      " [ 20.101002]\n",
      " [ 21.038343]\n",
      " [110.718765]\n",
      " [158.43687 ]\n",
      " [ 27.429026]\n",
      " [ 91.9768  ]]\n",
      "[ 23.38004965  46.04910657  20.77848551  63.85694353  46.74702824\n",
      "  86.79877214 154.9591723  107.62810667  51.82420842  39.28640076\n",
      " 181.16723869  29.95       113.25167981 151.43252755  21.52328293\n",
      "  26.         130.18087794 170.99058234  19.         101.13287313]\n",
      "Val accuracy [0.7320374]\n"
     ]
    },
    {
     "name": "stderr",
     "output_type": "stream",
     "text": [
      "1000it [05:53,  2.87it/s]"
     ]
    },
    {
     "name": "stdout",
     "output_type": "stream",
     "text": [
      "[8,  1000] loss: 13.306\n"
     ]
    },
    {
     "name": "stderr",
     "output_type": "stream",
     "text": [
      "2000it [11:47,  2.85it/s]"
     ]
    },
    {
     "name": "stdout",
     "output_type": "stream",
     "text": [
      "[8,  2000] loss: 13.965\n"
     ]
    },
    {
     "name": "stderr",
     "output_type": "stream",
     "text": [
      "3000it [17:51,  2.64it/s]"
     ]
    },
    {
     "name": "stdout",
     "output_type": "stream",
     "text": [
      "[8,  3000] loss: 14.058\n"
     ]
    },
    {
     "name": "stderr",
     "output_type": "stream",
     "text": [
      "3713it [22:13,  2.79it/s]\n"
     ]
    },
    {
     "name": "stdout",
     "output_type": "stream",
     "text": [
      "val_loss 18.132390506747292\n",
      "[[ 34.526157]\n",
      " [ 24.734629]\n",
      " [ 49.39863 ]\n",
      " [267.04962 ]\n",
      " [ 22.479696]\n",
      " [ 27.54869 ]\n",
      " [ 23.914043]\n",
      " [130.9756  ]\n",
      " [ 19.089966]\n",
      " [ 22.106894]\n",
      " [ 89.94673 ]\n",
      " [ 83.5669  ]\n",
      " [ 78.09196 ]\n",
      " [ 19.570797]\n",
      " [ 48.389275]\n",
      " [ 22.392307]\n",
      " [105.93038 ]\n",
      " [ 23.927513]\n",
      " [ 31.237085]\n",
      " [ 17.179272]]\n",
      "[ 39.26734884  15.11        43.53374327 247.43831729  36.20000038\n",
      "  59.96774922  22.8        153.21453171  24.2         15.18937355\n",
      " 122.15456643 107.61251104 114.66330163  19.23538428  53.90634791\n",
      "  16.99        98.83678003  22.255       46.98518064  15.09000008]\n",
      "Val accuracy [0.74385524]\n"
     ]
    },
    {
     "name": "stderr",
     "output_type": "stream",
     "text": [
      "1000it [05:54,  2.81it/s]"
     ]
    },
    {
     "name": "stdout",
     "output_type": "stream",
     "text": [
      "[9,  1000] loss: 13.318\n"
     ]
    },
    {
     "name": "stderr",
     "output_type": "stream",
     "text": [
      "2000it [11:49,  2.80it/s]"
     ]
    },
    {
     "name": "stdout",
     "output_type": "stream",
     "text": [
      "[9,  2000] loss: 13.590\n"
     ]
    },
    {
     "name": "stderr",
     "output_type": "stream",
     "text": [
      "3000it [17:43,  2.82it/s]"
     ]
    },
    {
     "name": "stdout",
     "output_type": "stream",
     "text": [
      "[9,  3000] loss: 12.714\n"
     ]
    },
    {
     "name": "stderr",
     "output_type": "stream",
     "text": [
      "3713it [21:56,  2.82it/s]\n"
     ]
    },
    {
     "name": "stdout",
     "output_type": "stream",
     "text": [
      "val_loss 18.807918575478762\n",
      "[[ 21.477161]\n",
      " [ 71.77879 ]\n",
      " [ 32.10594 ]\n",
      " [ 22.821394]\n",
      " [137.5814  ]\n",
      " [ 41.711197]\n",
      " [ 23.689817]\n",
      " [116.17727 ]\n",
      " [ 17.083635]\n",
      " [ 34.0511  ]\n",
      " [ 29.647509]\n",
      " [ 47.7597  ]\n",
      " [143.4881  ]\n",
      " [126.23734 ]\n",
      " [ 51.98971 ]\n",
      " [ 93.62267 ]\n",
      " [ 65.15761 ]\n",
      " [ 75.25157 ]\n",
      " [ 22.325363]\n",
      " [ 65.07166 ]]\n",
      "[ 26.14       101.21916242  52.38491307  25.24046418 175.54692199\n",
      "  42.9         18.         112.66207748  16.56        31.5\n",
      "  29.75        73.22528259 152.22091554 201.33311352  42.61997516\n",
      " 133.0978956   57.15853206 156.37311229  20.         103.84099587]\n",
      "Val accuracy [0.7286185]\n"
     ]
    },
    {
     "name": "stderr",
     "output_type": "stream",
     "text": [
      "1000it [06:10,  2.82it/s]"
     ]
    },
    {
     "name": "stdout",
     "output_type": "stream",
     "text": [
      "[10,  1000] loss: 12.361\n"
     ]
    },
    {
     "name": "stderr",
     "output_type": "stream",
     "text": [
      "2000it [12:06,  2.80it/s]"
     ]
    },
    {
     "name": "stdout",
     "output_type": "stream",
     "text": [
      "[10,  2000] loss: 12.503\n"
     ]
    },
    {
     "name": "stderr",
     "output_type": "stream",
     "text": [
      "3000it [18:01,  2.81it/s]"
     ]
    },
    {
     "name": "stdout",
     "output_type": "stream",
     "text": [
      "[10,  3000] loss: 12.322\n"
     ]
    },
    {
     "name": "stderr",
     "output_type": "stream",
     "text": [
      "3713it [22:15,  2.78it/s]\n"
     ]
    },
    {
     "name": "stdout",
     "output_type": "stream",
     "text": [
      "val_loss 19.117670702498135\n",
      "[[ 21.518147]\n",
      " [ 65.64769 ]\n",
      " [ 23.934692]\n",
      " [ 37.58101 ]\n",
      " [ 81.37559 ]\n",
      " [193.07036 ]\n",
      " [ 19.677576]\n",
      " [ 28.424746]\n",
      " [156.4738  ]\n",
      " [ 40.23497 ]\n",
      " [ 23.943186]\n",
      " [ 17.633318]\n",
      " [ 64.711945]\n",
      " [ 26.166264]\n",
      " [ 19.655886]\n",
      " [ 78.816025]\n",
      " [ 85.723015]\n",
      " [113.22101 ]\n",
      " [ 19.95799 ]\n",
      " [ 33.016346]]\n",
      "[ 28.          91.14223621  22.5         37.81267325  82.9139263\n",
      " 214.03187265  22.32        28.         229.67749859  27.19333351\n",
      "  27.12666646  51.33291488  23.94816386  26.          17.9\n",
      "  40.68176207 100.85998713 165.21845662  18.5         15.35      ]\n",
      "Val accuracy [0.73891103]\n"
     ]
    },
    {
     "name": "stderr",
     "output_type": "stream",
     "text": [
      "1000it [08:57,  2.22it/s]"
     ]
    },
    {
     "name": "stdout",
     "output_type": "stream",
     "text": [
      "[11,  1000] loss: 11.569\n"
     ]
    },
    {
     "name": "stderr",
     "output_type": "stream",
     "text": [
      "2000it [16:37,  2.27it/s]"
     ]
    },
    {
     "name": "stdout",
     "output_type": "stream",
     "text": [
      "[11,  2000] loss: 12.113\n"
     ]
    },
    {
     "name": "stderr",
     "output_type": "stream",
     "text": [
      "3000it [24:01,  2.34it/s]"
     ]
    },
    {
     "name": "stdout",
     "output_type": "stream",
     "text": [
      "[11,  3000] loss: 11.946\n"
     ]
    },
    {
     "name": "stderr",
     "output_type": "stream",
     "text": [
      "3713it [28:59,  2.14it/s]\n"
     ]
    },
    {
     "name": "stdout",
     "output_type": "stream",
     "text": [
      "val_loss 17.579312501520647\n",
      "[[ 21.131245]\n",
      " [ 38.79835 ]\n",
      " [137.10422 ]\n",
      " [ 21.661825]\n",
      " [ 70.92839 ]\n",
      " [ 40.853558]\n",
      " [ 32.69953 ]\n",
      " [ 34.419506]\n",
      " [ 29.036955]\n",
      " [193.26314 ]\n",
      " [ 17.536705]\n",
      " [ 29.28505 ]\n",
      " [ 21.929607]\n",
      " [ 74.339714]\n",
      " [ 37.841587]\n",
      " [ 46.47656 ]\n",
      " [126.52788 ]\n",
      " [108.70956 ]\n",
      " [ 22.289808]\n",
      " [148.79878 ]]\n",
      "[ 23.705       32.38846821 172.88577071  44.22781226  77.49944205\n",
      "  49.32095469  37.97968272  30.70000038  29.86707409 236.35535697\n",
      "  18.7         22.          14.         106.1189699   40.96895779\n",
      "  36.79064113 117.40768348 104.5920833   20.6        210.24403258]\n",
      "Val accuracy [0.7510233]\n"
     ]
    },
    {
     "name": "stderr",
     "output_type": "stream",
     "text": [
      "1000it [05:09,  3.18it/s]"
     ]
    },
    {
     "name": "stdout",
     "output_type": "stream",
     "text": [
      "[12,  1000] loss: 11.295\n"
     ]
    },
    {
     "name": "stderr",
     "output_type": "stream",
     "text": [
      "2000it [10:55,  2.82it/s]"
     ]
    },
    {
     "name": "stdout",
     "output_type": "stream",
     "text": [
      "[12,  2000] loss: 11.333\n"
     ]
    },
    {
     "name": "stderr",
     "output_type": "stream",
     "text": [
      "3000it [16:59,  2.64it/s]"
     ]
    },
    {
     "name": "stdout",
     "output_type": "stream",
     "text": [
      "[12,  3000] loss: 11.114\n"
     ]
    },
    {
     "name": "stderr",
     "output_type": "stream",
     "text": [
      "3713it [21:30,  2.88it/s]\n"
     ]
    },
    {
     "name": "stdout",
     "output_type": "stream",
     "text": [
      "val_loss 20.166966499351872\n",
      "[[ 36.532196]\n",
      " [ 78.344   ]\n",
      " [ 32.785152]\n",
      " [145.31543 ]\n",
      " [ 19.101196]\n",
      " [124.11051 ]\n",
      " [134.36435 ]\n",
      " [ 20.18771 ]\n",
      " [ 17.10345 ]\n",
      " [ 66.0747  ]\n",
      " [ 25.31496 ]\n",
      " [138.33847 ]\n",
      " [152.20325 ]\n",
      " [ 18.735336]\n",
      " [ 22.2709  ]\n",
      " [ 22.229628]\n",
      " [ 18.030449]\n",
      " [ 82.36683 ]\n",
      " [150.92474 ]\n",
      " [ 21.453255]]\n",
      "[ 34.05        68.09372866  14.98       168.41245672  15.9\n",
      " 145.14684241 173.59345708  18.45000038  23.38004965  66.40261767\n",
      "  24.95       158.24671796 174.0678895   22.25        27.38\n",
      "  24.9         27.5        104.11958342 146.75728596  27.575     ]\n",
      "Val accuracy [0.7406048]\n"
     ]
    },
    {
     "name": "stderr",
     "output_type": "stream",
     "text": [
      "1000it [08:02,  2.47it/s]"
     ]
    },
    {
     "name": "stdout",
     "output_type": "stream",
     "text": [
      "[13,  1000] loss: 11.005\n"
     ]
    },
    {
     "name": "stderr",
     "output_type": "stream",
     "text": [
      "2000it [15:36,  1.94it/s]"
     ]
    },
    {
     "name": "stdout",
     "output_type": "stream",
     "text": [
      "[13,  2000] loss: 10.445\n"
     ]
    },
    {
     "name": "stderr",
     "output_type": "stream",
     "text": [
      "3000it [23:41,  2.10it/s]"
     ]
    },
    {
     "name": "stdout",
     "output_type": "stream",
     "text": [
      "[13,  3000] loss: 10.752\n"
     ]
    },
    {
     "name": "stderr",
     "output_type": "stream",
     "text": [
      "3713it [29:08,  2.12it/s]\n"
     ]
    },
    {
     "name": "stdout",
     "output_type": "stream",
     "text": [
      "val_loss 20.438938585359875\n",
      "[[ 15.659618]\n",
      " [ 75.95537 ]\n",
      " [ 70.71766 ]\n",
      " [ 47.15585 ]\n",
      " [ 83.743256]\n",
      " [165.67159 ]\n",
      " [ 63.442314]\n",
      " [130.18697 ]\n",
      " [ 37.436886]\n",
      " [177.18297 ]\n",
      " [ 72.02923 ]\n",
      " [ 80.05292 ]\n",
      " [ 63.96992 ]\n",
      " [ 57.967995]\n",
      " [ 63.14064 ]\n",
      " [ 22.023472]\n",
      " [ 86.31233 ]\n",
      " [ 20.02917 ]\n",
      " [124.311646]\n",
      " [ 17.682642]]\n",
      "[ 18.5         98.18700285  94.54108419  45.39788236 138.99104619\n",
      " 137.62228367 106.30947628 169.239319    22.72463088  87.0236812\n",
      " 106.03961934  90.88237948  71.06327542  65.32442847  67.2188656\n",
      "  20.6         66.78282819  31.         127.06062493  13.93818256]\n",
      "Val accuracy [0.728581]\n"
     ]
    },
    {
     "name": "stderr",
     "output_type": "stream",
     "text": [
      "1000it [05:30,  2.99it/s]"
     ]
    },
    {
     "name": "stdout",
     "output_type": "stream",
     "text": [
      "[14,  1000] loss: 10.132\n"
     ]
    },
    {
     "name": "stderr",
     "output_type": "stream",
     "text": [
      "2000it [11:07,  3.11it/s]"
     ]
    },
    {
     "name": "stdout",
     "output_type": "stream",
     "text": [
      "[14,  2000] loss: 10.233\n"
     ]
    },
    {
     "name": "stderr",
     "output_type": "stream",
     "text": [
      "3000it [17:01,  2.79it/s]"
     ]
    },
    {
     "name": "stdout",
     "output_type": "stream",
     "text": [
      "[14,  3000] loss: 10.009\n"
     ]
    },
    {
     "name": "stderr",
     "output_type": "stream",
     "text": [
      "3713it [21:13,  2.92it/s]\n"
     ]
    },
    {
     "name": "stdout",
     "output_type": "stream",
     "text": [
      "val_loss 18.939324485456073\n",
      "[[171.2675  ]\n",
      " [ 83.24705 ]\n",
      " [118.684204]\n",
      " [ 85.44671 ]\n",
      " [ 21.218836]\n",
      " [ 93.79014 ]\n",
      " [ 31.494585]\n",
      " [ 30.090164]\n",
      " [ 51.984795]\n",
      " [ 26.660332]\n",
      " [ 53.234245]\n",
      " [123.3923  ]\n",
      " [100.58765 ]\n",
      " [ 92.48939 ]\n",
      " [ 91.9785  ]\n",
      " [ 30.875225]\n",
      " [118.29722 ]\n",
      " [ 54.495564]\n",
      " [ 19.761944]\n",
      " [192.52702 ]]\n",
      "[218.93457844 128.3140243  130.6         91.74978713  23.955\n",
      "  67.35373128  24.61908285  22.65        30.15        16.22\n",
      "  61.23380728 131.41623869  96.04700398 122.5196342   93.98487851\n",
      "  24.00666883 110.05499947  53.90634791  21.71499501 204.18039339]\n",
      "Val accuracy [0.73780346]\n"
     ]
    },
    {
     "name": "stderr",
     "output_type": "stream",
     "text": [
      "1000it [05:36,  2.96it/s]"
     ]
    },
    {
     "name": "stdout",
     "output_type": "stream",
     "text": [
      "[15,  1000] loss: 9.625\n"
     ]
    },
    {
     "name": "stderr",
     "output_type": "stream",
     "text": [
      "2000it [11:50,  1.73it/s]"
     ]
    },
    {
     "name": "stdout",
     "output_type": "stream",
     "text": [
      "[15,  2000] loss: 9.860\n"
     ]
    },
    {
     "name": "stderr",
     "output_type": "stream",
     "text": [
      "3000it [20:57,  2.05it/s]"
     ]
    },
    {
     "name": "stdout",
     "output_type": "stream",
     "text": [
      "[15,  3000] loss: 9.940\n"
     ]
    },
    {
     "name": "stderr",
     "output_type": "stream",
     "text": [
      "3713it [27:20,  2.26it/s]\n"
     ]
    },
    {
     "name": "stdout",
     "output_type": "stream",
     "text": [
      "val_loss 18.549004876758993\n",
      "[[ 69.93246 ]\n",
      " [ 30.79343 ]\n",
      " [ 14.014184]\n",
      " [ 25.542809]\n",
      " [ 80.12025 ]\n",
      " [ 19.624508]\n",
      " [ 36.66267 ]\n",
      " [ 25.439747]\n",
      " [ 22.046625]\n",
      " [112.5066  ]\n",
      " [155.71143 ]\n",
      " [272.57935 ]\n",
      " [ 21.260088]\n",
      " [ 38.506737]\n",
      " [109.412636]\n",
      " [ 83.84102 ]\n",
      " [ 27.406324]\n",
      " [ 22.25981 ]\n",
      " [141.79312 ]\n",
      " [ 25.424187]]\n",
      "[ 83.73836994  31.85        23.          26.         113.51593315\n",
      "  31.5         88.08118495  30.89999981 214.16473545 114.58453624\n",
      " 219.         236.35535697  18.          22.43752889 121.99930832\n",
      " 115.35812199  26.09605432  17.435      202.1541725   67.34365847]\n",
      "Val accuracy [0.73428756]\n"
     ]
    },
    {
     "name": "stderr",
     "output_type": "stream",
     "text": [
      "1000it [07:34,  1.78it/s]"
     ]
    },
    {
     "name": "stdout",
     "output_type": "stream",
     "text": [
      "[16,  1000] loss: 9.354\n"
     ]
    },
    {
     "name": "stderr",
     "output_type": "stream",
     "text": [
      "2000it [14:39,  2.63it/s]"
     ]
    },
    {
     "name": "stdout",
     "output_type": "stream",
     "text": [
      "[16,  2000] loss: 9.353\n"
     ]
    },
    {
     "name": "stderr",
     "output_type": "stream",
     "text": [
      "3000it [21:24,  2.60it/s]"
     ]
    },
    {
     "name": "stdout",
     "output_type": "stream",
     "text": [
      "[16,  3000] loss: 9.458\n"
     ]
    },
    {
     "name": "stderr",
     "output_type": "stream",
     "text": [
      "3713it [26:02,  2.38it/s]\n"
     ]
    },
    {
     "name": "stdout",
     "output_type": "stream",
     "text": [
      "val_loss 19.21426324364616\n",
      "[[ 20.00182 ]\n",
      " [ 31.526749]\n",
      " [ 21.710537]\n",
      " [ 21.246603]\n",
      " [ 39.73076 ]\n",
      " [140.28966 ]\n",
      " [171.53188 ]\n",
      " [ 99.401634]\n",
      " [132.88354 ]\n",
      " [ 28.990673]\n",
      " [ 21.399479]\n",
      " [ 65.455414]\n",
      " [ 24.830572]\n",
      " [170.34033 ]\n",
      " [ 98.241714]\n",
      " [ 51.5967  ]\n",
      " [143.47113 ]\n",
      " [ 75.506134]\n",
      " [103.35172 ]\n",
      " [109.47055 ]]\n",
      "[ 32.8         17.89732887  28.15        18.5         85.89123685\n",
      " 185.01062152 239.09818803 144.82290903 152.4265721   31.39999981\n",
      "  24.27       148.34712665  35.5        191.94771822 129.41871789\n",
      "  38.25984594 197.89062142  80.60879373 116.48224908 112.83835247]\n",
      "Val accuracy [0.73695004]\n"
     ]
    },
    {
     "name": "stderr",
     "output_type": "stream",
     "text": [
      "1000it [05:31,  3.06it/s]"
     ]
    },
    {
     "name": "stdout",
     "output_type": "stream",
     "text": [
      "[17,  1000] loss: 9.087\n"
     ]
    },
    {
     "name": "stderr",
     "output_type": "stream",
     "text": [
      "2000it [11:36,  2.82it/s]"
     ]
    },
    {
     "name": "stdout",
     "output_type": "stream",
     "text": [
      "[17,  2000] loss: 8.944\n"
     ]
    },
    {
     "name": "stderr",
     "output_type": "stream",
     "text": [
      "3000it [17:44,  2.84it/s]"
     ]
    },
    {
     "name": "stdout",
     "output_type": "stream",
     "text": [
      "[17,  3000] loss: 9.211\n"
     ]
    },
    {
     "name": "stderr",
     "output_type": "stream",
     "text": [
      "3713it [22:10,  2.79it/s]\n"
     ]
    },
    {
     "name": "stdout",
     "output_type": "stream",
     "text": [
      "val_loss 19.127692296010693\n",
      "[[148.30646 ]\n",
      " [ 30.17113 ]\n",
      " [152.28447 ]\n",
      " [ 22.635313]\n",
      " [ 70.885864]\n",
      " [ 28.31491 ]\n",
      " [113.325134]\n",
      " [ 21.232811]\n",
      " [ 29.692997]\n",
      " [ 88.7236  ]\n",
      " [ 73.324486]\n",
      " [ 83.571106]\n",
      " [ 26.346312]\n",
      " [111.82923 ]\n",
      " [190.79333 ]\n",
      " [ 53.61369 ]\n",
      " [ 14.074941]\n",
      " [122.73741 ]\n",
      " [ 17.398685]\n",
      " [ 56.1944  ]]\n",
      "[133.52854723  38.3661107  145.96264267  23.97        66.28\n",
      "  26.78968773 108.          20.86666679  49.24221163 116.48224908\n",
      "  83.43281847  79.54477958  22.32       156.29790853 214.0669027\n",
      "  34.12630401  19.5        112.83835247  26.9         87.6       ]\n",
      "Val accuracy [0.7411434]\n"
     ]
    },
    {
     "name": "stderr",
     "output_type": "stream",
     "text": [
      "1000it [06:09,  2.47it/s]"
     ]
    },
    {
     "name": "stdout",
     "output_type": "stream",
     "text": [
      "[18,  1000] loss: 8.612\n"
     ]
    },
    {
     "name": "stderr",
     "output_type": "stream",
     "text": [
      "2000it [12:22,  2.77it/s]"
     ]
    },
    {
     "name": "stdout",
     "output_type": "stream",
     "text": [
      "[18,  2000] loss: 8.618\n"
     ]
    },
    {
     "name": "stderr",
     "output_type": "stream",
     "text": [
      "3000it [18:49,  2.80it/s]"
     ]
    },
    {
     "name": "stdout",
     "output_type": "stream",
     "text": [
      "[18,  3000] loss: 8.925\n"
     ]
    },
    {
     "name": "stderr",
     "output_type": "stream",
     "text": [
      "3713it [23:11,  2.67it/s]\n"
     ]
    },
    {
     "name": "stdout",
     "output_type": "stream",
     "text": [
      "val_loss 18.846340159453998\n",
      "[[160.14647 ]\n",
      " [ 16.997683]\n",
      " [ 68.63271 ]\n",
      " [160.07211 ]\n",
      " [ 18.172838]\n",
      " [ 59.90848 ]\n",
      " [141.65346 ]\n",
      " [ 18.68885 ]\n",
      " [ 22.934416]\n",
      " [ 98.8647  ]\n",
      " [ 21.9681  ]\n",
      " [ 21.614946]\n",
      " [163.4422  ]\n",
      " [ 24.535107]\n",
      " [ 83.21895 ]\n",
      " [ 19.749027]\n",
      " [ 26.858454]\n",
      " [ 26.030598]\n",
      " [ 16.395277]\n",
      " [ 28.103277]]\n",
      "[229.          19.5         69.09179998  81.8         34.79865111\n",
      "  73.29697234 162.74515064  28.5         19.82        75.12243355\n",
      "  20.575       14.99       164.43706288  16.6        105.94072579\n",
      "  16.          30.15        24.94         7.1         27.89999981]\n",
      "Val accuracy [0.7343017]\n"
     ]
    },
    {
     "name": "stderr",
     "output_type": "stream",
     "text": [
      "1000it [06:10,  2.22it/s]"
     ]
    },
    {
     "name": "stdout",
     "output_type": "stream",
     "text": [
      "[19,  1000] loss: 8.383\n"
     ]
    },
    {
     "name": "stderr",
     "output_type": "stream",
     "text": [
      "2000it [12:20,  2.83it/s]"
     ]
    },
    {
     "name": "stdout",
     "output_type": "stream",
     "text": [
      "[19,  2000] loss: 8.079\n"
     ]
    },
    {
     "name": "stderr",
     "output_type": "stream",
     "text": [
      "3000it [18:33,  2.23it/s]"
     ]
    },
    {
     "name": "stdout",
     "output_type": "stream",
     "text": [
      "[19,  3000] loss: 8.436\n"
     ]
    },
    {
     "name": "stderr",
     "output_type": "stream",
     "text": [
      "3713it [23:01,  2.69it/s]\n"
     ]
    },
    {
     "name": "stdout",
     "output_type": "stream",
     "text": [
      "val_loss 19.95328430649711\n",
      "[[ 91.80061 ]\n",
      " [ 23.474573]\n",
      " [152.75371 ]\n",
      " [ 65.55961 ]\n",
      " [ 86.15009 ]\n",
      " [ 30.315865]\n",
      " [ 31.14377 ]\n",
      " [ 96.21069 ]\n",
      " [ 21.37832 ]\n",
      " [ 17.446484]\n",
      " [ 80.76502 ]\n",
      " [ 24.76535 ]\n",
      " [123.23921 ]\n",
      " [ 58.569714]\n",
      " [ 24.403744]\n",
      " [130.48999 ]\n",
      " [ 33.73007 ]\n",
      " [ 74.356606]\n",
      " [126.69503 ]\n",
      " [ 65.95543 ]]\n",
      "[114.0841934   26.         175.38833435  86.6473694   90.9367314\n",
      "  41.78917517  31.53427259  32.29112229  24.          16.30446403\n",
      "  84.48986995  27.27380818  47.74835653  65.31586356  24.95\n",
      " 122.75593936  37.26691986  80.60879373 163.69622016  65.        ]\n",
      "Val accuracy [0.7295854]\n"
     ]
    },
    {
     "name": "stderr",
     "output_type": "stream",
     "text": [
      "1000it [06:12,  2.84it/s]"
     ]
    },
    {
     "name": "stdout",
     "output_type": "stream",
     "text": [
      "[20,  1000] loss: 7.885\n"
     ]
    },
    {
     "name": "stderr",
     "output_type": "stream",
     "text": [
      "2000it [12:21,  2.24it/s]"
     ]
    },
    {
     "name": "stdout",
     "output_type": "stream",
     "text": [
      "[20,  2000] loss: 8.193\n"
     ]
    },
    {
     "name": "stderr",
     "output_type": "stream",
     "text": [
      "3000it [18:32,  2.84it/s]"
     ]
    },
    {
     "name": "stdout",
     "output_type": "stream",
     "text": [
      "[20,  3000] loss: 8.017\n"
     ]
    },
    {
     "name": "stderr",
     "output_type": "stream",
     "text": [
      "3713it [22:54,  2.70it/s]\n"
     ]
    },
    {
     "name": "stdout",
     "output_type": "stream",
     "text": [
      "val_loss 18.538988385622094\n",
      "[[ 19.64837 ]\n",
      " [ 87.807175]\n",
      " [ 61.18258 ]\n",
      " [103.606445]\n",
      " [ 17.92066 ]\n",
      " [ 18.863754]\n",
      " [ 28.357807]\n",
      " [ 48.44951 ]\n",
      " [ 21.155066]\n",
      " [ 65.65233 ]\n",
      " [128.36975 ]\n",
      " [ 84.23252 ]\n",
      " [ 39.527363]\n",
      " [ 23.794216]\n",
      " [117.438095]\n",
      " [ 14.524297]\n",
      " [ 15.811121]\n",
      " [ 21.918104]\n",
      " [ 19.823505]\n",
      " [ 25.742811]]\n",
      "[ 28.10000019 114.66330163  97.10870651  99.91        19.94\n",
      "  35.59999923  45.69198024  41.72097462  23.39        98.93990096\n",
      " 159.47632173 107.37982255  63.05011444  26.         137.10281711\n",
      "  17.35999965  15.3         27.5         18.          31.5       ]\n",
      "Val accuracy [0.7287699]\n"
     ]
    },
    {
     "name": "stderr",
     "output_type": "stream",
     "text": [
      "1000it [06:15,  2.65it/s]"
     ]
    },
    {
     "name": "stdout",
     "output_type": "stream",
     "text": [
      "[21,  1000] loss: 7.755\n"
     ]
    },
    {
     "name": "stderr",
     "output_type": "stream",
     "text": [
      "2000it [12:36,  2.84it/s]"
     ]
    },
    {
     "name": "stdout",
     "output_type": "stream",
     "text": [
      "[21,  2000] loss: 7.554\n"
     ]
    },
    {
     "name": "stderr",
     "output_type": "stream",
     "text": [
      "3000it [18:46,  2.25it/s]"
     ]
    },
    {
     "name": "stdout",
     "output_type": "stream",
     "text": [
      "[21,  3000] loss: 7.927\n"
     ]
    },
    {
     "name": "stderr",
     "output_type": "stream",
     "text": [
      "3713it [23:11,  2.67it/s]\n"
     ]
    },
    {
     "name": "stdout",
     "output_type": "stream",
     "text": [
      "val_loss 19.561832089976566\n",
      "[[ 77.90239 ]\n",
      " [166.49483 ]\n",
      " [ 18.737335]\n",
      " [ 27.02695 ]\n",
      " [ 22.44963 ]\n",
      " [ 15.356451]\n",
      " [150.14873 ]\n",
      " [194.43883 ]\n",
      " [112.0808  ]\n",
      " [ 71.44237 ]\n",
      " [144.33754 ]\n",
      " [154.41545 ]\n",
      " [121.347466]\n",
      " [108.10764 ]\n",
      " [ 47.06756 ]\n",
      " [137.07608 ]\n",
      " [ 26.58956 ]\n",
      " [ 70.70164 ]\n",
      " [ 23.048836]\n",
      " [162.22353 ]]\n",
      "[ 85.15954099 204.39628742  24.5         25.98676442  22.5\n",
      "  16.7        181.17389993 232.10515321 185.94830705  81.08647128\n",
      " 135.82403588 187.25260706 138.34843582 162.28384034  91.04994989\n",
      " 178.2235743   18.7         64.68857118  17.25       161.01075124]\n",
      "Val accuracy [0.7347976]\n"
     ]
    },
    {
     "name": "stderr",
     "output_type": "stream",
     "text": [
      "1000it [06:07,  2.80it/s]"
     ]
    },
    {
     "name": "stdout",
     "output_type": "stream",
     "text": [
      "[22,  1000] loss: 7.153\n"
     ]
    },
    {
     "name": "stderr",
     "output_type": "stream",
     "text": [
      "2000it [12:20,  2.85it/s]"
     ]
    },
    {
     "name": "stdout",
     "output_type": "stream",
     "text": [
      "[22,  2000] loss: 7.412\n"
     ]
    },
    {
     "name": "stderr",
     "output_type": "stream",
     "text": [
      "3000it [18:49,  2.78it/s]"
     ]
    },
    {
     "name": "stdout",
     "output_type": "stream",
     "text": [
      "[22,  3000] loss: 7.655\n"
     ]
    },
    {
     "name": "stderr",
     "output_type": "stream",
     "text": [
      "3713it [23:10,  2.67it/s]\n"
     ]
    },
    {
     "name": "stdout",
     "output_type": "stream",
     "text": [
      "val_loss 18.221911476152698\n",
      "[[ 44.322567 ]\n",
      " [111.34061  ]\n",
      " [ 15.5398035]\n",
      " [210.59665  ]\n",
      " [109.15887  ]\n",
      " [122.27085  ]\n",
      " [123.59589  ]\n",
      " [172.22398  ]\n",
      " [136.30907  ]\n",
      " [132.9298   ]\n",
      " [171.00824  ]\n",
      " [ 57.352802 ]\n",
      " [103.56399  ]\n",
      " [ 23.091084 ]\n",
      " [155.13606  ]\n",
      " [ 22.304087 ]\n",
      " [151.94136  ]\n",
      " [ 43.391464 ]\n",
      " [208.80576  ]\n",
      " [ 22.895357 ]]\n",
      "[ 38.61720056 147.26005306  12.36553635 202.73821073 120.65758681\n",
      " 143.6763876  152.19802519 204.03231889 225.91792321 127.88967572\n",
      " 148.17556752  87.46193667 116.48224908  30.70000038 115.01728502\n",
      "  18.51514411 182.48416186  45.39788236 218.27377721  26.9       ]\n",
      "Val accuracy [0.7253574]\n"
     ]
    },
    {
     "name": "stderr",
     "output_type": "stream",
     "text": [
      "1000it [06:08,  2.74it/s]"
     ]
    },
    {
     "name": "stdout",
     "output_type": "stream",
     "text": [
      "[23,  1000] loss: 7.258\n"
     ]
    },
    {
     "name": "stderr",
     "output_type": "stream",
     "text": [
      "2000it [12:20,  2.82it/s]"
     ]
    },
    {
     "name": "stdout",
     "output_type": "stream",
     "text": [
      "[23,  2000] loss: 7.233\n"
     ]
    },
    {
     "name": "stderr",
     "output_type": "stream",
     "text": [
      "3000it [18:27,  2.85it/s]"
     ]
    },
    {
     "name": "stdout",
     "output_type": "stream",
     "text": [
      "[23,  3000] loss: 7.591\n"
     ]
    },
    {
     "name": "stderr",
     "output_type": "stream",
     "text": [
      "3713it [22:59,  2.69it/s]\n"
     ]
    },
    {
     "name": "stdout",
     "output_type": "stream",
     "text": [
      "val_loss 18.244869356838667\n",
      "[[107.8033   ]\n",
      " [131.03847  ]\n",
      " [ 46.484768 ]\n",
      " [ 88.94314  ]\n",
      " [ 21.504429 ]\n",
      " [155.57103  ]\n",
      " [139.22556  ]\n",
      " [118.17522  ]\n",
      " [187.03104  ]\n",
      " [128.80843  ]\n",
      " [ 20.36915  ]\n",
      " [ 15.6521635]\n",
      " [ 56.302082 ]\n",
      " [ 72.60443  ]\n",
      " [ 61.63222  ]\n",
      " [112.56201  ]\n",
      " [112.726685 ]\n",
      " [ 28.870998 ]\n",
      " [126.36934  ]\n",
      " [ 19.577927 ]]\n",
      "[ 89.06146928 162.3261561   36.79064113  76.87186231  23.94\n",
      " 154.53190813 157.24346942 107.62810667 196.18841453 173.59345708\n",
      "  17.5         14.9290237   75.10656704  56.97418488  59.82365294\n",
      " 129.12632133  94.05237721  24.62       156.55964563  18.42      ]\n",
      "Val accuracy [0.7304696]\n"
     ]
    },
    {
     "name": "stderr",
     "output_type": "stream",
     "text": [
      "1000it [06:08,  2.81it/s]"
     ]
    },
    {
     "name": "stdout",
     "output_type": "stream",
     "text": [
      "[24,  1000] loss: 7.111\n"
     ]
    },
    {
     "name": "stderr",
     "output_type": "stream",
     "text": [
      "2000it [12:20,  2.84it/s]"
     ]
    },
    {
     "name": "stdout",
     "output_type": "stream",
     "text": [
      "[24,  2000] loss: 7.000\n"
     ]
    },
    {
     "name": "stderr",
     "output_type": "stream",
     "text": [
      "3000it [18:29,  2.84it/s]"
     ]
    },
    {
     "name": "stdout",
     "output_type": "stream",
     "text": [
      "[24,  3000] loss: 7.327\n"
     ]
    },
    {
     "name": "stderr",
     "output_type": "stream",
     "text": [
      "3713it [22:56,  2.70it/s]\n"
     ]
    },
    {
     "name": "stdout",
     "output_type": "stream",
     "text": [
      "val_loss 18.240654187231527\n",
      "[[ 83.70808 ]\n",
      " [ 18.012836]\n",
      " [ 20.579338]\n",
      " [100.414276]\n",
      " [143.30093 ]\n",
      " [ 21.496021]\n",
      " [ 21.53072 ]\n",
      " [ 81.01259 ]\n",
      " [ 17.72631 ]\n",
      " [106.878685]\n",
      " [144.8763  ]\n",
      " [ 38.498962]\n",
      " [131.33727 ]\n",
      " [145.90039 ]\n",
      " [ 25.807878]\n",
      " [ 79.13503 ]\n",
      " [ 77.51657 ]\n",
      " [ 38.580753]\n",
      " [ 91.78064 ]\n",
      " [ 41.874744]]\n",
      "[ 92.86145328  14.7         22.07197832 135.64902117 139.9\n",
      "  23.61        23.06       113.45294529  16.         153.01509302\n",
      " 184.02979819  47.94980113 153.13980504 144.4220727   24.95\n",
      "  47.69318269  41.35018298  47.38687667  88.06326754  30.        ]\n",
      "Val accuracy [0.72126913]\n"
     ]
    },
    {
     "name": "stderr",
     "output_type": "stream",
     "text": [
      "1000it [06:06,  2.60it/s]"
     ]
    },
    {
     "name": "stdout",
     "output_type": "stream",
     "text": [
      "[25,  1000] loss: 6.851\n"
     ]
    },
    {
     "name": "stderr",
     "output_type": "stream",
     "text": [
      "2000it [12:10,  2.80it/s]"
     ]
    },
    {
     "name": "stdout",
     "output_type": "stream",
     "text": [
      "[25,  2000] loss: 6.773\n"
     ]
    },
    {
     "name": "stderr",
     "output_type": "stream",
     "text": [
      "3000it [18:04,  2.82it/s]"
     ]
    },
    {
     "name": "stdout",
     "output_type": "stream",
     "text": [
      "[25,  3000] loss: 6.911\n"
     ]
    },
    {
     "name": "stderr",
     "output_type": "stream",
     "text": [
      "3713it [22:17,  2.78it/s]\n"
     ]
    },
    {
     "name": "stdout",
     "output_type": "stream",
     "text": [
      "val_loss 18.006092391726447\n",
      "[[ 15.906864]\n",
      " [159.56413 ]\n",
      " [ 22.265442]\n",
      " [ 30.991693]\n",
      " [ 44.201538]\n",
      " [ 74.343315]\n",
      " [190.18509 ]\n",
      " [ 70.63802 ]\n",
      " [ 21.416933]\n",
      " [161.99333 ]\n",
      " [169.75424 ]\n",
      " [145.6389  ]\n",
      " [ 98.304855]\n",
      " [ 22.008049]\n",
      " [ 44.688374]\n",
      " [ 15.61006 ]\n",
      " [ 23.110363]\n",
      " [ 85.72926 ]\n",
      " [171.98843 ]\n",
      " [ 25.78201 ]]\n",
      "[ 21.98221151 184.53843152  26.95480625  49.24221163  56.2283703\n",
      "  69.09179998 231.82687169  93.23661303  22.915      142.89494714\n",
      " 204.03231889 106.99169877  98.62572135  29.75        56.2283703\n",
      "  24.81        20.79       104.03401505 205.77360905  30.5       ]\n",
      "Val accuracy [0.73073584]\n"
     ]
    },
    {
     "name": "stderr",
     "output_type": "stream",
     "text": [
      "1000it [05:54,  2.84it/s]"
     ]
    },
    {
     "name": "stdout",
     "output_type": "stream",
     "text": [
      "[26,  1000] loss: 6.747\n"
     ]
    },
    {
     "name": "stderr",
     "output_type": "stream",
     "text": [
      "2000it [11:49,  2.81it/s]"
     ]
    },
    {
     "name": "stdout",
     "output_type": "stream",
     "text": [
      "[26,  2000] loss: 6.551\n"
     ]
    },
    {
     "name": "stderr",
     "output_type": "stream",
     "text": [
      "3000it [18:01,  2.79it/s]"
     ]
    },
    {
     "name": "stdout",
     "output_type": "stream",
     "text": [
      "[26,  3000] loss: 6.848\n"
     ]
    },
    {
     "name": "stderr",
     "output_type": "stream",
     "text": [
      "3713it [22:14,  2.78it/s]\n"
     ]
    },
    {
     "name": "stdout",
     "output_type": "stream",
     "text": [
      "val_loss 18.853231611048304\n",
      "[[138.25327 ]\n",
      " [ 25.400642]\n",
      " [ 18.094097]\n",
      " [ 37.982456]\n",
      " [127.38026 ]\n",
      " [ 25.766993]\n",
      " [ 29.542439]\n",
      " [ 37.16848 ]\n",
      " [ 21.687033]\n",
      " [ 19.831905]\n",
      " [ 25.800404]\n",
      " [ 15.622544]\n",
      " [ 72.77888 ]\n",
      " [ 87.13168 ]\n",
      " [ 90.100655]\n",
      " [ 20.529572]\n",
      " [138.35281 ]\n",
      " [116.866745]\n",
      " [ 23.529608]\n",
      " [ 72.62936 ]]\n",
      "[171.16390855  32.5         23.42        63.05011444 123.01558238\n",
      "  17.19        17.9         29.4060832   22.5         17.86499495\n",
      "  31.5         25.82        80.9587133   89.47218146  90.97282204\n",
      "  16.23       138.40243887 174.28175206  28.05        77.67846521]\n",
      "Val accuracy [0.7263513]\n"
     ]
    },
    {
     "name": "stderr",
     "output_type": "stream",
     "text": [
      "1000it [05:54,  2.85it/s]"
     ]
    },
    {
     "name": "stdout",
     "output_type": "stream",
     "text": [
      "[27,  1000] loss: 6.542\n"
     ]
    },
    {
     "name": "stderr",
     "output_type": "stream",
     "text": [
      "2000it [11:48,  2.83it/s]"
     ]
    },
    {
     "name": "stdout",
     "output_type": "stream",
     "text": [
      "[27,  2000] loss: 6.529\n"
     ]
    },
    {
     "name": "stderr",
     "output_type": "stream",
     "text": [
      "3000it [17:41,  2.84it/s]"
     ]
    },
    {
     "name": "stdout",
     "output_type": "stream",
     "text": [
      "[27,  3000] loss: 6.780\n"
     ]
    },
    {
     "name": "stderr",
     "output_type": "stream",
     "text": [
      "3713it [21:59,  2.81it/s]\n"
     ]
    },
    {
     "name": "stdout",
     "output_type": "stream",
     "text": [
      "val_loss 18.662441046499623\n",
      "[[ 22.94782 ]\n",
      " [ 20.779547]\n",
      " [130.38902 ]\n",
      " [ 24.105923]\n",
      " [ 77.13048 ]\n",
      " [ 21.262474]\n",
      " [ 22.586866]\n",
      " [ 22.999144]\n",
      " [130.7382  ]\n",
      " [ 85.10374 ]\n",
      " [ 32.10744 ]\n",
      " [ 26.846079]\n",
      " [ 89.75441 ]\n",
      " [ 18.962051]\n",
      " [187.04053 ]\n",
      " [ 23.637032]\n",
      " [145.7674  ]\n",
      " [ 26.669676]\n",
      " [ 24.434431]\n",
      " [ 26.608437]]\n",
      "[ 23.5         25.76104577 139.9         23.705       97.09685311\n",
      "  24.9         28.          14.225      114.12142147 109.75413559\n",
      "  28.1         23.88       126.35367532  16.         207.68831926\n",
      "  13.71004378 104.89712097  28.          57.35105506  50.51376578]\n",
      "Val accuracy [0.7297882]\n"
     ]
    },
    {
     "name": "stderr",
     "output_type": "stream",
     "text": [
      "1000it [05:55,  2.80it/s]"
     ]
    },
    {
     "name": "stdout",
     "output_type": "stream",
     "text": [
      "[28,  1000] loss: 6.365\n"
     ]
    },
    {
     "name": "stderr",
     "output_type": "stream",
     "text": [
      "2000it [11:50,  2.80it/s]"
     ]
    },
    {
     "name": "stdout",
     "output_type": "stream",
     "text": [
      "[28,  2000] loss: 6.564\n"
     ]
    },
    {
     "name": "stderr",
     "output_type": "stream",
     "text": [
      "3000it [17:45,  2.80it/s]"
     ]
    },
    {
     "name": "stdout",
     "output_type": "stream",
     "text": [
      "[28,  3000] loss: 6.404\n"
     ]
    },
    {
     "name": "stderr",
     "output_type": "stream",
     "text": [
      "3713it [21:58,  2.82it/s]\n"
     ]
    },
    {
     "name": "stdout",
     "output_type": "stream",
     "text": [
      "val_loss 19.18428378497682\n",
      "[[151.72406 ]\n",
      " [ 24.448654]\n",
      " [ 91.144394]\n",
      " [ 20.53835 ]\n",
      " [165.87724 ]\n",
      " [ 56.315956]\n",
      " [ 91.17612 ]\n",
      " [151.18263 ]\n",
      " [201.43777 ]\n",
      " [ 16.642677]\n",
      " [ 37.521805]\n",
      " [115.0311  ]\n",
      " [ 78.1935  ]\n",
      " [ 97.91711 ]\n",
      " [ 23.518044]\n",
      " [107.721245]\n",
      " [ 15.437519]\n",
      " [ 24.415764]\n",
      " [ 58.324696]\n",
      " [ 71.264305]]\n",
      "[204.03231889  23.93       114.58453624  33.09       139.1038011\n",
      "  66.11422595 114.58453624 201.89388398 216.33547271  13.57487645\n",
      "  35.15       179.49919367 156.37311229 160.80251328  28.56666641\n",
      " 120.77108679  23.          14.60000019  49.99        67.94054278]\n",
      "Val accuracy [0.7400348]\n"
     ]
    },
    {
     "name": "stderr",
     "output_type": "stream",
     "text": [
      "1000it [06:01,  2.62it/s]"
     ]
    },
    {
     "name": "stdout",
     "output_type": "stream",
     "text": [
      "[29,  1000] loss: 6.145\n"
     ]
    },
    {
     "name": "stderr",
     "output_type": "stream",
     "text": [
      "2000it [12:04,  2.85it/s]"
     ]
    },
    {
     "name": "stdout",
     "output_type": "stream",
     "text": [
      "[29,  2000] loss: 6.325\n"
     ]
    },
    {
     "name": "stderr",
     "output_type": "stream",
     "text": [
      "3000it [17:58,  2.82it/s]"
     ]
    },
    {
     "name": "stdout",
     "output_type": "stream",
     "text": [
      "[29,  3000] loss: 6.433\n"
     ]
    },
    {
     "name": "stderr",
     "output_type": "stream",
     "text": [
      "3713it [22:11,  2.79it/s]\n"
     ]
    },
    {
     "name": "stdout",
     "output_type": "stream",
     "text": [
      "val_loss 18.720323715994997\n",
      "[[ 24.837055]\n",
      " [ 18.283386]\n",
      " [ 25.810772]\n",
      " [ 85.38734 ]\n",
      " [ 66.883446]\n",
      " [158.91328 ]\n",
      " [ 35.981342]\n",
      " [ 59.0303  ]\n",
      " [ 73.03863 ]\n",
      " [ 26.296543]\n",
      " [ 20.36092 ]\n",
      " [154.73451 ]\n",
      " [ 68.96969 ]\n",
      " [130.16298 ]\n",
      " [116.07576 ]\n",
      " [132.75386 ]\n",
      " [ 53.72218 ]\n",
      " [226.22021 ]\n",
      " [ 29.001633]\n",
      " [126.900215]]\n",
      "[ 17.33        15.3         23.09        65.1         61.86\n",
      " 176.57778809  24.0527272   69.56083724  82.97270089  35.5\n",
      "  20.6        141.05842103  81.15048211 151.69630667 126.51107301\n",
      " 137.02055621  60.81222172 242.82820394  20.17       139.22347899]\n",
      "Val accuracy [0.7234651]\n"
     ]
    },
    {
     "name": "stderr",
     "output_type": "stream",
     "text": [
      "1000it [05:54,  2.84it/s]"
     ]
    },
    {
     "name": "stdout",
     "output_type": "stream",
     "text": [
      "[30,  1000] loss: 5.989\n"
     ]
    },
    {
     "name": "stderr",
     "output_type": "stream",
     "text": [
      "2000it [11:48,  2.85it/s]"
     ]
    },
    {
     "name": "stdout",
     "output_type": "stream",
     "text": [
      "[30,  2000] loss: 6.166\n"
     ]
    },
    {
     "name": "stderr",
     "output_type": "stream",
     "text": [
      "3000it [17:59,  2.83it/s]"
     ]
    },
    {
     "name": "stdout",
     "output_type": "stream",
     "text": [
      "[30,  3000] loss: 6.233\n"
     ]
    },
    {
     "name": "stderr",
     "output_type": "stream",
     "text": [
      "3713it [22:12,  2.79it/s]\n"
     ]
    },
    {
     "name": "stdout",
     "output_type": "stream",
     "text": [
      "val_loss 19.771011270400955\n",
      "[[114.58166 ]\n",
      " [ 29.729029]\n",
      " [ 58.414474]\n",
      " [ 15.617939]\n",
      " [ 33.79582 ]\n",
      " [ 45.917923]\n",
      " [ 42.888832]\n",
      " [152.13985 ]\n",
      " [ 25.216568]\n",
      " [110.6418  ]\n",
      " [ 68.23222 ]\n",
      " [ 26.76164 ]\n",
      " [ 77.04267 ]\n",
      " [155.1337  ]\n",
      " [ 47.97601 ]\n",
      " [ 14.9532  ]\n",
      " [ 21.77676 ]\n",
      " [ 31.929255]\n",
      " [142.72585 ]\n",
      " [130.99394 ]]\n",
      "[134.2         32.          66.40261767  21.6         29.82529778\n",
      "  34.64618611  27.49        69.7730387   18.5        121.99930832\n",
      "  76.19696098  25.24046418  78.70184221 173.10910236  60.50148352\n",
      "  17.42189111  29.          33.         183.00147875 111.5634194 ]\n",
      "Val accuracy [0.7255638]\n"
     ]
    },
    {
     "name": "stderr",
     "output_type": "stream",
     "text": [
      "1000it [05:53,  2.85it/s]"
     ]
    },
    {
     "name": "stdout",
     "output_type": "stream",
     "text": [
      "[31,  1000] loss: 6.066\n"
     ]
    },
    {
     "name": "stderr",
     "output_type": "stream",
     "text": [
      "2000it [11:47,  2.83it/s]"
     ]
    },
    {
     "name": "stdout",
     "output_type": "stream",
     "text": [
      "[31,  2000] loss: 6.084\n"
     ]
    },
    {
     "name": "stderr",
     "output_type": "stream",
     "text": [
      "3000it [17:42,  2.83it/s]"
     ]
    },
    {
     "name": "stdout",
     "output_type": "stream",
     "text": [
      "[31,  3000] loss: 6.224\n"
     ]
    },
    {
     "name": "stderr",
     "output_type": "stream",
     "text": [
      "3713it [21:59,  2.81it/s]\n"
     ]
    },
    {
     "name": "stdout",
     "output_type": "stream",
     "text": [
      "val_loss 18.384344788586223\n",
      "[[133.95514 ]\n",
      " [ 21.593452]\n",
      " [ 60.319763]\n",
      " [142.93744 ]\n",
      " [173.57382 ]\n",
      " [ 20.238632]\n",
      " [ 85.0316  ]\n",
      " [ 20.98409 ]\n",
      " [ 38.942314]\n",
      " [ 79.136665]\n",
      " [ 49.15927 ]\n",
      " [ 19.089687]\n",
      " [153.41583 ]\n",
      " [ 65.34495 ]\n",
      " [137.9162  ]\n",
      " [ 40.170773]\n",
      " [ 34.501755]\n",
      " [174.4662  ]\n",
      " [ 21.18477 ]\n",
      " [167.4108  ]]\n",
      "[124.88538501  26.15        74.22575763 177.03251959 168.06789486\n",
      "  18.72        85.29020755  20.5         26.          41.35018298\n",
      "  61.23380728  17.89732887 218.21807568  86.6473694  168.22171559\n",
      "  20.15        51.3        156.6556518   23.83054148 216.25696954]\n",
      "Val accuracy [0.7269769]\n"
     ]
    },
    {
     "name": "stderr",
     "output_type": "stream",
     "text": [
      "1000it [05:54,  2.81it/s]"
     ]
    },
    {
     "name": "stdout",
     "output_type": "stream",
     "text": [
      "[32,  1000] loss: 5.802\n"
     ]
    },
    {
     "name": "stderr",
     "output_type": "stream",
     "text": [
      "2000it [11:49,  2.84it/s]"
     ]
    },
    {
     "name": "stdout",
     "output_type": "stream",
     "text": [
      "[32,  2000] loss: 5.855\n"
     ]
    },
    {
     "name": "stderr",
     "output_type": "stream",
     "text": [
      "3000it [17:43,  2.84it/s]"
     ]
    },
    {
     "name": "stdout",
     "output_type": "stream",
     "text": [
      "[32,  3000] loss: 6.042\n"
     ]
    },
    {
     "name": "stderr",
     "output_type": "stream",
     "text": [
      "3713it [21:56,  2.82it/s]\n"
     ]
    },
    {
     "name": "stdout",
     "output_type": "stream",
     "text": [
      "val_loss 19.271000542655223\n",
      "[[139.04259 ]\n",
      " [ 85.93916 ]\n",
      " [129.25337 ]\n",
      " [ 22.663857]\n",
      " [ 50.70854 ]\n",
      " [ 27.007114]\n",
      " [ 44.50588 ]\n",
      " [ 82.99162 ]\n",
      " [ 22.333776]\n",
      " [ 21.173086]\n",
      " [ 59.22319 ]\n",
      " [ 21.726662]\n",
      " [ 77.319336]\n",
      " [123.788635]\n",
      " [ 16.99973 ]\n",
      " [ 59.376705]\n",
      " [ 29.351955]\n",
      " [ 61.547653]\n",
      " [ 50.193947]\n",
      " [120.674774]]\n",
      "[162.74515064  89.47218146 160.72323579  17.9         45.13859945\n",
      "  29.86666679  31.1392924  125.66458763  19.17        33.09\n",
      "  87.30206716  24.925       85.27432208 120.03239308  13.1\n",
      "  64.87461302  24.00666883  41.51329929  83.02170899 154.62255267]\n",
      "Val accuracy [0.7258428]\n"
     ]
    },
    {
     "name": "stderr",
     "output_type": "stream",
     "text": [
      "1000it [05:59,  2.60it/s]"
     ]
    },
    {
     "name": "stdout",
     "output_type": "stream",
     "text": [
      "[33,  1000] loss: 5.623\n"
     ]
    },
    {
     "name": "stderr",
     "output_type": "stream",
     "text": [
      "2000it [12:03,  2.84it/s]"
     ]
    },
    {
     "name": "stdout",
     "output_type": "stream",
     "text": [
      "[33,  2000] loss: 5.868\n"
     ]
    },
    {
     "name": "stderr",
     "output_type": "stream",
     "text": [
      "3000it [17:57,  2.85it/s]"
     ]
    },
    {
     "name": "stdout",
     "output_type": "stream",
     "text": [
      "[33,  3000] loss: 5.905\n"
     ]
    },
    {
     "name": "stderr",
     "output_type": "stream",
     "text": [
      "3713it [22:09,  2.79it/s]\n"
     ]
    },
    {
     "name": "stdout",
     "output_type": "stream",
     "text": [
      "val_loss 18.82387387243713\n",
      "[[169.3485  ]\n",
      " [ 19.142431]\n",
      " [139.97107 ]\n",
      " [ 95.71274 ]\n",
      " [ 27.88266 ]\n",
      " [ 40.320755]\n",
      " [ 32.60106 ]\n",
      " [ 22.698093]\n",
      " [ 18.922234]\n",
      " [156.90678 ]\n",
      " [ 21.065182]\n",
      " [ 30.012295]\n",
      " [ 25.893488]\n",
      " [ 26.694866]\n",
      " [ 81.2596  ]\n",
      " [111.11559 ]\n",
      " [ 80.190956]\n",
      " [ 24.885365]\n",
      " [152.00484 ]\n",
      " [158.32587 ]]\n",
      "[192.87673126  18.54999962 179.49919367  77.66741988  23.92\n",
      "  40.52674235  49.64683816  24.           9.69       165.20896646\n",
      "  13.72        21.5         36.4763194   61.30725007 108.22419834\n",
      " 105.71470166 101.0851229   13.13799767  81.8        325.09043382]\n",
      "Val accuracy [0.7364985]\n"
     ]
    },
    {
     "name": "stderr",
     "output_type": "stream",
     "text": [
      "1000it [05:54,  2.82it/s]"
     ]
    },
    {
     "name": "stdout",
     "output_type": "stream",
     "text": [
      "[34,  1000] loss: 5.750\n"
     ]
    },
    {
     "name": "stderr",
     "output_type": "stream",
     "text": [
      "2000it [11:48,  2.82it/s]"
     ]
    },
    {
     "name": "stdout",
     "output_type": "stream",
     "text": [
      "[34,  2000] loss: 5.844\n"
     ]
    },
    {
     "name": "stderr",
     "output_type": "stream",
     "text": [
      "3000it [18:01,  2.83it/s]"
     ]
    },
    {
     "name": "stdout",
     "output_type": "stream",
     "text": [
      "[34,  3000] loss: 5.544\n"
     ]
    },
    {
     "name": "stderr",
     "output_type": "stream",
     "text": [
      "3713it [22:14,  2.78it/s]\n"
     ]
    },
    {
     "name": "stdout",
     "output_type": "stream",
     "text": [
      "val_loss 20.520095966938065\n",
      "[[ 20.986162]\n",
      " [ 70.98337 ]\n",
      " [ 22.819078]\n",
      " [151.67278 ]\n",
      " [ 22.184109]\n",
      " [ 93.77388 ]\n",
      " [ 49.616486]\n",
      " [129.46576 ]\n",
      " [ 27.895155]\n",
      " [100.02288 ]\n",
      " [ 22.532053]\n",
      " [153.6734  ]\n",
      " [176.6377  ]\n",
      " [ 24.555752]\n",
      " [121.9775  ]\n",
      " [ 25.737461]\n",
      " [122.62199 ]\n",
      " [ 25.311583]\n",
      " [ 19.761616]\n",
      " [129.0057  ]]\n",
      "[ 28.          81.55472727  40.9         96.05001013  28.\n",
      " 106.53659604  82.29958816 171.42372756  45.40728906  77.66741988\n",
      "  18.5        168.23360364 147.29120785  16.5        166.41558059\n",
      "  62.99212035  48.24922211  22.74        19.         160.27129596]\n",
      "Val accuracy [0.7302152]\n"
     ]
    },
    {
     "name": "stderr",
     "output_type": "stream",
     "text": [
      "1000it [05:54,  2.85it/s]"
     ]
    },
    {
     "name": "stdout",
     "output_type": "stream",
     "text": [
      "[35,  1000] loss: 5.487\n"
     ]
    },
    {
     "name": "stderr",
     "output_type": "stream",
     "text": [
      "2000it [11:48,  2.84it/s]"
     ]
    },
    {
     "name": "stdout",
     "output_type": "stream",
     "text": [
      "[35,  2000] loss: 5.483\n"
     ]
    },
    {
     "name": "stderr",
     "output_type": "stream",
     "text": [
      "3000it [17:41,  2.82it/s]"
     ]
    },
    {
     "name": "stdout",
     "output_type": "stream",
     "text": [
      "[35,  3000] loss: 5.769\n"
     ]
    },
    {
     "name": "stderr",
     "output_type": "stream",
     "text": [
      "3713it [21:59,  2.81it/s]\n"
     ]
    },
    {
     "name": "stdout",
     "output_type": "stream",
     "text": [
      "val_loss 19.355987008025007\n",
      "[[ 69.33811 ]\n",
      " [128.84624 ]\n",
      " [ 16.59415 ]\n",
      " [ 80.11147 ]\n",
      " [ 18.604511]\n",
      " [ 96.05713 ]\n",
      " [197.34    ]\n",
      " [127.74735 ]\n",
      " [147.78609 ]\n",
      " [ 67.809006]\n",
      " [ 21.09032 ]\n",
      " [142.35509 ]\n",
      " [ 75.83345 ]\n",
      " [128.23796 ]\n",
      " [ 94.9909  ]\n",
      " [ 23.761488]\n",
      " [145.1478  ]\n",
      " [ 18.900732]\n",
      " [ 22.700552]\n",
      " [ 18.328915]]\n",
      "[ 91.95475646 179.39454827  37.          91.83809891  16.12906202\n",
      "  87.18979431  45.70610392 148.67145103 198.27224242  64.31500535\n",
      "  33.5        156.33646242  88.44400761 109.96308337  90.29806092\n",
      "  20.84       154.94264988  20.15        23.20136211  22.5       ]\n",
      "Val accuracy [0.7331797]\n"
     ]
    },
    {
     "name": "stderr",
     "output_type": "stream",
     "text": [
      "1000it [05:54,  2.76it/s]"
     ]
    },
    {
     "name": "stdout",
     "output_type": "stream",
     "text": [
      "[36,  1000] loss: 5.388\n"
     ]
    },
    {
     "name": "stderr",
     "output_type": "stream",
     "text": [
      "2000it [11:50,  2.78it/s]"
     ]
    },
    {
     "name": "stdout",
     "output_type": "stream",
     "text": [
      "[36,  2000] loss: 5.606\n"
     ]
    },
    {
     "name": "stderr",
     "output_type": "stream",
     "text": [
      "3000it [17:45,  2.78it/s]"
     ]
    },
    {
     "name": "stdout",
     "output_type": "stream",
     "text": [
      "[36,  3000] loss: 5.432\n"
     ]
    },
    {
     "name": "stderr",
     "output_type": "stream",
     "text": [
      "3713it [21:57,  2.82it/s]\n"
     ]
    },
    {
     "name": "stdout",
     "output_type": "stream",
     "text": [
      "val_loss 18.5354077997731\n",
      "[[ 90.520515]\n",
      " [110.93834 ]\n",
      " [ 32.053055]\n",
      " [ 30.874237]\n",
      " [131.60783 ]\n",
      " [ 22.189846]\n",
      " [135.24832 ]\n",
      " [ 33.292946]\n",
      " [ 38.81659 ]\n",
      " [ 30.137869]\n",
      " [ 33.577126]\n",
      " [ 89.30017 ]\n",
      " [117.376076]\n",
      " [101.84803 ]\n",
      " [ 77.737465]\n",
      " [ 35.461357]\n",
      " [ 25.710394]\n",
      " [ 19.993795]\n",
      " [ 42.07391 ]\n",
      " [ 46.93444 ]]\n",
      "[126.18528825 153.5689085   23.63599762  15.2933846  135.83445178\n",
      "  21.         176.04967413  38.27332777  25.99163079  52.02132999\n",
      "  35.92683219  98.18700285 143.88938858  93.06841697  54.49993437\n",
      "  40.305       29.61333361  22.5         61.10771136  63.82494611]\n",
      "Val accuracy [0.734088]\n"
     ]
    },
    {
     "name": "stderr",
     "output_type": "stream",
     "text": [
      "1000it [06:00,  2.66it/s]"
     ]
    },
    {
     "name": "stdout",
     "output_type": "stream",
     "text": [
      "[37,  1000] loss: 5.556\n"
     ]
    },
    {
     "name": "stderr",
     "output_type": "stream",
     "text": [
      "2000it [12:04,  2.80it/s]"
     ]
    },
    {
     "name": "stdout",
     "output_type": "stream",
     "text": [
      "[37,  2000] loss: 5.587\n"
     ]
    },
    {
     "name": "stderr",
     "output_type": "stream",
     "text": [
      "3000it [17:58,  2.84it/s]"
     ]
    },
    {
     "name": "stdout",
     "output_type": "stream",
     "text": [
      "[37,  3000] loss: 5.357\n"
     ]
    },
    {
     "name": "stderr",
     "output_type": "stream",
     "text": [
      "3405it [20:20,  2.79it/s]\n"
     ]
    },
    {
     "ename": "KeyboardInterrupt",
     "evalue": "",
     "output_type": "error",
     "traceback": [
      "\u001b[0;31m---------------------------------------------------------------------------\u001b[0m",
      "\u001b[0;31mKeyboardInterrupt\u001b[0m                         Traceback (most recent call last)",
      "\u001b[0;32m/tmp/ipykernel_3676/3121304548.py\u001b[0m in \u001b[0;36m<module>\u001b[0;34m\u001b[0m\n\u001b[1;32m     20\u001b[0m \u001b[0;34m\u001b[0m\u001b[0m\n\u001b[1;32m     21\u001b[0m         \u001b[0;31m# print statistics\u001b[0m\u001b[0;34m\u001b[0m\u001b[0;34m\u001b[0m\u001b[0;34m\u001b[0m\u001b[0m\n\u001b[0;32m---> 22\u001b[0;31m         \u001b[0mrun_tot_loss\u001b[0m \u001b[0;34m+=\u001b[0m \u001b[0mloss\u001b[0m\u001b[0;34m.\u001b[0m\u001b[0mitem\u001b[0m\u001b[0;34m(\u001b[0m\u001b[0;34m)\u001b[0m\u001b[0;34m\u001b[0m\u001b[0;34m\u001b[0m\u001b[0m\n\u001b[0m\u001b[1;32m     23\u001b[0m         \u001b[0mrunning_loss\u001b[0m \u001b[0;34m+=\u001b[0m \u001b[0mloss\u001b[0m\u001b[0;34m.\u001b[0m\u001b[0mitem\u001b[0m\u001b[0;34m(\u001b[0m\u001b[0;34m)\u001b[0m\u001b[0;34m\u001b[0m\u001b[0;34m\u001b[0m\u001b[0m\n\u001b[1;32m     24\u001b[0m         \u001b[0;32mif\u001b[0m \u001b[0mi\u001b[0m \u001b[0;34m%\u001b[0m \u001b[0;36m1000\u001b[0m \u001b[0;34m==\u001b[0m \u001b[0;36m999\u001b[0m\u001b[0;34m:\u001b[0m\u001b[0;34m\u001b[0m\u001b[0;34m\u001b[0m\u001b[0m\n",
      "\u001b[0;31mKeyboardInterrupt\u001b[0m: "
     ]
    }
   ],
   "source": [
    "base = 0\n",
    "for epoch in range(2, 100):  # loop over the dataset multiple times\n",
    "    net.train()\n",
    "    running_loss = 0.0\n",
    "    run_tot_loss = 0.0\n",
    "    j = 0\n",
    "    for i, data in tqdm(enumerate(trainloader, 0)):\n",
    "#         get the inputs; data is a list of [inputs, labels]\n",
    "        inputs, labels = data\n",
    "        # zero the parameter gradients\n",
    "        outputs = net(inputs)\n",
    "#         print(labels, outputs)\n",
    "        optimizer.zero_grad()\n",
    "#         print(outputs)\n",
    "#         print(labels)\n",
    "#         print(outputs.shape, labels.shape)\n",
    "        loss = criterion(outputs, labels.reshape(-1, 1))\n",
    "        loss.backward()\n",
    "        optimizer.step()\n",
    "\n",
    "        # print statistics\n",
    "        run_tot_loss += loss.item()\n",
    "        running_loss += loss.item()\n",
    "        if i % 1000 == 999:\n",
    "            print('[%d, %5d] loss: %.3f' %\n",
    "                  (epoch, i + 1, running_loss / 1000))\n",
    "            running_loss = 0.0\n",
    "        j += 1\n",
    "    train_l.append(run_tot_loss / j)\n",
    "    running_val_loss = 0\n",
    "    correct = 0\n",
    "    total = 0\n",
    "    torch.save(net.state_dict(), 'saved_models/resnet_length_v2_' + str(epoch + base) + '.pth')\n",
    "    k = 0\n",
    "    net.eval()\n",
    "    val_preds = []\n",
    "    val_labels = []\n",
    "    for j, data  in enumerate(valloader):\n",
    "        k+=1\n",
    "        images, labels = data\n",
    "        with torch.no_grad():\n",
    "            outputs = net(images)\n",
    "            val_preds.append(outputs.detach().cpu().numpy())\n",
    "            val_labels.append(labels.detach().cpu().numpy())\n",
    "#             preds = torch.argmax(nn.functional.softmax(outputs, dim=1), dim=1)\n",
    "#             correct += (preds == labels).sum()\n",
    "#             total += labels.shape[0]\n",
    "            loss = criterion(outputs, labels.reshape(-1, 1))\n",
    "            running_val_loss += loss.item()\n",
    "    print(\"val_loss\", running_val_loss / k)\n",
    "    val_l.append(running_val_loss / k)\n",
    "    val_acc = length_score(np.concatenate(val_preds), np.concatenate(val_labels))\n",
    "    print(np.concatenate(val_preds)[:20])\n",
    "    print(np.concatenate(val_labels)[:20])\n",
    "    print(\"Val accuracy\", val_acc)\n",
    "    val_loss = running_val_loss / k\n",
    "    if val_loss < min_val:\n",
    "        min_val = val_loss\n",
    "        best_model = net\n",
    "        best_epoch = epoch\n",
    "print('Finished Training')"
   ]
  },
  {
   "cell_type": "code",
   "execution_count": 98,
   "id": "a64d4609",
   "metadata": {},
   "outputs": [
    {
     "data": {
      "text/plain": [
       "['positives_v3',\n",
       " 'inference',\n",
       " 'negatives_v2',\n",
       " 'positives_v2',\n",
       " 'positives',\n",
       " 'negatives']"
      ]
     },
     "execution_count": 98,
     "metadata": {},
     "output_type": "execute_result"
    }
   ],
   "source": [
    "os.listdir(\"/home/oqbrady/data/data/sub_boxes/\")"
   ]
  },
  {
   "cell_type": "code",
   "execution_count": 209,
   "id": "44aed1b2",
   "metadata": {},
   "outputs": [
    {
     "name": "stdout",
     "output_type": "stream",
     "text": [
      "test_loss 0.4040759995670212\n",
      "test accuracy tensor(0.8642, device='cuda:0')\n"
     ]
    }
   ],
   "source": [
    "preds_all = []\n",
    "correct_all = []\n",
    "correct = 0\n",
    "total = 0\n",
    "running_val_loss = 0\n",
    "for j, data  in enumerate(valloader):\n",
    "    images, labels = data\n",
    "    with torch.no_grad():\n",
    "        outputs = net(images)\n",
    "        soft = nn.functional.softmax(outputs, dim=1)\n",
    "#         print(soft)\n",
    "#         soft[:, 1] = soft[:, 1] + 0.9\n",
    "#         print(soft)\n",
    "        preds = torch.argmax(soft, dim=1)\n",
    "        preds_all.append(preds.detach().cpu().numpy())\n",
    "        correct_all.append(labels.detach().cpu().numpy())\n",
    "        correct += (preds == labels).sum()\n",
    "        total += labels.shape[0]\n",
    "        loss = criterion(outputs, labels)\n",
    "        running_val_loss += loss.item()\n",
    "print(\"test_loss\", running_val_loss / j)\n",
    "print(\"test accuracy\", correct / total)"
   ]
  },
  {
   "cell_type": "code",
   "execution_count": 210,
   "id": "987475fd",
   "metadata": {},
   "outputs": [
    {
     "data": {
      "text/plain": [
       "<sklearn.metrics._plot.confusion_matrix.ConfusionMatrixDisplay at 0x7f3da89f3650>"
      ]
     },
     "execution_count": 210,
     "metadata": {},
     "output_type": "execute_result"
    },
    {
     "data": {
      "image/png": "[encoded data removed]",
      "text/plain": [
       "<Figure size 432x288 with 2 Axes>"
      ]
     },
     "metadata": {
      "needs_background": "light"
     },
     "output_type": "display_data"
    }
   ],
   "source": [
    "x = confusion_matrix(np.concatenate(correct_all), np.concatenate(preds_all))\n",
    "ConfusionMatrixDisplay(x).plot()"
   ]
  },
  {
   "cell_type": "code",
   "execution_count": null,
   "id": "3adead03",
   "metadata": {},
   "outputs": [],
   "source": []
  }
 ],
 "metadata": {
  "kernelspec": {
   "display_name": "Python 3",
   "language": "python",
   "name": "python3"
  },
  "language_info": {
   "codemirror_mode": {
    "name": "ipython",
    "version": 3
   },
   "file_extension": ".py",
   "mimetype": "text/x-python",
   "name": "python",
   "nbconvert_exporter": "python",
   "pygments_lexer": "ipython3",
   "version": "3.7.10"
  }
 },
 "nbformat": 4,
 "nbformat_minor": 5
}
